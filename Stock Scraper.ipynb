{
 "nbformat": 4,
 "nbformat_minor": 2,
 "metadata": {
  "language_info": {
   "name": "python",
   "codemirror_mode": {
    "name": "ipython",
    "version": 3
   },
   "version": "3.7.4-final"
  },
  "orig_nbformat": 2,
  "file_extension": ".py",
  "mimetype": "text/x-python",
  "name": "python",
  "npconvert_exporter": "python",
  "pygments_lexer": "ipython3",
  "version": 3,
  "kernelspec": {
   "name": "python37464bitbasecondaa55f0d4ed6694486844fd6f791e22584",
   "display_name": "Python 3.7.4 64-bit ('base': conda)"
  }
 },
 "cells": [
  {
   "cell_type": "markdown",
   "metadata": {},
   "source": [
    "## CS 5010: Semester Project\n"
   ]
  },
  {
   "cell_type": "markdown",
   "metadata": {},
   "source": [
    "Pull last X trading days stock activity (X = 98?; based on visible values, not URL defined)\n",
    "\n",
    " - Convert closing stock data to % change (x) \n",
    " - Common size performance (x)\n",
    " - Common size date range with google trends ( )\n",
    "\n",
    " - Send multiple ticker requests (x)\n",
    " - Need to limit the number of requests ( )\n",
    " - Look up ticker names ( )\n"
   ]
  },
  {
   "cell_type": "code",
   "execution_count": null,
   "metadata": {},
   "outputs": [],
   "source": [
    "#############################################################################################\n",
    "################################ CORE CODE ##################################################\n",
    "#############################################################################################"
   ]
  },
  {
   "cell_type": "code",
   "execution_count": 167,
   "metadata": {},
   "outputs": [
    {
     "name": "stdout",
     "output_type": "stream",
     "text": "We recieved data for tickers:['V', 'MSFT', 'AAPL', 'AMZN']\n"
    }
   ],
   "source": [
    "import requests\n",
    "from bs4 import BeautifulSoup\n",
    "from time import sleep\n",
    "import csv \n",
    "import pandas as pd\n",
    "import numpy as np\n",
    "\n",
    "#############################################################################################\n",
    "#Request ticker information\n",
    "tickers = input(\"Please provide stock symbols separated by commas, max 5:\") #aapl (Apple, inc.)\n",
    "tickers = tickers.split(\",\")\n",
    "\n",
    "#clean up white space and make all tickers upper case\n",
    "for x in range(0,len(tickers)):\n",
    "    tickers[x] = tickers[x].strip()\n",
    "    tickers[x] = tickers[x].upper()\n",
    "\n",
    "\n",
    "#############################################################################################\n",
    "#establish global variables (unclear if this is necessary)\n",
    "STOCKDATA = []\n",
    "STOCKNAMES = []\n",
    "\n",
    "for stock in tickers:\n",
    "    try:\n",
    "        stock_url = \"https://finance.yahoo.com/quote/\"+stock+\"/history?p=\"+stock+\"\"\n",
    "        r = requests.get(stock_url)\n",
    "        data = r.text\n",
    "        soup = BeautifulSoup(data)\n",
    "\n",
    "        contents = []\n",
    "\n",
    "        for row in soup.find_all('tbody'):    \n",
    "            for srow in row.find_all('tr'):\n",
    "                for content in srow.find_all('td'):\n",
    "                    if \"Dividend\" in content.text:\n",
    "                        contents.pop() #removes prior entry of date of dividend data point and ignores dividend data point\n",
    "                        continue\n",
    "                    else:\n",
    "                        contents.append(content.text)\n",
    "\n",
    "#############################################################################################\n",
    "\n",
    "#pulled all data into one long list, but there are 7 columns of data\n",
    "#list comprehension to break out the full list in groupings by the 7 columns\n",
    "        adj_contents = [contents[i * 7:(i + 1) * 7] for i in range((len(contents) + 7 - 1) // 7 )]\n",
    "\n",
    "#the 7 columns of data, decided not to include most in this analysis\n",
    "        date=[]\n",
    "        #open_price=[]\n",
    "        #high_price=[]\n",
    "        #low_price=[]\n",
    "        #close_price=[]\n",
    "        adj_close_price=[]\n",
    "        #volume = []\n",
    "        percent_change = []\n",
    "        normalized_returns = []\n",
    "\n",
    "#assigning the values to the columns\n",
    "        for i in range(0, len(adj_contents)): #change to a count for amount of days requested...up to 97\n",
    "            date.append(adj_contents[i][0])\n",
    "            #open_price.append(float(adj_contents[i][1]))\n",
    "            #high_price.append(float(adj_contents[i][2]))\n",
    "            #low_price.append(float(adj_contents[i][3]))\n",
    "            #close_price.append(float(adj_contents[i][4]))\n",
    "            adj_close_price.append(float(adj_contents[i][5].replace(\",\",\"\")))\n",
    "            #volume.append(float(adj_contents[i][6].replace(\",\",\"\")))\n",
    "\n",
    "#calculating the percent change from prior close to today        \n",
    "        for j in range(0, len(adj_close_price)):\n",
    "            if j == len(adj_close_price)-1:\n",
    "                percent_change.append(0.00)\n",
    "            else:\n",
    "                percent_change.append(round(adj_close_price[j]/adj_close_price[j+1]-1,3))\n",
    "\n",
    "#normalizing returns for comparison across companies\n",
    "        normalizer = 100\n",
    "\n",
    "        for x in range(len(percent_change), 0,-1):\n",
    "            if x == len(percent_change):\n",
    "                normalized_returns.append(normalizer)\n",
    "            else:\n",
    "                normalizer = round(normalizer * (1+percent_change[x-1]),3)\n",
    "                normalized_returns.append(normalizer)\n",
    "\n",
    "        normalized_returns.reverse()\n",
    "\n",
    "#############################################################################################\n",
    "\n",
    "#placing the values into a panda data frame\n",
    "        x = pd.DataFrame({\"Date\": date, \n",
    "                          \"Adj Close Price\": adj_close_price,\n",
    "                          \"Percent Change\": percent_change,\n",
    "                          \"Normalized Returns\": normalized_returns})\n",
    "        STOCKDATA.append(x)\n",
    "        STOCKNAMES.append(stock)\n",
    "        \n",
    "\n",
    "    except Exception as e:\n",
    "        print(e)\n",
    "        #print(\"I'm sorry, {} was not a recognized stock ticker\".format(stock))\n",
    "    \n",
    "#delay added to avoid triggering web scrapping blocks\n",
    "    delay = [1, 2, 3, 4, 5]\n",
    "    delay = np.random.choice(delay)\n",
    "\n",
    "    sleep(delay)\n",
    "\n",
    "#############################################################################################\n",
    "#confirming what information was brought into the system\n",
    "print(\"We recieved data for tickers:{}\".format(STOCKNAMES))"
   ]
  },
  {
   "cell_type": "code",
   "execution_count": 166,
   "metadata": {},
   "outputs": [
    {
     "name": "stdout",
     "output_type": "stream",
     "text": "AMZN\n            Date  Adj Close Price  Percent Change  Normalized Returns\n0   Mar 20, 2020          1846.09          -0.019             103.910\n1   Mar 19, 2020          1880.93           0.028             105.923\n2   Mar 18, 2020          1830.00           0.012             103.038\n3   Mar 17, 2020          1807.84           0.070             101.816\n4   Mar 16, 2020          1689.15          -0.054              95.155\n..           ...              ...             ...                 ...\n95  Nov 01, 2019          1791.44           0.008             100.792\n96  Oct 31, 2019          1776.66          -0.002              99.992\n97  Oct 30, 2019          1779.99           0.010             100.192\n98  Oct 29, 2019          1762.71          -0.008              99.200\n99  Oct 28, 2019          1777.08           0.000             100.000\n\n[100 rows x 4 columns]\n"
    }
   ],
   "source": [
    "#just to represent that the information was brought down in ordered fashion/view results\n",
    "print(STOCKNAMES[2])\n",
    "print(STOCKDATA[2])"
   ]
  },
  {
   "cell_type": "markdown",
   "metadata": {},
   "source": [
    "-----\n",
    "Scratch work"
   ]
  },
  {
   "cell_type": "code",
   "execution_count": 147,
   "metadata": {},
   "outputs": [
    {
     "data": {
      "text/plain": "[82.294,\n 85.367,\n 83.285,\n 88.601,\n 85.275,\n 98.584,\n 89.785,\n 96.96,\n 102.387,\n 95.958,\n 103.403,\n 104.871,\n 109.013,\n 104.219,\n 107.887,\n 101.973,\n 100.963,\n 104.951,\n 105.585,\n 111.377,\n 116.993,\n 118.414,\n 119.489,\n 118.306,\n 117.835,\n 116.208,\n 116.092,\n 114.151,\n 115.304,\n 113.488,\n 113.602,\n 113.489,\n 113.945,\n 112.372,\n 111.37,\n 116.496,\n 114.661,\n 113.526,\n 112.849,\n 114.684,\n 115.492,\n 116.306,\n 115.958,\n 114.47,\n 112.336,\n 111.666,\n 109.584,\n 109.147,\n 108.281,\n 107.957,\n 107.207,\n 105.415,\n 105.732,\n 105.944,\n 106.798,\n 105.013,\n 105.013,\n 105.86,\n 105.754,\n 104.915,\n 104.601,\n 105.127,\n 104.293,\n 103.363,\n 103.674,\n 104.09,\n 103.469,\n 102.04,\n 101.735,\n 101.837,\n 102.246,\n 101.839,\n 101.636,\n 100.929,\n 101.64,\n 101.538,\n 103.084,\n 102.981,\n 101.961,\n 101.052,\n 100.25,\n 100.451,\n 101.466,\n 102.078,\n 100.372,\n 100.472,\n 100.472,\n 100.072,\n 100.273,\n 100.173,\n 99.873,\n 99.574,\n 98.686,\n 98.489,\n 99.887,\n 100.998,\n 99.8,\n 100]"
     },
     "execution_count": 147,
     "metadata": {},
     "output_type": "execute_result"
    }
   ],
   "source": [
    "percent_change = []\n",
    "normalized_returns = []\n",
    "\n",
    "\n",
    "for j in range(0, len(adj_close_price)-1):\n",
    "    if j == len(adj_close_price):\n",
    "        percent_change.append(0.00)\n",
    "    else:\n",
    "        percent_change.append(round(adj_close_price[j]/adj_close_price[j+1]-1,3))\n",
    "\n",
    "normalizer = 100\n",
    "\n",
    "for x in range(len(percent_change)+1, 0,-1):\n",
    "    if x == len(percent_change)+1:\n",
    "        normalized_returns.append(normalizer)\n",
    "    else:\n",
    "        normalizer = round(normalizer * (1+percent_change[x-1]),3)\n",
    "        normalized_returns.append(normalizer)\n",
    "\n",
    "normalized_returns.reverse()\n",
    "normalized_returns\n",
    "#percent_change\n"
   ]
  },
  {
   "cell_type": "markdown",
   "metadata": {},
   "source": [
    "############### Original ############### \n"
   ]
  },
  {
   "cell_type": "code",
   "execution_count": 55,
   "metadata": {},
   "outputs": [
    {
     "name": "stdout",
     "output_type": "stream",
     "text": "Date Open Price High Price Low Price Close Price Adj Close Price  \\\n0   Mar 20, 2020     154.82     158.26    145.67      146.83          146.83   \n1   Mar 19, 2020     146.92     157.25    141.47      152.25          152.25   \n2   Mar 18, 2020     148.46     150.68    139.80      148.48          148.48   \n3   Mar 17, 2020     155.75     163.70    149.25      157.89          157.89   \n4   Mar 16, 2020     151.14     165.31    147.98      152.01          152.01   \n..           ...        ...        ...       ...         ...             ...   \n93  Nov 05, 2019     179.07     179.56    175.18      176.37          175.82   \n94  Nov 04, 2019     182.08     182.40    178.81      178.95          178.39   \n95  Nov 01, 2019     180.13     181.32    179.56      180.93          180.37   \n96  Oct 31, 2019     179.25     179.70    178.01      178.86          178.30   \n97  Oct 30, 2019     177.79     179.42    176.39      179.25          178.69   \n\n        Volume  \n0   18,689,000  \n1   19,362,800  \n2   22,787,500  \n3   22,298,000  \n4   23,692,000  \n..         ...  \n93   7,447,500  \n94   7,154,800  \n95   7,000,100  \n96   6,830,800  \n97   5,374,800  \n\n[98 rows x 7 columns]\n"
    }
   ],
   "source": [
    "import requests\n",
    "from bs4 import BeautifulSoup\n",
    "import csv \n",
    "import pandas as pd\n",
    "\n",
    "#############################################################################################\n",
    "\n",
    "ticker = input(\"Please provide a stock symbol:\") #aapl (Apple, inc.)\n",
    "ticker = ticker.upper()\n",
    "\n",
    "#############################################################################################\n",
    "\n",
    "try:\n",
    "    stock_url = \"https://finance.yahoo.com/quote/\"+ticker+\"/history?p=\"+ticker+\"\"\n",
    "    r = requests.get(stock_url)\n",
    "    data = r.text\n",
    "    soup = BeautifulSoup(data)\n",
    "\n",
    "    contents = []\n",
    "\n",
    "    for row in soup.find_all('tbody'):\n",
    "    \n",
    "        for srow in row.find_all('tr'):\n",
    "            for content in srow.find_all('td'):\n",
    "                if \"Dividend\" in content.text:\n",
    "                    contents.pop() #removes prior entry of date of dividend data point and ignores dividend data point\n",
    "                    continue\n",
    "                else:\n",
    "                    contents.append(content.text)\n",
    "\n",
    "#############################################################################################\n",
    "\n",
    "#pulled all data into one long list, but there are 7 columns of data\n",
    "#list comprehension to break out the full list in groupings by the 7 columns\n",
    "    adj_contents = [contents[i * 7:(i + 1) * 7] for i in range((len(contents) + 7 - 1) // 7 )]\n",
    "\n",
    "#the 7 columns of data\n",
    "    date=[]\n",
    "    open_price=[]\n",
    "    high_price=[]\n",
    "    low_price=[]\n",
    "    close_price=[]\n",
    "    adj_close_price=[]\n",
    "    volume = []\n",
    "\n",
    "#assigning the values to the columns\n",
    "    for i in range(0, len(adj_contents)):\n",
    "        date.append(adj_contents[i][0])\n",
    "        open_price.append(adj_contents[i][1])\n",
    "        high_price.append(adj_contents[i][2])\n",
    "        low_price.append(adj_contents[i][3])\n",
    "        close_price.append(adj_contents[i][4])\n",
    "        adj_close_price.append(adj_contents[i][5])\n",
    "        volume.append(adj_contents[i][6])\n",
    "\n",
    "#############################################################################################\n",
    "\n",
    "    #placing the values into a panda data frame\n",
    "    x = pd.DataFrame({\"Date\": date, \"Open Price\": open_price, \"High Price\": high_price, \"Low Price\": low_price, \"Close Price\": close_price, \"Adj Close Price\": adj_close_price, \"Volume\": volume})\n",
    "    print(x)\n",
    "\n",
    "except:\n",
    "    print(\"I'm sorry, that ticker was not recognized\")"
   ]
  },
  {
   "cell_type": "markdown",
   "metadata": {},
   "source": [
    "Show:\n",
    " - high 30 day\n",
    " - low 30 day\n",
    " - relative % over 30 days\n"
   ]
  },
  {
   "cell_type": "markdown",
   "metadata": {},
   "source": [
    "Create Listing of S&P 500 Companies by Sector for optional selection?\n",
    "\n",
    "Add suggested stock pairings?\n"
   ]
  }
 ]
}