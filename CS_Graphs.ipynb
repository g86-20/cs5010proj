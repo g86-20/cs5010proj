{
 "nbformat": 4,
 "nbformat_minor": 2,
 "metadata": {
  "language_info": {
   "name": "python",
   "codemirror_mode": {
    "name": "ipython",
    "version": 3
   },
   "version": "3.7.4-final"
  },
  "orig_nbformat": 2,
  "file_extension": ".py",
  "mimetype": "text/x-python",
  "name": "python",
  "npconvert_exporter": "python",
  "pygments_lexer": "ipython3",
  "version": 3,
  "kernelspec": {
   "name": "python37464bitbasecondaa55f0d4ed6694486844fd6f791e22584",
   "display_name": "Python 3.7.4 64-bit ('base': conda)"
  }
 },
 "cells": [
  {
   "cell_type": "code",
   "execution_count": 1,
   "metadata": {},
   "outputs": [
    {
     "output_type": "stream",
     "name": "stdout",
     "text": "Writing CS_Graphs.py\n"
    }
   ],
   "source": [
    "%%writefile CS_Graphs.py\n",
    "\n",
    "import plotly.graph_objects as go\n",
    "\n",
    "def graph_normalized_all(stock_names,stock_data):\n",
    "\n",
    "    fig = go.Figure()\n",
    "    for x in stock_names:\n",
    "        fig.add_trace(go.Scatter(x=stock_data[x]['Date'], y=stock_data[x]['Normalized Returns'],\n",
    "                                 mode='lines',\n",
    "                                 name=stock_names[x]))\n",
    "    fig.update_layout(title='Historical Normalized Stock Returns',\n",
    "                      xaxis_title='Date',\n",
    "                      yaxis_title='Normalized Stock Returns')\n",
    "    return fig.show()"
   ]
  }
 ]
}