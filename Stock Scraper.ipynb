{
 "nbformat": 4,
 "nbformat_minor": 2,
 "metadata": {
  "language_info": {
   "name": "python",
   "codemirror_mode": {
    "name": "ipython",
    "version": 3
   },
   "version": "3.7.4-final"
  },
  "orig_nbformat": 2,
  "file_extension": ".py",
  "mimetype": "text/x-python",
  "name": "python",
  "npconvert_exporter": "python",
  "pygments_lexer": "ipython3",
  "version": 3,
  "kernelspec": {
   "name": "python37464bitbasecondab79f51494f544d3281e4fbec1b0b78c3",
   "display_name": "Python 3.7.4 64-bit ('base': conda)"
  }
 },
 "cells": [
  {
   "cell_type": "markdown",
   "metadata": {},
   "source": [
    "### CS 5010: Python and Web Scraper\n",
    "Due: March 3, 2020\n",
    "\n",
    "Brad Howlett (bth2g)"
   ]
  },
  {
   "cell_type": "markdown",
   "metadata": {},
   "source": [
    "Pull last X trading days stock activity (X = 98?; based on visible values, not URL defined)"
   ]
  },
  {
   "cell_type": "code",
   "execution_count": 4,
   "metadata": {},
   "outputs": [
    {
     "name": "stdout",
     "output_type": "stream",
     "text": "I'm sorry, that ticker was not recognized\n"
    }
   ],
   "source": [
    "import requests\n",
    "from bs4 import BeautifulSoup\n",
    "import csv \n",
    "import pandas as pd\n",
    "\n",
    "#############################################################################################\n",
    "\n",
    "ticker = input(\"Please provide a stock symbol:\") #aapl (Apple, inc.)\n",
    "ticker = ticker.upper()\n",
    "\n",
    "#############################################################################################\n",
    "\n",
    "try:\n",
    "    stock_url = \"https://finance.yahoo.com/quote/\"+ticker+\"/history?p=\"+ticker+\"\"\n",
    "    r = requests.get(stock_url)\n",
    "    data = r.text\n",
    "    soup = BeautifulSoup(data)\n",
    "\n",
    "    contents = []\n",
    "\n",
    "    for row in soup.find_all('tbody'):\n",
    "    \n",
    "        for srow in row.find_all('tr'):\n",
    "            for content in srow.find_all('td'):\n",
    "                if \"Dividend\" in content.text:\n",
    "                    contents.pop() #removes prior entry of date of dividend data point and ignores dividend data point\n",
    "                    continue\n",
    "                else:\n",
    "                    contents.append(content.text)\n",
    "\n",
    "#############################################################################################\n",
    "\n",
    "#pulled all data into one long list, but there are 7 columns of data\n",
    "#list comprehension to break out the full list in groupings by the 7 columns\n",
    "    adj_contents = [contents[i * 7:(i + 1) * 7] for i in range((len(contents) + 7 - 1) // 7 )]\n",
    "\n",
    "#the 7 columns of data\n",
    "    date=[]\n",
    "    open_price=[]\n",
    "    high_price=[]\n",
    "    low_price=[]\n",
    "    close_price=[]\n",
    "    adj_close_price=[]\n",
    "    volume = []\n",
    "\n",
    "#assigning the values to the columns\n",
    "    for i in range(0, len(adj_contents)):\n",
    "        date.append(adj_contents[i][0])\n",
    "        open_price.append(adj_contents[i][1])\n",
    "        high_price.append(adj_contents[i][2])\n",
    "        low_price.append(adj_contents[i][3])\n",
    "        close_price.append(adj_contents[i][4])\n",
    "        adj_close_price.append(adj_contents[i][5])\n",
    "        volume.append(adj_contents[i][6])\n",
    "\n",
    "#############################################################################################\n",
    "\n",
    "    #placing the values into a panda data frame\n",
    "    x = pd.DataFrame({\"Date\": date, \"Open Price\": open_price, \"High Price\": high_price, \"Low Price\": low_price, \"Close Price\": close_price, \"Adj Close Price\": adj_close_price, \"Volume\": volume})\n",
    "    print(x)\n",
    "\n",
    "except:\n",
    "    print(\"I'm sorry, that ticker was not recognized\")"
   ]
  },
  {
   "cell_type": "markdown",
   "metadata": {},
   "source": [
    "Show:\n",
    " - high 30 day\n",
    " - low 30 day\n",
    " - relative % over 30 days\n"
   ]
  }
 ]
}