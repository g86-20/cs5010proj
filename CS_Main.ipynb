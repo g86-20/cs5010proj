{
 "nbformat": 4,
 "nbformat_minor": 2,
 "metadata": {
  "language_info": {
   "name": "python",
   "codemirror_mode": {
    "name": "ipython",
    "version": 3
   },
   "version": "3.7.4-final"
  },
  "orig_nbformat": 2,
  "file_extension": ".py",
  "mimetype": "text/x-python",
  "name": "python",
  "npconvert_exporter": "python",
  "pygments_lexer": "ipython3",
  "version": 3,
  "kernelspec": {
   "name": "python37464bitbasecondab79f51494f544d3281e4fbec1b0b78c3",
   "display_name": "Python 3.7.4 64-bit ('base': conda)"
  }
 },
 "cells": [
  {
   "cell_type": "code",
   "execution_count": 41,
   "metadata": {},
   "outputs": [],
   "source": [
    "#from CS_StockData import *\n",
    "#from CS_StockData import getStockData\n",
    "#from CS_Graphs import graph_normalized_all\n",
    "#from CS_Graphs import graph_normalized_single\n",
    "\n",
    "#does not work for some reason (?)\n",
    "#from CS_Graphs import graph_normalized_single\n",
    "\n",
    "#############################################################################################\n",
    "#Request ticker information\n",
    "#tickers = input(\"Please provide stock symbols separated by commas, max 5:\") #aapl (Apple, inc.)\n",
    "#tickers = tickers.split(\",\")\n",
    "\n",
    "#clean up white space and make all tickers upper case\n",
    "#for x in range(0,len(tickers)):\n",
    "#    tickers[x] = tickers[x].strip()\n",
    "#    tickers[x] = tickers[x].upper()\n",
    "\n",
    "#############################################################################################\n",
    "\n",
    "\n",
    "#stock_names, stock_data = getStockData(tickers)\n",
    "\n",
    ""
   ]
  },
  {
   "cell_type": "code",
   "execution_count": 6,
   "metadata": {},
   "outputs": [],
   "source": [
    "#cleaned up presentation of actual main program (no imports)\n",
    "\n",
    "tickers = input(\"Please provide stock symbols separated by commas, max 5:\") #aapl (Apple, inc.)\n",
    "x, y = getStockData(tickers)"
   ]
  },
  {
   "cell_type": "code",
   "execution_count": 7,
   "metadata": {},
   "outputs": [
    {
     "output_type": "execute_result",
     "data": {
      "text/plain": "{'V': 'Visa Inc.', 'MSFT': 'Microsoft Corporation', 'AAPL': 'Apple Inc.'}"
     },
     "metadata": {},
     "execution_count": 7
    }
   ],
   "source": [
    "x"
   ]
  },
  {
   "cell_type": "markdown",
   "metadata": {},
   "source": [
    "## Web Scraping / Data Gathering Module"
   ]
  },
  {
   "cell_type": "code",
   "execution_count": 23,
   "metadata": {},
   "outputs": [],
   "source": [
    "#%%writefile CS_StockData.py\n",
    "\n",
    "import requests\n",
    "from bs4 import BeautifulSoup\n",
    "from time import sleep\n",
    "import csv \n",
    "import pandas as pd\n",
    "import numpy as np\n",
    "import re\n",
    "\n",
    "def getStockData(user_input):\n",
    "    '''Pulls data from Yahoo Finance'''\n",
    "\n",
    "    tickers = cleanUserStockInput(user_input)\n",
    "    \n",
    "    stockData = {}\n",
    "    stockNames = {}\n",
    "    \n",
    "    for stock in tickers:\n",
    "        try:\n",
    "            stock_url = \"https://finance.yahoo.com/quote/\"+stock+\"/history?p=\"+stock+\"\"\n",
    "            r = requests.get(stock_url)\n",
    "            data = r.text\n",
    "            soup = BeautifulSoup(data)\n",
    "\n",
    "            contents = []\n",
    "\n",
    "            for row in soup.find_all('tbody'):    \n",
    "                for srow in row.find_all('tr'):\n",
    "                    for content in srow.find_all('td'):\n",
    "                        if \"Dividend\" in content.text:\n",
    "                            #removes prior entry of date of dividend data point and ignores dividend data point\n",
    "                            contents.pop() \n",
    "                            continue\n",
    "                        else:\n",
    "                            contents.append(content.text)\n",
    "            \n",
    "            stockData[stock] = defineStockData(contents)\n",
    "            stockNames[stock] = defineStockName(stock)\n",
    "\n",
    "        except:\n",
    "            continue\n",
    "            #stockErrors.append(stock)\n",
    "            \n",
    "        #delay added to avoid triggering web scrapping blocks\n",
    "        delay = [0.1, 0.5, 1, 2, 2.5]\n",
    "        delay = np.random.choice(delay)\n",
    "\n",
    "        sleep(delay)\n",
    "    \n",
    "    return stockNames, stockData\n",
    "\n",
    "\n",
    "def defineStockData(raw_list):\n",
    "    '''Transforming scraped stock data into columns of data'''\n",
    "\n",
    "    #the 7 columns of data, decided not to include most in this analysis\n",
    "    date=[]\n",
    "    open_price=[]\n",
    "    high_price=[]\n",
    "    low_price=[]\n",
    "    close_price=[]\n",
    "    adj_close_price=[]\n",
    "    volume = []\n",
    "    percent_change = []\n",
    "    normalized_returns = []\n",
    "\n",
    "    #pulled all data into one long list, but there are 7 columns of data\n",
    "    #list comprehension to break out the full list in groupings by the 7 columns\n",
    "    adj_contents = [raw_list[i * 7:(i + 1) * 7] for i in range((len(raw_list) + 7 - 1) // 7 )]\n",
    "\n",
    "    #assigning the values to the columns\n",
    "    for i in range(0, len(adj_contents)): #change to a count for amount of days requested...up to 97\n",
    "        date.append(adj_contents[i][0])\n",
    "        open_price.append(float(adj_contents[i][1]))\n",
    "        high_price.append(float(adj_contents[i][2]))\n",
    "        low_price.append(float(adj_contents[i][3]))\n",
    "        close_price.append(float(adj_contents[i][4]))\n",
    "        adj_close_price.append(float(adj_contents[i][5].replace(\",\",\"\")))\n",
    "        volume.append(float(adj_contents[i][6].replace(\",\",\"\")))\n",
    "\n",
    "    #calculating the percent change from prior close to today        \n",
    "    for j in range(0, len(adj_close_price)):\n",
    "        if j == len(adj_close_price)-1:\n",
    "            percent_change.append(0.00)\n",
    "        else:\n",
    "            percent_change.append(round(adj_close_price[j]/adj_close_price[j+1]-1,3))\n",
    "\n",
    "    #normalizing returns for comparison across companies\n",
    "    normalizer = 100\n",
    "\n",
    "    for x in range(len(percent_change), 0,-1):\n",
    "        if x == len(percent_change):\n",
    "            normalized_returns.append(normalizer)\n",
    "        else:\n",
    "            normalizer = round(normalizer * (1+percent_change[x-1]),3)\n",
    "            normalized_returns.append(normalizer)\n",
    "\n",
    "    normalized_returns.reverse()\n",
    "\n",
    "    return addStockToDF(date, open_price, high_price, low_price, close_price, adj_close_price, volume, percent_change,normalized_returns)\n",
    "\n",
    "\n",
    "\n",
    "def addStockToDF(date,open_price,high_price,low_price,close_price,adj_close_price,volume, percent_change,normalized_returns):\n",
    "    '''Placing stock data into panda data frame'''\n",
    "    #placing the values into a panda data frame\n",
    "    x = pd.DataFrame({\"Date\": date,\n",
    "                      \"Open Price\": open_price,\n",
    "                      \"High Price\": high_price,\n",
    "                      \"Low Price\": low_price,\n",
    "                      \"Close Price\": close_price,\n",
    "                      \"Adj Close Price\": adj_close_price,\n",
    "                      \"Volume\":volume,\n",
    "                      \"Percent Change\": percent_change,\n",
    "                      \"Normalized Returns\": normalized_returns})\n",
    "    x[\"Date\"] = pd.to_datetime(x[\"Date\"]) #allows interpretation as dates vs. ordered numbers\n",
    "\n",
    "    #placing data frame into dictionary with stock ticker as key\n",
    "    return x\n",
    "\n",
    "\n",
    "\n",
    "def cleanUserStockInput(tickers):\n",
    "    '''Cleans and formats user stock input'''\n",
    "    tickers = tickers.split(\",\")\n",
    "\n",
    "    #clean up white space and make all tickers upper case\n",
    "    for x in range(0,len(tickers)):\n",
    "        tickers[x] = tickers[x].strip()\n",
    "        tickers[x] = tickers[x].upper()\n",
    "\n",
    "    return tickers\n",
    "    \n",
    "\n",
    "def defineStockName(ticker):\n",
    "    '''Matches ticker with company name from CSV file'''\n",
    "    \n",
    "    #list obtained from https://dumbstockapi.com/\n",
    "    stockList = pd.read_csv(\"StockInformationList.csv\")\n",
    "        \n",
    "    for y in range(0, len(stockList)):\n",
    "        if ticker == stockList[\"ticker\"][y]:\n",
    "            return stockList[\"name\"][y]     \n",
    "\n",
    "\n",
    "def pullStockName(df):\n",
    "    '''To provide stock name given data frame format'''\n",
    "\n",
    "    #format = df[\"Ticker\"]\n",
    "    #df = str(df)\n",
    "    return re.findall(r\"(.*?)\", str(df))\n",
    "\n",
    "\n",
    "def pullStockInformationList():\n",
    "    '''Downloads CSV file of Ticker:Copmany Name'''\n",
    "    # Question whether we want this as an option(?)\n",
    "\n",
    "\n",
    "##########################################################\n",
    "#GoogleTrends Data - pytrends [?]\n",
    "\n",
    "\n"
   ]
  },
  {
   "cell_type": "markdown",
   "metadata": {},
   "source": [
    "## Data Processing Module"
   ]
  },
  {
   "cell_type": "code",
   "execution_count": 4,
   "metadata": {},
   "outputs": [],
   "source": [
    "import pandas as pd\n",
    "import numpy as np\n",
    "from math import sqrt\n",
    "\n",
    "\n",
    "##########################################################\n",
    "# Moving Average Convergence-Divergence\n",
    "\n",
    "\n",
    "def calcMACD(df,ma_fast,ma_slow,macd_period):\n",
    "    '''Moving Average Convergence Divergence (MACD)'''\n",
    "    #ma_fast is periods included in fast moving average\n",
    "    #ma_slow is periods included in fast moving average\n",
    "    #macd_period is periods included in MA of MA\n",
    "\n",
    "    ma_fast = calcMovingAverage(df,ma_fast)\n",
    "    ma_slow = calcMovingAverage(df,ma_slow)\n",
    "    ma_diff = []\n",
    "    macd = []\n",
    "\n",
    "    for x in range(0,len(ma_slow)):\n",
    "        ma_diff.append(ma_fast[x]-ma_slow[x])\n",
    "    \n",
    "    macd = calcMovingAverage(ma_diff,macd_period)\n",
    "\n",
    "    #lists of different lengths\n",
    "    return ma_diff, macd\n",
    "\n",
    "\n",
    "def calcMovingAverage(df, a):\n",
    "    '''General moving average function'''\n",
    "    length = len(df)-a\n",
    "    ma_data =[]\n",
    "\n",
    "    for x in range(0,length):\n",
    "        total = 0\n",
    "        for y in range(0, a):\n",
    "            total += df[x+y]\n",
    "        ma_data.append(total/a)\n",
    "\n",
    "    return ma_data\n",
    "\n",
    "\n",
    "def pullMACDPoints(ma_diff,macd):\n",
    "    '''Identify index position of where MACD lines cross'''\n",
    "    #initiate list to capture points where lines cross\n",
    "    indexMACDpoints = []\n",
    "\n",
    "    #running prior period value to determine if new value indicates lines crossed\n",
    "    prior_period = 0\n",
    "\n",
    "    for x in range(0, len(macd)):\n",
    "        \n",
    "        if x == 0:\n",
    "            prior_period = ma_diff[x]-macd[x]\n",
    "        \n",
    "        else:\n",
    "            current_period = ma_diff[x]-macd[x]\n",
    "\n",
    "            if current_period < 0 and prior_period >= 0:\n",
    "                indexMACDpoints.append([x,\"buy\"])\n",
    "                prior_period = current_period\n",
    "            elif current_period > 0 and prior_period <= 0:\n",
    "                indexMACDpoints.append([x,\"sell\"])\n",
    "                prior_period = current_period\n",
    "            else:\n",
    "                continue\n",
    "    \n",
    "    return indexMACDpoints\n",
    "\n",
    "\n",
    "##########################################################\n",
    "# Volume-Price Trend\n",
    "\n",
    "\n",
    "def calcVolPriceTrend(df):\n",
    "    '''Calculates volume-price trend for stock'''\n",
    "    #https://www.daytrading.com/volume-price-trend\n",
    "    #used to understand if movements in price are supported by significant volume\n",
    "    \n",
    "    vpt = []\n",
    "    day = []\n",
    "    daily_change = 0\n",
    "    daily_vpt = 0\n",
    "\n",
    "    for x in range(0,len(df)-1):\n",
    "        daily_change = (df[\"Adj Close Price\"][x+1]-df[\"Adj Close Price\"][x])/df[\"Adj Close Price\"][x]\n",
    "        daily_vpt = daily_vpt + df[\"Volume\"][x+1]*daily_change              \n",
    "        vpt.append(daily_vpt)\n",
    "        day.append(df[\"Date\"][x+1])\n",
    "    \n",
    "    return day, vpt\n",
    "\n",
    "\n",
    "##########################################################\n",
    "# Descriptive Statistics\n",
    "\n",
    "\n",
    "def pullMaxValue(df):\n",
    "    '''Returns maximum stock price over period - may be intraday'''\n",
    "    \n",
    "    value = df[\"High Price\"].max()\n",
    "    \n",
    "    for x in range(0, len(df)):\n",
    "        if value == df[\"High Price\"][x]:\n",
    "            date = df[\"Date\"][x]\n",
    "    \n",
    "    return [value, date]\n",
    "\n",
    "\n",
    "def pullMinValue(df):\n",
    "    '''Returns minimum stock price over period - may be intraday'''\n",
    "    \n",
    "    value = df[\"Low Price\"].min()\n",
    "    \n",
    "    for x in range(0, len(df)):\n",
    "        if value == df[\"Low Price\"][x]:\n",
    "            date = df[\"Date\"][x]\n",
    "    \n",
    "    return [value, date]\n",
    "\n",
    "\n",
    "def calcVolatility(df):\n",
    "    '''Returns the stock volatility over the period'''\n",
    "\n",
    "    #based on adjusted close price\n",
    "\n",
    "    mean = df[\"Adj Close Price\"].mean()\n",
    "    n = df[\"Adj Close Price\"].count()-1\n",
    "    volatility = 0\n",
    "\n",
    "    for x in range(0,len(df)):\n",
    "        volatility += (mean-df[\"Adj Close Price\"][x])**2\n",
    "\n",
    "    volatility = round(volatility/n,2) \n",
    "\n",
    "    return volatility\n",
    "\n",
    "\n",
    "def calcStandardDeviation(df):\n",
    "    '''Calculates the standard deviation over the period'''\n",
    "    \n",
    "    std = round(sqrt(calcVolatility(df)),2)\n",
    "\n",
    "    return std\n",
    "\n",
    "\n",
    "def calcPeriodReturn(df, beg, end):\n",
    "    '''Returns closing share price for the period'''\n",
    "    \n",
    "    beginning_price = df[\"Open Price\"][beg]\n",
    "    closing_price = df[\"Adj Close Price\"][end]\n",
    "\n",
    "    period_return = round((closing_price - beginning_price)/beginning_price,2)\n",
    "\n",
    "    return period_return\n",
    "\n",
    "\n",
    "def calcDescriptiveStats(df):\n",
    "    return \n",
    "\n",
    "\n",
    "def calcComparativeStats(df):\n",
    "    return \n",
    "\n",
    ""
   ]
  },
  {
   "cell_type": "code",
   "execution_count": 13,
   "metadata": {},
   "outputs": [
    {
     "output_type": "stream",
     "name": "stdout",
     "text": "176.27\n157.39\n-0.11\n"
    }
   ],
   "source": [
    "print(y[\"V\"][\"Open Price\"][0])\n",
    "print(y[\"V\"][\"Adj Close Price\"][5])\n",
    "print(calcPeriodReturn(y[\"V\"],0,5))"
   ]
  },
  {
   "cell_type": "code",
   "execution_count": 220,
   "metadata": {},
   "outputs": [
    {
     "output_type": "display_data",
     "data": {
      "application/vnd.plotly.v1+json": {
       "config": {
        "plotlyServerURL": "https://plot.ly"
       },
       "data": [
        {
         "mode": "lines",
         "type": "scatter",
         "x": [
          "2020-04-09T00:00:00",
          "2020-04-08T00:00:00",
          "2020-04-07T00:00:00",
          "2020-04-06T00:00:00",
          "2020-04-03T00:00:00",
          "2020-04-02T00:00:00",
          "2020-04-01T00:00:00",
          "2020-03-31T00:00:00",
          "2020-03-30T00:00:00",
          "2020-03-27T00:00:00",
          "2020-03-26T00:00:00",
          "2020-03-25T00:00:00",
          "2020-03-24T00:00:00",
          "2020-03-23T00:00:00",
          "2020-03-20T00:00:00",
          "2020-03-19T00:00:00",
          "2020-03-18T00:00:00",
          "2020-03-17T00:00:00",
          "2020-03-16T00:00:00",
          "2020-03-13T00:00:00",
          "2020-03-12T00:00:00",
          "2020-03-11T00:00:00",
          "2020-03-10T00:00:00",
          "2020-03-09T00:00:00",
          "2020-03-06T00:00:00",
          "2020-03-05T00:00:00",
          "2020-03-04T00:00:00",
          "2020-03-03T00:00:00",
          "2020-03-02T00:00:00",
          "2020-02-28T00:00:00",
          "2020-02-27T00:00:00",
          "2020-02-26T00:00:00",
          "2020-02-25T00:00:00",
          "2020-02-24T00:00:00",
          "2020-02-21T00:00:00",
          "2020-02-20T00:00:00",
          "2020-02-19T00:00:00",
          "2020-02-18T00:00:00",
          "2020-02-14T00:00:00",
          "2020-02-13T00:00:00",
          "2020-02-12T00:00:00",
          "2020-02-11T00:00:00",
          "2020-02-10T00:00:00",
          "2020-02-07T00:00:00",
          "2020-02-06T00:00:00",
          "2020-02-05T00:00:00",
          "2020-02-04T00:00:00",
          "2020-02-03T00:00:00",
          "2020-01-31T00:00:00",
          "2020-01-30T00:00:00",
          "2020-01-29T00:00:00",
          "2020-01-28T00:00:00",
          "2020-01-27T00:00:00",
          "2020-01-24T00:00:00",
          "2020-01-23T00:00:00",
          "2020-01-22T00:00:00",
          "2020-01-21T00:00:00",
          "2020-01-17T00:00:00",
          "2020-01-16T00:00:00",
          "2020-01-15T00:00:00",
          "2020-01-14T00:00:00",
          "2020-01-13T00:00:00",
          "2020-01-10T00:00:00",
          "2020-01-09T00:00:00",
          "2020-01-08T00:00:00",
          "2020-01-07T00:00:00",
          "2020-01-06T00:00:00",
          "2020-01-03T00:00:00",
          "2020-01-02T00:00:00",
          "2019-12-31T00:00:00",
          "2019-12-30T00:00:00",
          "2019-12-27T00:00:00",
          "2019-12-26T00:00:00",
          "2019-12-24T00:00:00",
          "2019-12-23T00:00:00",
          "2019-12-20T00:00:00",
          "2019-12-19T00:00:00",
          "2019-12-18T00:00:00",
          "2019-12-17T00:00:00",
          "2019-12-16T00:00:00",
          "2019-12-13T00:00:00",
          "2019-12-12T00:00:00",
          "2019-12-11T00:00:00",
          "2019-12-10T00:00:00",
          "2019-12-09T00:00:00",
          "2019-12-06T00:00:00",
          "2019-12-05T00:00:00",
          "2019-12-04T00:00:00",
          "2019-12-03T00:00:00",
          "2019-12-02T00:00:00",
          "2019-11-29T00:00:00",
          "2019-11-27T00:00:00",
          "2019-11-26T00:00:00",
          "2019-11-25T00:00:00",
          "2019-11-22T00:00:00",
          "2019-11-21T00:00:00",
          "2019-11-20T00:00:00",
          "2019-11-19T00:00:00",
          "2019-11-18T00:00:00"
         ],
         "y": [
          173.69,
          174.94,
          168.59,
          169.44,
          151.85,
          157.39,
          153.11,
          161.12,
          165.57,
          161.56,
          168.88,
          161.78,
          154.53,
          135.74,
          146.83,
          152.25,
          148.48,
          157.89,
          152.01,
          175.83,
          160.08,
          172.95,
          182.6,
          171.13,
          184.36,
          186.96,
          194.29,
          185.73,
          192.33,
          181.76,
          180.01,
          187.21,
          188.4,
          198.79,
          208.81,
          211.45,
          213.31,
          211.2,
          210.29,
          207.4,
          207.14,
          203.65,
          205.69,
          202.45,
          202.75,
          202.52,
          203.27,
          200.52,
          198.68,
          207.91,
          204.56,
          202.56,
          201.4,
          204.7,
          206.22,
          207.6,
          206.99,
          204.4,
          200.66,
          199.51,
          195.77,
          195.05,
          193.49,
          192.97,
          191.64,
          188.42,
          188.92,
          189.33,
          190.84,
          187.63,
          187.56,
          189.12,
          188.89,
          187.3,
          186.81,
          187.73,
          186.27,
          184.63,
          185.25,
          185.97,
          184.87,
          182.38,
          181.75,
          182,
          182.66,
          181.91,
          181.63,
          180.34,
          181.64,
          181.53,
          184.24,
          184.1,
          182.29,
          180.71,
          179.21,
          179.63,
          181.4,
          182.51,
          179.4
         ]
        }
       ],
       "layout": {
        "template": {
         "data": {
          "bar": [
           {
            "error_x": {
             "color": "#2a3f5f"
            },
            "error_y": {
             "color": "#2a3f5f"
            },
            "marker": {
             "line": {
              "color": "#E5ECF6",
              "width": 0.5
             }
            },
            "type": "bar"
           }
          ],
          "barpolar": [
           {
            "marker": {
             "line": {
              "color": "#E5ECF6",
              "width": 0.5
             }
            },
            "type": "barpolar"
           }
          ],
          "carpet": [
           {
            "aaxis": {
             "endlinecolor": "#2a3f5f",
             "gridcolor": "white",
             "linecolor": "white",
             "minorgridcolor": "white",
             "startlinecolor": "#2a3f5f"
            },
            "baxis": {
             "endlinecolor": "#2a3f5f",
             "gridcolor": "white",
             "linecolor": "white",
             "minorgridcolor": "white",
             "startlinecolor": "#2a3f5f"
            },
            "type": "carpet"
           }
          ],
          "choropleth": [
           {
            "colorbar": {
             "outlinewidth": 0,
             "ticks": ""
            },
            "type": "choropleth"
           }
          ],
          "contour": [
           {
            "colorbar": {
             "outlinewidth": 0,
             "ticks": ""
            },
            "colorscale": [
             [
              0,
              "#0d0887"
             ],
             [
              0.1111111111111111,
              "#46039f"
             ],
             [
              0.2222222222222222,
              "#7201a8"
             ],
             [
              0.3333333333333333,
              "#9c179e"
             ],
             [
              0.4444444444444444,
              "#bd3786"
             ],
             [
              0.5555555555555556,
              "#d8576b"
             ],
             [
              0.6666666666666666,
              "#ed7953"
             ],
             [
              0.7777777777777778,
              "#fb9f3a"
             ],
             [
              0.8888888888888888,
              "#fdca26"
             ],
             [
              1,
              "#f0f921"
             ]
            ],
            "type": "contour"
           }
          ],
          "contourcarpet": [
           {
            "colorbar": {
             "outlinewidth": 0,
             "ticks": ""
            },
            "type": "contourcarpet"
           }
          ],
          "heatmap": [
           {
            "colorbar": {
             "outlinewidth": 0,
             "ticks": ""
            },
            "colorscale": [
             [
              0,
              "#0d0887"
             ],
             [
              0.1111111111111111,
              "#46039f"
             ],
             [
              0.2222222222222222,
              "#7201a8"
             ],
             [
              0.3333333333333333,
              "#9c179e"
             ],
             [
              0.4444444444444444,
              "#bd3786"
             ],
             [
              0.5555555555555556,
              "#d8576b"
             ],
             [
              0.6666666666666666,
              "#ed7953"
             ],
             [
              0.7777777777777778,
              "#fb9f3a"
             ],
             [
              0.8888888888888888,
              "#fdca26"
             ],
             [
              1,
              "#f0f921"
             ]
            ],
            "type": "heatmap"
           }
          ],
          "heatmapgl": [
           {
            "colorbar": {
             "outlinewidth": 0,
             "ticks": ""
            },
            "colorscale": [
             [
              0,
              "#0d0887"
             ],
             [
              0.1111111111111111,
              "#46039f"
             ],
             [
              0.2222222222222222,
              "#7201a8"
             ],
             [
              0.3333333333333333,
              "#9c179e"
             ],
             [
              0.4444444444444444,
              "#bd3786"
             ],
             [
              0.5555555555555556,
              "#d8576b"
             ],
             [
              0.6666666666666666,
              "#ed7953"
             ],
             [
              0.7777777777777778,
              "#fb9f3a"
             ],
             [
              0.8888888888888888,
              "#fdca26"
             ],
             [
              1,
              "#f0f921"
             ]
            ],
            "type": "heatmapgl"
           }
          ],
          "histogram": [
           {
            "marker": {
             "colorbar": {
              "outlinewidth": 0,
              "ticks": ""
             }
            },
            "type": "histogram"
           }
          ],
          "histogram2d": [
           {
            "colorbar": {
             "outlinewidth": 0,
             "ticks": ""
            },
            "colorscale": [
             [
              0,
              "#0d0887"
             ],
             [
              0.1111111111111111,
              "#46039f"
             ],
             [
              0.2222222222222222,
              "#7201a8"
             ],
             [
              0.3333333333333333,
              "#9c179e"
             ],
             [
              0.4444444444444444,
              "#bd3786"
             ],
             [
              0.5555555555555556,
              "#d8576b"
             ],
             [
              0.6666666666666666,
              "#ed7953"
             ],
             [
              0.7777777777777778,
              "#fb9f3a"
             ],
             [
              0.8888888888888888,
              "#fdca26"
             ],
             [
              1,
              "#f0f921"
             ]
            ],
            "type": "histogram2d"
           }
          ],
          "histogram2dcontour": [
           {
            "colorbar": {
             "outlinewidth": 0,
             "ticks": ""
            },
            "colorscale": [
             [
              0,
              "#0d0887"
             ],
             [
              0.1111111111111111,
              "#46039f"
             ],
             [
              0.2222222222222222,
              "#7201a8"
             ],
             [
              0.3333333333333333,
              "#9c179e"
             ],
             [
              0.4444444444444444,
              "#bd3786"
             ],
             [
              0.5555555555555556,
              "#d8576b"
             ],
             [
              0.6666666666666666,
              "#ed7953"
             ],
             [
              0.7777777777777778,
              "#fb9f3a"
             ],
             [
              0.8888888888888888,
              "#fdca26"
             ],
             [
              1,
              "#f0f921"
             ]
            ],
            "type": "histogram2dcontour"
           }
          ],
          "mesh3d": [
           {
            "colorbar": {
             "outlinewidth": 0,
             "ticks": ""
            },
            "type": "mesh3d"
           }
          ],
          "parcoords": [
           {
            "line": {
             "colorbar": {
              "outlinewidth": 0,
              "ticks": ""
             }
            },
            "type": "parcoords"
           }
          ],
          "pie": [
           {
            "automargin": true,
            "type": "pie"
           }
          ],
          "scatter": [
           {
            "marker": {
             "colorbar": {
              "outlinewidth": 0,
              "ticks": ""
             }
            },
            "type": "scatter"
           }
          ],
          "scatter3d": [
           {
            "line": {
             "colorbar": {
              "outlinewidth": 0,
              "ticks": ""
             }
            },
            "marker": {
             "colorbar": {
              "outlinewidth": 0,
              "ticks": ""
             }
            },
            "type": "scatter3d"
           }
          ],
          "scattercarpet": [
           {
            "marker": {
             "colorbar": {
              "outlinewidth": 0,
              "ticks": ""
             }
            },
            "type": "scattercarpet"
           }
          ],
          "scattergeo": [
           {
            "marker": {
             "colorbar": {
              "outlinewidth": 0,
              "ticks": ""
             }
            },
            "type": "scattergeo"
           }
          ],
          "scattergl": [
           {
            "marker": {
             "colorbar": {
              "outlinewidth": 0,
              "ticks": ""
             }
            },
            "type": "scattergl"
           }
          ],
          "scattermapbox": [
           {
            "marker": {
             "colorbar": {
              "outlinewidth": 0,
              "ticks": ""
             }
            },
            "type": "scattermapbox"
           }
          ],
          "scatterpolar": [
           {
            "marker": {
             "colorbar": {
              "outlinewidth": 0,
              "ticks": ""
             }
            },
            "type": "scatterpolar"
           }
          ],
          "scatterpolargl": [
           {
            "marker": {
             "colorbar": {
              "outlinewidth": 0,
              "ticks": ""
             }
            },
            "type": "scatterpolargl"
           }
          ],
          "scatterternary": [
           {
            "marker": {
             "colorbar": {
              "outlinewidth": 0,
              "ticks": ""
             }
            },
            "type": "scatterternary"
           }
          ],
          "surface": [
           {
            "colorbar": {
             "outlinewidth": 0,
             "ticks": ""
            },
            "colorscale": [
             [
              0,
              "#0d0887"
             ],
             [
              0.1111111111111111,
              "#46039f"
             ],
             [
              0.2222222222222222,
              "#7201a8"
             ],
             [
              0.3333333333333333,
              "#9c179e"
             ],
             [
              0.4444444444444444,
              "#bd3786"
             ],
             [
              0.5555555555555556,
              "#d8576b"
             ],
             [
              0.6666666666666666,
              "#ed7953"
             ],
             [
              0.7777777777777778,
              "#fb9f3a"
             ],
             [
              0.8888888888888888,
              "#fdca26"
             ],
             [
              1,
              "#f0f921"
             ]
            ],
            "type": "surface"
           }
          ],
          "table": [
           {
            "cells": {
             "fill": {
              "color": "#EBF0F8"
             },
             "line": {
              "color": "white"
             }
            },
            "header": {
             "fill": {
              "color": "#C8D4E3"
             },
             "line": {
              "color": "white"
             }
            },
            "type": "table"
           }
          ]
         },
         "layout": {
          "annotationdefaults": {
           "arrowcolor": "#2a3f5f",
           "arrowhead": 0,
           "arrowwidth": 1
          },
          "coloraxis": {
           "colorbar": {
            "outlinewidth": 0,
            "ticks": ""
           }
          },
          "colorscale": {
           "diverging": [
            [
             0,
             "#8e0152"
            ],
            [
             0.1,
             "#c51b7d"
            ],
            [
             0.2,
             "#de77ae"
            ],
            [
             0.3,
             "#f1b6da"
            ],
            [
             0.4,
             "#fde0ef"
            ],
            [
             0.5,
             "#f7f7f7"
            ],
            [
             0.6,
             "#e6f5d0"
            ],
            [
             0.7,
             "#b8e186"
            ],
            [
             0.8,
             "#7fbc41"
            ],
            [
             0.9,
             "#4d9221"
            ],
            [
             1,
             "#276419"
            ]
           ],
           "sequential": [
            [
             0,
             "#0d0887"
            ],
            [
             0.1111111111111111,
             "#46039f"
            ],
            [
             0.2222222222222222,
             "#7201a8"
            ],
            [
             0.3333333333333333,
             "#9c179e"
            ],
            [
             0.4444444444444444,
             "#bd3786"
            ],
            [
             0.5555555555555556,
             "#d8576b"
            ],
            [
             0.6666666666666666,
             "#ed7953"
            ],
            [
             0.7777777777777778,
             "#fb9f3a"
            ],
            [
             0.8888888888888888,
             "#fdca26"
            ],
            [
             1,
             "#f0f921"
            ]
           ],
           "sequentialminus": [
            [
             0,
             "#0d0887"
            ],
            [
             0.1111111111111111,
             "#46039f"
            ],
            [
             0.2222222222222222,
             "#7201a8"
            ],
            [
             0.3333333333333333,
             "#9c179e"
            ],
            [
             0.4444444444444444,
             "#bd3786"
            ],
            [
             0.5555555555555556,
             "#d8576b"
            ],
            [
             0.6666666666666666,
             "#ed7953"
            ],
            [
             0.7777777777777778,
             "#fb9f3a"
            ],
            [
             0.8888888888888888,
             "#fdca26"
            ],
            [
             1,
             "#f0f921"
            ]
           ]
          },
          "colorway": [
           "#636efa",
           "#EF553B",
           "#00cc96",
           "#ab63fa",
           "#FFA15A",
           "#19d3f3",
           "#FF6692",
           "#B6E880",
           "#FF97FF",
           "#FECB52"
          ],
          "font": {
           "color": "#2a3f5f"
          },
          "geo": {
           "bgcolor": "white",
           "lakecolor": "white",
           "landcolor": "#E5ECF6",
           "showlakes": true,
           "showland": true,
           "subunitcolor": "white"
          },
          "hoverlabel": {
           "align": "left"
          },
          "hovermode": "closest",
          "mapbox": {
           "style": "light"
          },
          "paper_bgcolor": "white",
          "plot_bgcolor": "#E5ECF6",
          "polar": {
           "angularaxis": {
            "gridcolor": "white",
            "linecolor": "white",
            "ticks": ""
           },
           "bgcolor": "#E5ECF6",
           "radialaxis": {
            "gridcolor": "white",
            "linecolor": "white",
            "ticks": ""
           }
          },
          "scene": {
           "xaxis": {
            "backgroundcolor": "#E5ECF6",
            "gridcolor": "white",
            "gridwidth": 2,
            "linecolor": "white",
            "showbackground": true,
            "ticks": "",
            "zerolinecolor": "white"
           },
           "yaxis": {
            "backgroundcolor": "#E5ECF6",
            "gridcolor": "white",
            "gridwidth": 2,
            "linecolor": "white",
            "showbackground": true,
            "ticks": "",
            "zerolinecolor": "white"
           },
           "zaxis": {
            "backgroundcolor": "#E5ECF6",
            "gridcolor": "white",
            "gridwidth": 2,
            "linecolor": "white",
            "showbackground": true,
            "ticks": "",
            "zerolinecolor": "white"
           }
          },
          "shapedefaults": {
           "line": {
            "color": "#2a3f5f"
           }
          },
          "ternary": {
           "aaxis": {
            "gridcolor": "white",
            "linecolor": "white",
            "ticks": ""
           },
           "baxis": {
            "gridcolor": "white",
            "linecolor": "white",
            "ticks": ""
           },
           "bgcolor": "#E5ECF6",
           "caxis": {
            "gridcolor": "white",
            "linecolor": "white",
            "ticks": ""
           }
          },
          "title": {
           "x": 0.05
          },
          "xaxis": {
           "automargin": true,
           "gridcolor": "white",
           "linecolor": "white",
           "ticks": "",
           "title": {
            "standoff": 15
           },
           "zerolinecolor": "white",
           "zerolinewidth": 2
          },
          "yaxis": {
           "automargin": true,
           "gridcolor": "white",
           "linecolor": "white",
           "ticks": "",
           "title": {
            "standoff": 15
           },
           "zerolinecolor": "white",
           "zerolinewidth": 2
          }
         }
        }
       }
      }
     },
     "metadata": {}
    }
   ],
   "source": [
    "#adjusted close price of Visa\n",
    "basicLineGraph(y[\"V\"][\"Date\"],y[\"V\"][\"Adj Close Price\"])"
   ]
  },
  {
   "cell_type": "code",
   "execution_count": 218,
   "metadata": {},
   "outputs": [
    {
     "output_type": "display_data",
     "data": {
      "application/vnd.plotly.v1+json": {
       "config": {
        "plotlyServerURL": "https://plot.ly"
       },
       "data": [
        {
         "type": "bar",
         "x": [
          "2020-04-09T00:00:00",
          "2020-04-08T00:00:00",
          "2020-04-07T00:00:00",
          "2020-04-06T00:00:00",
          "2020-04-03T00:00:00",
          "2020-04-02T00:00:00",
          "2020-04-01T00:00:00",
          "2020-03-31T00:00:00",
          "2020-03-30T00:00:00",
          "2020-03-27T00:00:00",
          "2020-03-26T00:00:00",
          "2020-03-25T00:00:00",
          "2020-03-24T00:00:00",
          "2020-03-23T00:00:00",
          "2020-03-20T00:00:00",
          "2020-03-19T00:00:00",
          "2020-03-18T00:00:00",
          "2020-03-17T00:00:00",
          "2020-03-16T00:00:00",
          "2020-03-13T00:00:00",
          "2020-03-12T00:00:00",
          "2020-03-11T00:00:00",
          "2020-03-10T00:00:00",
          "2020-03-09T00:00:00",
          "2020-03-06T00:00:00",
          "2020-03-05T00:00:00",
          "2020-03-04T00:00:00",
          "2020-03-03T00:00:00",
          "2020-03-02T00:00:00",
          "2020-02-28T00:00:00",
          "2020-02-27T00:00:00",
          "2020-02-26T00:00:00",
          "2020-02-25T00:00:00",
          "2020-02-24T00:00:00",
          "2020-02-21T00:00:00",
          "2020-02-20T00:00:00",
          "2020-02-19T00:00:00",
          "2020-02-18T00:00:00",
          "2020-02-14T00:00:00",
          "2020-02-13T00:00:00",
          "2020-02-12T00:00:00",
          "2020-02-11T00:00:00",
          "2020-02-10T00:00:00",
          "2020-02-07T00:00:00",
          "2020-02-06T00:00:00",
          "2020-02-05T00:00:00",
          "2020-02-04T00:00:00",
          "2020-02-03T00:00:00",
          "2020-01-31T00:00:00",
          "2020-01-30T00:00:00",
          "2020-01-29T00:00:00",
          "2020-01-28T00:00:00",
          "2020-01-27T00:00:00",
          "2020-01-24T00:00:00",
          "2020-01-23T00:00:00",
          "2020-01-22T00:00:00",
          "2020-01-21T00:00:00",
          "2020-01-17T00:00:00",
          "2020-01-16T00:00:00",
          "2020-01-15T00:00:00",
          "2020-01-14T00:00:00",
          "2020-01-13T00:00:00",
          "2020-01-10T00:00:00",
          "2020-01-09T00:00:00",
          "2020-01-08T00:00:00",
          "2020-01-07T00:00:00",
          "2020-01-06T00:00:00",
          "2020-01-03T00:00:00",
          "2020-01-02T00:00:00",
          "2019-12-31T00:00:00",
          "2019-12-30T00:00:00",
          "2019-12-27T00:00:00",
          "2019-12-26T00:00:00",
          "2019-12-24T00:00:00",
          "2019-12-23T00:00:00",
          "2019-12-20T00:00:00",
          "2019-12-19T00:00:00",
          "2019-12-18T00:00:00",
          "2019-12-17T00:00:00",
          "2019-12-16T00:00:00",
          "2019-12-13T00:00:00",
          "2019-12-12T00:00:00",
          "2019-12-11T00:00:00",
          "2019-12-10T00:00:00",
          "2019-12-09T00:00:00",
          "2019-12-06T00:00:00",
          "2019-12-05T00:00:00",
          "2019-12-04T00:00:00",
          "2019-12-03T00:00:00",
          "2019-12-02T00:00:00",
          "2019-11-29T00:00:00",
          "2019-11-27T00:00:00",
          "2019-11-26T00:00:00",
          "2019-11-25T00:00:00",
          "2019-11-22T00:00:00",
          "2019-11-21T00:00:00",
          "2019-11-20T00:00:00",
          "2019-11-19T00:00:00",
          "2019-11-18T00:00:00"
         ],
         "y": [
          12231800,
          11146500,
          15379000,
          16479100,
          11994700,
          14051100,
          12595200,
          20613100,
          15714500,
          14950700,
          17062900,
          20619600,
          24488300,
          30344100,
          18692100,
          19362800,
          22787500,
          22298000,
          23692000,
          19948900,
          27467700,
          14598200,
          16119400,
          20486400,
          15183200,
          10106900,
          10789100,
          15226400,
          17434500,
          22674700,
          17536600,
          14214700,
          18539000,
          13316800,
          9231500,
          8531900,
          5927500,
          7651500,
          6548800,
          9495300,
          7355800,
          10231900,
          6239500,
          5691100,
          7001200,
          8672400,
          10205900,
          10887900,
          16699600,
          8571900,
          7041700,
          7215700,
          7198900,
          7812900,
          8520800,
          8065000,
          14861700,
          12518900,
          9983700,
          10831100,
          6236500,
          11290500,
          6586400,
          6748000,
          5712000,
          4392300,
          10109500,
          4899700,
          8733000,
          5273000,
          4833600,
          5448600,
          5237000,
          2420900,
          5831700,
          11259500,
          5854200,
          8968500,
          10208700,
          8249900,
          8558100,
          11192100,
          7138800,
          8625700,
          10233100,
          14526700,
          4638600,
          10650400,
          4543300,
          6883200,
          3139100,
          11452700,
          7079000,
          5457800,
          6865600,
          5112200,
          6040500,
          8549900,
          7173700
         ]
        }
       ],
       "layout": {
        "template": {
         "data": {
          "bar": [
           {
            "error_x": {
             "color": "#2a3f5f"
            },
            "error_y": {
             "color": "#2a3f5f"
            },
            "marker": {
             "line": {
              "color": "#E5ECF6",
              "width": 0.5
             }
            },
            "type": "bar"
           }
          ],
          "barpolar": [
           {
            "marker": {
             "line": {
              "color": "#E5ECF6",
              "width": 0.5
             }
            },
            "type": "barpolar"
           }
          ],
          "carpet": [
           {
            "aaxis": {
             "endlinecolor": "#2a3f5f",
             "gridcolor": "white",
             "linecolor": "white",
             "minorgridcolor": "white",
             "startlinecolor": "#2a3f5f"
            },
            "baxis": {
             "endlinecolor": "#2a3f5f",
             "gridcolor": "white",
             "linecolor": "white",
             "minorgridcolor": "white",
             "startlinecolor": "#2a3f5f"
            },
            "type": "carpet"
           }
          ],
          "choropleth": [
           {
            "colorbar": {
             "outlinewidth": 0,
             "ticks": ""
            },
            "type": "choropleth"
           }
          ],
          "contour": [
           {
            "colorbar": {
             "outlinewidth": 0,
             "ticks": ""
            },
            "colorscale": [
             [
              0,
              "#0d0887"
             ],
             [
              0.1111111111111111,
              "#46039f"
             ],
             [
              0.2222222222222222,
              "#7201a8"
             ],
             [
              0.3333333333333333,
              "#9c179e"
             ],
             [
              0.4444444444444444,
              "#bd3786"
             ],
             [
              0.5555555555555556,
              "#d8576b"
             ],
             [
              0.6666666666666666,
              "#ed7953"
             ],
             [
              0.7777777777777778,
              "#fb9f3a"
             ],
             [
              0.8888888888888888,
              "#fdca26"
             ],
             [
              1,
              "#f0f921"
             ]
            ],
            "type": "contour"
           }
          ],
          "contourcarpet": [
           {
            "colorbar": {
             "outlinewidth": 0,
             "ticks": ""
            },
            "type": "contourcarpet"
           }
          ],
          "heatmap": [
           {
            "colorbar": {
             "outlinewidth": 0,
             "ticks": ""
            },
            "colorscale": [
             [
              0,
              "#0d0887"
             ],
             [
              0.1111111111111111,
              "#46039f"
             ],
             [
              0.2222222222222222,
              "#7201a8"
             ],
             [
              0.3333333333333333,
              "#9c179e"
             ],
             [
              0.4444444444444444,
              "#bd3786"
             ],
             [
              0.5555555555555556,
              "#d8576b"
             ],
             [
              0.6666666666666666,
              "#ed7953"
             ],
             [
              0.7777777777777778,
              "#fb9f3a"
             ],
             [
              0.8888888888888888,
              "#fdca26"
             ],
             [
              1,
              "#f0f921"
             ]
            ],
            "type": "heatmap"
           }
          ],
          "heatmapgl": [
           {
            "colorbar": {
             "outlinewidth": 0,
             "ticks": ""
            },
            "colorscale": [
             [
              0,
              "#0d0887"
             ],
             [
              0.1111111111111111,
              "#46039f"
             ],
             [
              0.2222222222222222,
              "#7201a8"
             ],
             [
              0.3333333333333333,
              "#9c179e"
             ],
             [
              0.4444444444444444,
              "#bd3786"
             ],
             [
              0.5555555555555556,
              "#d8576b"
             ],
             [
              0.6666666666666666,
              "#ed7953"
             ],
             [
              0.7777777777777778,
              "#fb9f3a"
             ],
             [
              0.8888888888888888,
              "#fdca26"
             ],
             [
              1,
              "#f0f921"
             ]
            ],
            "type": "heatmapgl"
           }
          ],
          "histogram": [
           {
            "marker": {
             "colorbar": {
              "outlinewidth": 0,
              "ticks": ""
             }
            },
            "type": "histogram"
           }
          ],
          "histogram2d": [
           {
            "colorbar": {
             "outlinewidth": 0,
             "ticks": ""
            },
            "colorscale": [
             [
              0,
              "#0d0887"
             ],
             [
              0.1111111111111111,
              "#46039f"
             ],
             [
              0.2222222222222222,
              "#7201a8"
             ],
             [
              0.3333333333333333,
              "#9c179e"
             ],
             [
              0.4444444444444444,
              "#bd3786"
             ],
             [
              0.5555555555555556,
              "#d8576b"
             ],
             [
              0.6666666666666666,
              "#ed7953"
             ],
             [
              0.7777777777777778,
              "#fb9f3a"
             ],
             [
              0.8888888888888888,
              "#fdca26"
             ],
             [
              1,
              "#f0f921"
             ]
            ],
            "type": "histogram2d"
           }
          ],
          "histogram2dcontour": [
           {
            "colorbar": {
             "outlinewidth": 0,
             "ticks": ""
            },
            "colorscale": [
             [
              0,
              "#0d0887"
             ],
             [
              0.1111111111111111,
              "#46039f"
             ],
             [
              0.2222222222222222,
              "#7201a8"
             ],
             [
              0.3333333333333333,
              "#9c179e"
             ],
             [
              0.4444444444444444,
              "#bd3786"
             ],
             [
              0.5555555555555556,
              "#d8576b"
             ],
             [
              0.6666666666666666,
              "#ed7953"
             ],
             [
              0.7777777777777778,
              "#fb9f3a"
             ],
             [
              0.8888888888888888,
              "#fdca26"
             ],
             [
              1,
              "#f0f921"
             ]
            ],
            "type": "histogram2dcontour"
           }
          ],
          "mesh3d": [
           {
            "colorbar": {
             "outlinewidth": 0,
             "ticks": ""
            },
            "type": "mesh3d"
           }
          ],
          "parcoords": [
           {
            "line": {
             "colorbar": {
              "outlinewidth": 0,
              "ticks": ""
             }
            },
            "type": "parcoords"
           }
          ],
          "pie": [
           {
            "automargin": true,
            "type": "pie"
           }
          ],
          "scatter": [
           {
            "marker": {
             "colorbar": {
              "outlinewidth": 0,
              "ticks": ""
             }
            },
            "type": "scatter"
           }
          ],
          "scatter3d": [
           {
            "line": {
             "colorbar": {
              "outlinewidth": 0,
              "ticks": ""
             }
            },
            "marker": {
             "colorbar": {
              "outlinewidth": 0,
              "ticks": ""
             }
            },
            "type": "scatter3d"
           }
          ],
          "scattercarpet": [
           {
            "marker": {
             "colorbar": {
              "outlinewidth": 0,
              "ticks": ""
             }
            },
            "type": "scattercarpet"
           }
          ],
          "scattergeo": [
           {
            "marker": {
             "colorbar": {
              "outlinewidth": 0,
              "ticks": ""
             }
            },
            "type": "scattergeo"
           }
          ],
          "scattergl": [
           {
            "marker": {
             "colorbar": {
              "outlinewidth": 0,
              "ticks": ""
             }
            },
            "type": "scattergl"
           }
          ],
          "scattermapbox": [
           {
            "marker": {
             "colorbar": {
              "outlinewidth": 0,
              "ticks": ""
             }
            },
            "type": "scattermapbox"
           }
          ],
          "scatterpolar": [
           {
            "marker": {
             "colorbar": {
              "outlinewidth": 0,
              "ticks": ""
             }
            },
            "type": "scatterpolar"
           }
          ],
          "scatterpolargl": [
           {
            "marker": {
             "colorbar": {
              "outlinewidth": 0,
              "ticks": ""
             }
            },
            "type": "scatterpolargl"
           }
          ],
          "scatterternary": [
           {
            "marker": {
             "colorbar": {
              "outlinewidth": 0,
              "ticks": ""
             }
            },
            "type": "scatterternary"
           }
          ],
          "surface": [
           {
            "colorbar": {
             "outlinewidth": 0,
             "ticks": ""
            },
            "colorscale": [
             [
              0,
              "#0d0887"
             ],
             [
              0.1111111111111111,
              "#46039f"
             ],
             [
              0.2222222222222222,
              "#7201a8"
             ],
             [
              0.3333333333333333,
              "#9c179e"
             ],
             [
              0.4444444444444444,
              "#bd3786"
             ],
             [
              0.5555555555555556,
              "#d8576b"
             ],
             [
              0.6666666666666666,
              "#ed7953"
             ],
             [
              0.7777777777777778,
              "#fb9f3a"
             ],
             [
              0.8888888888888888,
              "#fdca26"
             ],
             [
              1,
              "#f0f921"
             ]
            ],
            "type": "surface"
           }
          ],
          "table": [
           {
            "cells": {
             "fill": {
              "color": "#EBF0F8"
             },
             "line": {
              "color": "white"
             }
            },
            "header": {
             "fill": {
              "color": "#C8D4E3"
             },
             "line": {
              "color": "white"
             }
            },
            "type": "table"
           }
          ]
         },
         "layout": {
          "annotationdefaults": {
           "arrowcolor": "#2a3f5f",
           "arrowhead": 0,
           "arrowwidth": 1
          },
          "coloraxis": {
           "colorbar": {
            "outlinewidth": 0,
            "ticks": ""
           }
          },
          "colorscale": {
           "diverging": [
            [
             0,
             "#8e0152"
            ],
            [
             0.1,
             "#c51b7d"
            ],
            [
             0.2,
             "#de77ae"
            ],
            [
             0.3,
             "#f1b6da"
            ],
            [
             0.4,
             "#fde0ef"
            ],
            [
             0.5,
             "#f7f7f7"
            ],
            [
             0.6,
             "#e6f5d0"
            ],
            [
             0.7,
             "#b8e186"
            ],
            [
             0.8,
             "#7fbc41"
            ],
            [
             0.9,
             "#4d9221"
            ],
            [
             1,
             "#276419"
            ]
           ],
           "sequential": [
            [
             0,
             "#0d0887"
            ],
            [
             0.1111111111111111,
             "#46039f"
            ],
            [
             0.2222222222222222,
             "#7201a8"
            ],
            [
             0.3333333333333333,
             "#9c179e"
            ],
            [
             0.4444444444444444,
             "#bd3786"
            ],
            [
             0.5555555555555556,
             "#d8576b"
            ],
            [
             0.6666666666666666,
             "#ed7953"
            ],
            [
             0.7777777777777778,
             "#fb9f3a"
            ],
            [
             0.8888888888888888,
             "#fdca26"
            ],
            [
             1,
             "#f0f921"
            ]
           ],
           "sequentialminus": [
            [
             0,
             "#0d0887"
            ],
            [
             0.1111111111111111,
             "#46039f"
            ],
            [
             0.2222222222222222,
             "#7201a8"
            ],
            [
             0.3333333333333333,
             "#9c179e"
            ],
            [
             0.4444444444444444,
             "#bd3786"
            ],
            [
             0.5555555555555556,
             "#d8576b"
            ],
            [
             0.6666666666666666,
             "#ed7953"
            ],
            [
             0.7777777777777778,
             "#fb9f3a"
            ],
            [
             0.8888888888888888,
             "#fdca26"
            ],
            [
             1,
             "#f0f921"
            ]
           ]
          },
          "colorway": [
           "#636efa",
           "#EF553B",
           "#00cc96",
           "#ab63fa",
           "#FFA15A",
           "#19d3f3",
           "#FF6692",
           "#B6E880",
           "#FF97FF",
           "#FECB52"
          ],
          "font": {
           "color": "#2a3f5f"
          },
          "geo": {
           "bgcolor": "white",
           "lakecolor": "white",
           "landcolor": "#E5ECF6",
           "showlakes": true,
           "showland": true,
           "subunitcolor": "white"
          },
          "hoverlabel": {
           "align": "left"
          },
          "hovermode": "closest",
          "mapbox": {
           "style": "light"
          },
          "paper_bgcolor": "white",
          "plot_bgcolor": "#E5ECF6",
          "polar": {
           "angularaxis": {
            "gridcolor": "white",
            "linecolor": "white",
            "ticks": ""
           },
           "bgcolor": "#E5ECF6",
           "radialaxis": {
            "gridcolor": "white",
            "linecolor": "white",
            "ticks": ""
           }
          },
          "scene": {
           "xaxis": {
            "backgroundcolor": "#E5ECF6",
            "gridcolor": "white",
            "gridwidth": 2,
            "linecolor": "white",
            "showbackground": true,
            "ticks": "",
            "zerolinecolor": "white"
           },
           "yaxis": {
            "backgroundcolor": "#E5ECF6",
            "gridcolor": "white",
            "gridwidth": 2,
            "linecolor": "white",
            "showbackground": true,
            "ticks": "",
            "zerolinecolor": "white"
           },
           "zaxis": {
            "backgroundcolor": "#E5ECF6",
            "gridcolor": "white",
            "gridwidth": 2,
            "linecolor": "white",
            "showbackground": true,
            "ticks": "",
            "zerolinecolor": "white"
           }
          },
          "shapedefaults": {
           "line": {
            "color": "#2a3f5f"
           }
          },
          "ternary": {
           "aaxis": {
            "gridcolor": "white",
            "linecolor": "white",
            "ticks": ""
           },
           "baxis": {
            "gridcolor": "white",
            "linecolor": "white",
            "ticks": ""
           },
           "bgcolor": "#E5ECF6",
           "caxis": {
            "gridcolor": "white",
            "linecolor": "white",
            "ticks": ""
           }
          },
          "title": {
           "x": 0.05
          },
          "xaxis": {
           "automargin": true,
           "gridcolor": "white",
           "linecolor": "white",
           "ticks": "",
           "title": {
            "standoff": 15
           },
           "zerolinecolor": "white",
           "zerolinewidth": 2
          },
          "yaxis": {
           "automargin": true,
           "gridcolor": "white",
           "linecolor": "white",
           "ticks": "",
           "title": {
            "standoff": 15
           },
           "zerolinecolor": "white",
           "zerolinewidth": 2
          }
         }
        }
       }
      }
     },
     "metadata": {}
    }
   ],
   "source": [
    "#volume bar chart for Visa\n",
    "basicBarGraph(y[\"V\"][\"Date\"],y[\"V\"][\"Volume\"])"
   ]
  },
  {
   "cell_type": "code",
   "execution_count": 219,
   "metadata": {},
   "outputs": [
    {
     "output_type": "display_data",
     "data": {
      "application/vnd.plotly.v1+json": {
       "config": {
        "plotlyServerURL": "https://plot.ly"
       },
       "data": [
        {
         "mode": "lines",
         "type": "scatter",
         "x": [
          "2020-04-08T00:00:00",
          "2020-04-07T00:00:00",
          "2020-04-06T00:00:00",
          "2020-04-03T00:00:00",
          "2020-04-02T00:00:00",
          "2020-04-01T00:00:00",
          "2020-03-31T00:00:00",
          "2020-03-30T00:00:00",
          "2020-03-27T00:00:00",
          "2020-03-26T00:00:00",
          "2020-03-25T00:00:00",
          "2020-03-24T00:00:00",
          "2020-03-23T00:00:00",
          "2020-03-20T00:00:00",
          "2020-03-19T00:00:00",
          "2020-03-18T00:00:00",
          "2020-03-17T00:00:00",
          "2020-03-16T00:00:00",
          "2020-03-13T00:00:00",
          "2020-03-12T00:00:00",
          "2020-03-11T00:00:00",
          "2020-03-10T00:00:00",
          "2020-03-09T00:00:00",
          "2020-03-06T00:00:00",
          "2020-03-05T00:00:00",
          "2020-03-04T00:00:00",
          "2020-03-03T00:00:00",
          "2020-03-02T00:00:00",
          "2020-02-28T00:00:00",
          "2020-02-27T00:00:00",
          "2020-02-26T00:00:00",
          "2020-02-25T00:00:00",
          "2020-02-24T00:00:00",
          "2020-02-21T00:00:00",
          "2020-02-20T00:00:00",
          "2020-02-19T00:00:00",
          "2020-02-18T00:00:00",
          "2020-02-14T00:00:00",
          "2020-02-13T00:00:00",
          "2020-02-12T00:00:00",
          "2020-02-11T00:00:00",
          "2020-02-10T00:00:00",
          "2020-02-07T00:00:00",
          "2020-02-06T00:00:00",
          "2020-02-05T00:00:00",
          "2020-02-04T00:00:00",
          "2020-02-03T00:00:00",
          "2020-01-31T00:00:00",
          "2020-01-30T00:00:00",
          "2020-01-29T00:00:00",
          "2020-01-28T00:00:00",
          "2020-01-27T00:00:00",
          "2020-01-24T00:00:00",
          "2020-01-23T00:00:00",
          "2020-01-22T00:00:00",
          "2020-01-21T00:00:00",
          "2020-01-17T00:00:00",
          "2020-01-16T00:00:00",
          "2020-01-15T00:00:00",
          "2020-01-14T00:00:00",
          "2020-01-13T00:00:00",
          "2020-01-10T00:00:00",
          "2020-01-09T00:00:00",
          "2020-01-08T00:00:00",
          "2020-01-07T00:00:00",
          "2020-01-06T00:00:00",
          "2020-01-03T00:00:00",
          "2020-01-02T00:00:00",
          "2019-12-31T00:00:00",
          "2019-12-30T00:00:00",
          "2019-12-27T00:00:00",
          "2019-12-26T00:00:00",
          "2019-12-24T00:00:00",
          "2019-12-23T00:00:00",
          "2019-12-20T00:00:00",
          "2019-12-19T00:00:00",
          "2019-12-18T00:00:00",
          "2019-12-17T00:00:00",
          "2019-12-16T00:00:00",
          "2019-12-13T00:00:00",
          "2019-12-12T00:00:00",
          "2019-12-11T00:00:00",
          "2019-12-10T00:00:00",
          "2019-12-09T00:00:00",
          "2019-12-06T00:00:00",
          "2019-12-05T00:00:00",
          "2019-12-04T00:00:00",
          "2019-12-03T00:00:00",
          "2019-12-02T00:00:00",
          "2019-11-29T00:00:00",
          "2019-11-27T00:00:00",
          "2019-11-26T00:00:00",
          "2019-11-25T00:00:00",
          "2019-11-22T00:00:00",
          "2019-11-21T00:00:00",
          "2019-11-20T00:00:00",
          "2019-11-19T00:00:00",
          "2019-11-18T00:00:00"
         ],
         "y": [
          80218.34878231332,
          -478011.0441524066,
          -394926.4305928841,
          -1640126.9322453868,
          -1127495.427470939,
          -1470004.201853045,
          -391623.0967652011,
          42398.28481374518,
          -319698.15173876955,
          453391.89530257654,
          -413490.86168463266,
          -1510908.187682902,
          -5200584.231169602,
          -3673433.877552392,
          -2958686.3736363,
          -3522948.2783982065,
          -2109800.514389586,
          -2992117.0638860706,
          133879.8968402003,
          -2326543.6656917906,
          -1152887.7811340718,
          -253482.11475650535,
          -1540333.1990938545,
          -366525.35710238456,
          -223989.34061290778,
          199010.78240805835,
          -471831.6901844582,
          147711.19464836578,
          -1098436.4630233468,
          -1267280.2680409525,
          -698723.8545083696,
          -580880.7371535277,
          153522.40509700216,
          618835.7005343989,
          726705.1320750334,
          778845.8272748446,
          703159.4318878487,
          674942.5379484548,
          544449.3285709292,
          535227.9785227126,
          362835.7269054499,
          425337.96113083634,
          335692.5529923753,
          346067.2627972658,
          336229.2751277224,
          374025.1718292828,
          226724.90617276682,
          73487.0047165527,
          471708.4512637638,
          358247.3623310527,
          287698.86800176057,
          246472.9398816975,
          374489.6727516075,
          437760.879395477,
          491730.91140013206,
          448062.13972383254,
          291417.12788751174,
          108740.81673291247,
          46666.83586976056,
          -70242.14112387325,
          -111766.17442826099,
          -164443.86732751766,
          -182578.96474857337,
          -221947.5712677218,
          -295748.4792201326,
          -268921.4438735664,
          -258287.96409376478,
          -188637.9878617893,
          -277331.8151516658,
          -279135.10886802233,
          -233817.2585801144,
          -240186.28353781372,
          -260564.44543097873,
          -275820.8949771616,
          -220370.22317158448,
          -265899.0784424516,
          -344861.55227076606,
          -310580.04872313,
          -278515.6600591625,
          -329136.2440243179,
          -479881.78954279085,
          -504541.53293570655,
          -492676.7461406584,
          -455567.7021846146,
          -515214.17650849506,
          -522354.0148901124,
          -597996.8932692343,
          -565246.0337816003,
          -569414.4548342313,
          -522551.8921724122,
          -531254.5517468812,
          -600852.5419695864,
          -648158.0661343783,
          -705146.611317268,
          -693165.561152657,
          -633644.9632569823,
          -581327.4935767184,
          -703568.5050281452
         ]
        }
       ],
       "layout": {
        "template": {
         "data": {
          "bar": [
           {
            "error_x": {
             "color": "#2a3f5f"
            },
            "error_y": {
             "color": "#2a3f5f"
            },
            "marker": {
             "line": {
              "color": "#E5ECF6",
              "width": 0.5
             }
            },
            "type": "bar"
           }
          ],
          "barpolar": [
           {
            "marker": {
             "line": {
              "color": "#E5ECF6",
              "width": 0.5
             }
            },
            "type": "barpolar"
           }
          ],
          "carpet": [
           {
            "aaxis": {
             "endlinecolor": "#2a3f5f",
             "gridcolor": "white",
             "linecolor": "white",
             "minorgridcolor": "white",
             "startlinecolor": "#2a3f5f"
            },
            "baxis": {
             "endlinecolor": "#2a3f5f",
             "gridcolor": "white",
             "linecolor": "white",
             "minorgridcolor": "white",
             "startlinecolor": "#2a3f5f"
            },
            "type": "carpet"
           }
          ],
          "choropleth": [
           {
            "colorbar": {
             "outlinewidth": 0,
             "ticks": ""
            },
            "type": "choropleth"
           }
          ],
          "contour": [
           {
            "colorbar": {
             "outlinewidth": 0,
             "ticks": ""
            },
            "colorscale": [
             [
              0,
              "#0d0887"
             ],
             [
              0.1111111111111111,
              "#46039f"
             ],
             [
              0.2222222222222222,
              "#7201a8"
             ],
             [
              0.3333333333333333,
              "#9c179e"
             ],
             [
              0.4444444444444444,
              "#bd3786"
             ],
             [
              0.5555555555555556,
              "#d8576b"
             ],
             [
              0.6666666666666666,
              "#ed7953"
             ],
             [
              0.7777777777777778,
              "#fb9f3a"
             ],
             [
              0.8888888888888888,
              "#fdca26"
             ],
             [
              1,
              "#f0f921"
             ]
            ],
            "type": "contour"
           }
          ],
          "contourcarpet": [
           {
            "colorbar": {
             "outlinewidth": 0,
             "ticks": ""
            },
            "type": "contourcarpet"
           }
          ],
          "heatmap": [
           {
            "colorbar": {
             "outlinewidth": 0,
             "ticks": ""
            },
            "colorscale": [
             [
              0,
              "#0d0887"
             ],
             [
              0.1111111111111111,
              "#46039f"
             ],
             [
              0.2222222222222222,
              "#7201a8"
             ],
             [
              0.3333333333333333,
              "#9c179e"
             ],
             [
              0.4444444444444444,
              "#bd3786"
             ],
             [
              0.5555555555555556,
              "#d8576b"
             ],
             [
              0.6666666666666666,
              "#ed7953"
             ],
             [
              0.7777777777777778,
              "#fb9f3a"
             ],
             [
              0.8888888888888888,
              "#fdca26"
             ],
             [
              1,
              "#f0f921"
             ]
            ],
            "type": "heatmap"
           }
          ],
          "heatmapgl": [
           {
            "colorbar": {
             "outlinewidth": 0,
             "ticks": ""
            },
            "colorscale": [
             [
              0,
              "#0d0887"
             ],
             [
              0.1111111111111111,
              "#46039f"
             ],
             [
              0.2222222222222222,
              "#7201a8"
             ],
             [
              0.3333333333333333,
              "#9c179e"
             ],
             [
              0.4444444444444444,
              "#bd3786"
             ],
             [
              0.5555555555555556,
              "#d8576b"
             ],
             [
              0.6666666666666666,
              "#ed7953"
             ],
             [
              0.7777777777777778,
              "#fb9f3a"
             ],
             [
              0.8888888888888888,
              "#fdca26"
             ],
             [
              1,
              "#f0f921"
             ]
            ],
            "type": "heatmapgl"
           }
          ],
          "histogram": [
           {
            "marker": {
             "colorbar": {
              "outlinewidth": 0,
              "ticks": ""
             }
            },
            "type": "histogram"
           }
          ],
          "histogram2d": [
           {
            "colorbar": {
             "outlinewidth": 0,
             "ticks": ""
            },
            "colorscale": [
             [
              0,
              "#0d0887"
             ],
             [
              0.1111111111111111,
              "#46039f"
             ],
             [
              0.2222222222222222,
              "#7201a8"
             ],
             [
              0.3333333333333333,
              "#9c179e"
             ],
             [
              0.4444444444444444,
              "#bd3786"
             ],
             [
              0.5555555555555556,
              "#d8576b"
             ],
             [
              0.6666666666666666,
              "#ed7953"
             ],
             [
              0.7777777777777778,
              "#fb9f3a"
             ],
             [
              0.8888888888888888,
              "#fdca26"
             ],
             [
              1,
              "#f0f921"
             ]
            ],
            "type": "histogram2d"
           }
          ],
          "histogram2dcontour": [
           {
            "colorbar": {
             "outlinewidth": 0,
             "ticks": ""
            },
            "colorscale": [
             [
              0,
              "#0d0887"
             ],
             [
              0.1111111111111111,
              "#46039f"
             ],
             [
              0.2222222222222222,
              "#7201a8"
             ],
             [
              0.3333333333333333,
              "#9c179e"
             ],
             [
              0.4444444444444444,
              "#bd3786"
             ],
             [
              0.5555555555555556,
              "#d8576b"
             ],
             [
              0.6666666666666666,
              "#ed7953"
             ],
             [
              0.7777777777777778,
              "#fb9f3a"
             ],
             [
              0.8888888888888888,
              "#fdca26"
             ],
             [
              1,
              "#f0f921"
             ]
            ],
            "type": "histogram2dcontour"
           }
          ],
          "mesh3d": [
           {
            "colorbar": {
             "outlinewidth": 0,
             "ticks": ""
            },
            "type": "mesh3d"
           }
          ],
          "parcoords": [
           {
            "line": {
             "colorbar": {
              "outlinewidth": 0,
              "ticks": ""
             }
            },
            "type": "parcoords"
           }
          ],
          "pie": [
           {
            "automargin": true,
            "type": "pie"
           }
          ],
          "scatter": [
           {
            "marker": {
             "colorbar": {
              "outlinewidth": 0,
              "ticks": ""
             }
            },
            "type": "scatter"
           }
          ],
          "scatter3d": [
           {
            "line": {
             "colorbar": {
              "outlinewidth": 0,
              "ticks": ""
             }
            },
            "marker": {
             "colorbar": {
              "outlinewidth": 0,
              "ticks": ""
             }
            },
            "type": "scatter3d"
           }
          ],
          "scattercarpet": [
           {
            "marker": {
             "colorbar": {
              "outlinewidth": 0,
              "ticks": ""
             }
            },
            "type": "scattercarpet"
           }
          ],
          "scattergeo": [
           {
            "marker": {
             "colorbar": {
              "outlinewidth": 0,
              "ticks": ""
             }
            },
            "type": "scattergeo"
           }
          ],
          "scattergl": [
           {
            "marker": {
             "colorbar": {
              "outlinewidth": 0,
              "ticks": ""
             }
            },
            "type": "scattergl"
           }
          ],
          "scattermapbox": [
           {
            "marker": {
             "colorbar": {
              "outlinewidth": 0,
              "ticks": ""
             }
            },
            "type": "scattermapbox"
           }
          ],
          "scatterpolar": [
           {
            "marker": {
             "colorbar": {
              "outlinewidth": 0,
              "ticks": ""
             }
            },
            "type": "scatterpolar"
           }
          ],
          "scatterpolargl": [
           {
            "marker": {
             "colorbar": {
              "outlinewidth": 0,
              "ticks": ""
             }
            },
            "type": "scatterpolargl"
           }
          ],
          "scatterternary": [
           {
            "marker": {
             "colorbar": {
              "outlinewidth": 0,
              "ticks": ""
             }
            },
            "type": "scatterternary"
           }
          ],
          "surface": [
           {
            "colorbar": {
             "outlinewidth": 0,
             "ticks": ""
            },
            "colorscale": [
             [
              0,
              "#0d0887"
             ],
             [
              0.1111111111111111,
              "#46039f"
             ],
             [
              0.2222222222222222,
              "#7201a8"
             ],
             [
              0.3333333333333333,
              "#9c179e"
             ],
             [
              0.4444444444444444,
              "#bd3786"
             ],
             [
              0.5555555555555556,
              "#d8576b"
             ],
             [
              0.6666666666666666,
              "#ed7953"
             ],
             [
              0.7777777777777778,
              "#fb9f3a"
             ],
             [
              0.8888888888888888,
              "#fdca26"
             ],
             [
              1,
              "#f0f921"
             ]
            ],
            "type": "surface"
           }
          ],
          "table": [
           {
            "cells": {
             "fill": {
              "color": "#EBF0F8"
             },
             "line": {
              "color": "white"
             }
            },
            "header": {
             "fill": {
              "color": "#C8D4E3"
             },
             "line": {
              "color": "white"
             }
            },
            "type": "table"
           }
          ]
         },
         "layout": {
          "annotationdefaults": {
           "arrowcolor": "#2a3f5f",
           "arrowhead": 0,
           "arrowwidth": 1
          },
          "coloraxis": {
           "colorbar": {
            "outlinewidth": 0,
            "ticks": ""
           }
          },
          "colorscale": {
           "diverging": [
            [
             0,
             "#8e0152"
            ],
            [
             0.1,
             "#c51b7d"
            ],
            [
             0.2,
             "#de77ae"
            ],
            [
             0.3,
             "#f1b6da"
            ],
            [
             0.4,
             "#fde0ef"
            ],
            [
             0.5,
             "#f7f7f7"
            ],
            [
             0.6,
             "#e6f5d0"
            ],
            [
             0.7,
             "#b8e186"
            ],
            [
             0.8,
             "#7fbc41"
            ],
            [
             0.9,
             "#4d9221"
            ],
            [
             1,
             "#276419"
            ]
           ],
           "sequential": [
            [
             0,
             "#0d0887"
            ],
            [
             0.1111111111111111,
             "#46039f"
            ],
            [
             0.2222222222222222,
             "#7201a8"
            ],
            [
             0.3333333333333333,
             "#9c179e"
            ],
            [
             0.4444444444444444,
             "#bd3786"
            ],
            [
             0.5555555555555556,
             "#d8576b"
            ],
            [
             0.6666666666666666,
             "#ed7953"
            ],
            [
             0.7777777777777778,
             "#fb9f3a"
            ],
            [
             0.8888888888888888,
             "#fdca26"
            ],
            [
             1,
             "#f0f921"
            ]
           ],
           "sequentialminus": [
            [
             0,
             "#0d0887"
            ],
            [
             0.1111111111111111,
             "#46039f"
            ],
            [
             0.2222222222222222,
             "#7201a8"
            ],
            [
             0.3333333333333333,
             "#9c179e"
            ],
            [
             0.4444444444444444,
             "#bd3786"
            ],
            [
             0.5555555555555556,
             "#d8576b"
            ],
            [
             0.6666666666666666,
             "#ed7953"
            ],
            [
             0.7777777777777778,
             "#fb9f3a"
            ],
            [
             0.8888888888888888,
             "#fdca26"
            ],
            [
             1,
             "#f0f921"
            ]
           ]
          },
          "colorway": [
           "#636efa",
           "#EF553B",
           "#00cc96",
           "#ab63fa",
           "#FFA15A",
           "#19d3f3",
           "#FF6692",
           "#B6E880",
           "#FF97FF",
           "#FECB52"
          ],
          "font": {
           "color": "#2a3f5f"
          },
          "geo": {
           "bgcolor": "white",
           "lakecolor": "white",
           "landcolor": "#E5ECF6",
           "showlakes": true,
           "showland": true,
           "subunitcolor": "white"
          },
          "hoverlabel": {
           "align": "left"
          },
          "hovermode": "closest",
          "mapbox": {
           "style": "light"
          },
          "paper_bgcolor": "white",
          "plot_bgcolor": "#E5ECF6",
          "polar": {
           "angularaxis": {
            "gridcolor": "white",
            "linecolor": "white",
            "ticks": ""
           },
           "bgcolor": "#E5ECF6",
           "radialaxis": {
            "gridcolor": "white",
            "linecolor": "white",
            "ticks": ""
           }
          },
          "scene": {
           "xaxis": {
            "backgroundcolor": "#E5ECF6",
            "gridcolor": "white",
            "gridwidth": 2,
            "linecolor": "white",
            "showbackground": true,
            "ticks": "",
            "zerolinecolor": "white"
           },
           "yaxis": {
            "backgroundcolor": "#E5ECF6",
            "gridcolor": "white",
            "gridwidth": 2,
            "linecolor": "white",
            "showbackground": true,
            "ticks": "",
            "zerolinecolor": "white"
           },
           "zaxis": {
            "backgroundcolor": "#E5ECF6",
            "gridcolor": "white",
            "gridwidth": 2,
            "linecolor": "white",
            "showbackground": true,
            "ticks": "",
            "zerolinecolor": "white"
           }
          },
          "shapedefaults": {
           "line": {
            "color": "#2a3f5f"
           }
          },
          "ternary": {
           "aaxis": {
            "gridcolor": "white",
            "linecolor": "white",
            "ticks": ""
           },
           "baxis": {
            "gridcolor": "white",
            "linecolor": "white",
            "ticks": ""
           },
           "bgcolor": "#E5ECF6",
           "caxis": {
            "gridcolor": "white",
            "linecolor": "white",
            "ticks": ""
           }
          },
          "title": {
           "x": 0.05
          },
          "xaxis": {
           "automargin": true,
           "gridcolor": "white",
           "linecolor": "white",
           "ticks": "",
           "title": {
            "standoff": 15
           },
           "zerolinecolor": "white",
           "zerolinewidth": 2
          },
          "yaxis": {
           "automargin": true,
           "gridcolor": "white",
           "linecolor": "white",
           "ticks": "",
           "title": {
            "standoff": 15
           },
           "zerolinecolor": "white",
           "zerolinewidth": 2
          }
         }
        }
       }
      }
     },
     "metadata": {}
    }
   ],
   "source": [
    "#volume-price adjusted chart for Visa\n",
    "#exaggerates price movements based on corresponding daily volume\n",
    "a, b = calcVolPriceTrend(y[\"V\"])\n",
    "basicLineGraph(a,b)"
   ]
  },
  {
   "cell_type": "code",
   "execution_count": 18,
   "metadata": {},
   "outputs": [
    {
     "output_type": "display_data",
     "data": {
      "application/vnd.plotly.v1+json": {
       "config": {
        "plotlyServerURL": "https://plot.ly"
       },
       "data": [
        {
         "mode": "lines",
         "name": "fast MA",
         "type": "scatter",
         "x": [
          "2020-04-09T00:00:00",
          "2020-04-08T00:00:00",
          "2020-04-07T00:00:00",
          "2020-04-06T00:00:00",
          "2020-04-03T00:00:00",
          "2020-04-02T00:00:00",
          "2020-04-01T00:00:00",
          "2020-03-31T00:00:00",
          "2020-03-30T00:00:00",
          "2020-03-27T00:00:00",
          "2020-03-26T00:00:00",
          "2020-03-25T00:00:00",
          "2020-03-24T00:00:00",
          "2020-03-23T00:00:00",
          "2020-03-20T00:00:00",
          "2020-03-19T00:00:00",
          "2020-03-18T00:00:00",
          "2020-03-17T00:00:00",
          "2020-03-16T00:00:00",
          "2020-03-13T00:00:00",
          "2020-03-12T00:00:00",
          "2020-03-11T00:00:00",
          "2020-03-10T00:00:00",
          "2020-03-09T00:00:00",
          "2020-03-06T00:00:00",
          "2020-03-05T00:00:00",
          "2020-03-04T00:00:00",
          "2020-03-03T00:00:00",
          "2020-03-02T00:00:00",
          "2020-02-28T00:00:00",
          "2020-02-27T00:00:00",
          "2020-02-26T00:00:00",
          "2020-02-25T00:00:00",
          "2020-02-24T00:00:00",
          "2020-02-21T00:00:00",
          "2020-02-20T00:00:00",
          "2020-02-19T00:00:00",
          "2020-02-18T00:00:00",
          "2020-02-14T00:00:00",
          "2020-02-13T00:00:00",
          "2020-02-12T00:00:00",
          "2020-02-11T00:00:00",
          "2020-02-10T00:00:00",
          "2020-02-07T00:00:00",
          "2020-02-06T00:00:00",
          "2020-02-05T00:00:00",
          "2020-02-04T00:00:00",
          "2020-02-03T00:00:00",
          "2020-01-31T00:00:00",
          "2020-01-30T00:00:00",
          "2020-01-29T00:00:00",
          "2020-01-28T00:00:00",
          "2020-01-27T00:00:00",
          "2020-01-24T00:00:00",
          "2020-01-23T00:00:00",
          "2020-01-22T00:00:00",
          "2020-01-21T00:00:00",
          "2020-01-17T00:00:00",
          "2020-01-16T00:00:00",
          "2020-01-15T00:00:00",
          "2020-01-14T00:00:00",
          "2020-01-13T00:00:00",
          "2020-01-10T00:00:00",
          "2020-01-09T00:00:00"
         ],
         "y": [
          0.28138461538463844,
          -0.9919230769230865,
          -2.7229230769230526,
          -5.041999999999945,
          -8.88584615384616,
          -10.470923076923071,
          -12.13184615384614,
          -13.952153846153863,
          -15.724000000000018,
          -18.743076923076984,
          -19.23492307692311,
          -21.823769230769273,
          -22.607538461538468,
          -21.945153846153886,
          -21.162307692307678,
          -19.72892307692308,
          -18.23484615384615,
          -15.854230769230753,
          -14.784076923076896,
          -12.703615384615347,
          -13.137153846153836,
          -12.805307692307707,
          -12.439692307692354,
          -12.478153846153873,
          -11.12676923076927,
          -9.458692307692331,
          -7.60969230769237,
          -5.981153846153887,
          -4.1637692307692475,
          -2.9020000000000437,
          -1.3318461538461577,
          0.34346153846158245,
          1.3263076923077506,
          2.5837692307692635,
          2.9220769230769292,
          2.8176153846153795,
          2.5553846153846393,
          2.3136923076923495,
          1.94684615384611,
          1.5031538461538219,
          2.284153846153856,
          2.7269230769231,
          3.168692307692311,
          3.3108461538461142,
          4.10584615384613,
          5.03707692307691,
          6.060461538461539,
          6.985538461538425,
          7.881999999999977,
          8.536538461538385,
          8.472692307692256,
          8.297153846153833,
          8.235769230769222,
          8.06592307692307,
          7.6133076923076715,
          6.976461538461507,
          6.028461538461528,
          5.192230769230747,
          4.546769230769257,
          4.257076923076937,
          3.7460000000000377,
          3.468846153846158,
          3.4416153846153748,
          3.4373846153845875,
          3.310384615384578,
          3.1120000000000516,
          3.2091538461538107,
          3.1991538461538482,
          3.0606923076922783,
          2.948999999999984,
          3.0906923076922794,
          3.0586153846154502,
          2.6388461538462025
         ]
        },
        {
         "mode": "lines",
         "name": "slow MA",
         "type": "scatter",
         "x": [
          "2020-04-09T00:00:00",
          "2020-04-08T00:00:00",
          "2020-04-07T00:00:00",
          "2020-04-06T00:00:00",
          "2020-04-03T00:00:00",
          "2020-04-02T00:00:00",
          "2020-04-01T00:00:00",
          "2020-03-31T00:00:00",
          "2020-03-30T00:00:00",
          "2020-03-27T00:00:00",
          "2020-03-26T00:00:00",
          "2020-03-25T00:00:00",
          "2020-03-24T00:00:00",
          "2020-03-23T00:00:00",
          "2020-03-20T00:00:00",
          "2020-03-19T00:00:00",
          "2020-03-18T00:00:00",
          "2020-03-17T00:00:00",
          "2020-03-16T00:00:00",
          "2020-03-13T00:00:00",
          "2020-03-12T00:00:00",
          "2020-03-11T00:00:00",
          "2020-03-10T00:00:00",
          "2020-03-09T00:00:00",
          "2020-03-06T00:00:00",
          "2020-03-05T00:00:00",
          "2020-03-04T00:00:00",
          "2020-03-03T00:00:00",
          "2020-03-02T00:00:00",
          "2020-02-28T00:00:00",
          "2020-02-27T00:00:00",
          "2020-02-26T00:00:00",
          "2020-02-25T00:00:00",
          "2020-02-24T00:00:00",
          "2020-02-21T00:00:00",
          "2020-02-20T00:00:00",
          "2020-02-19T00:00:00",
          "2020-02-18T00:00:00",
          "2020-02-14T00:00:00",
          "2020-02-13T00:00:00",
          "2020-02-12T00:00:00",
          "2020-02-11T00:00:00",
          "2020-02-10T00:00:00",
          "2020-02-07T00:00:00",
          "2020-02-06T00:00:00",
          "2020-02-05T00:00:00",
          "2020-02-04T00:00:00",
          "2020-02-03T00:00:00",
          "2020-01-31T00:00:00",
          "2020-01-30T00:00:00",
          "2020-01-29T00:00:00",
          "2020-01-28T00:00:00",
          "2020-01-27T00:00:00",
          "2020-01-24T00:00:00",
          "2020-01-23T00:00:00",
          "2020-01-22T00:00:00",
          "2020-01-21T00:00:00",
          "2020-01-17T00:00:00",
          "2020-01-16T00:00:00",
          "2020-01-15T00:00:00",
          "2020-01-14T00:00:00",
          "2020-01-13T00:00:00",
          "2020-01-10T00:00:00",
          "2020-01-09T00:00:00"
         ],
         "y": [
          -7.737803418803411,
          -9.85163247863248,
          -11.878632478632483,
          -14.000948717948729,
          -15.952675213675231,
          -17.403709401709424,
          -18.591641025641046,
          -19.435760683760705,
          -19.911615384615406,
          -19.926085470085486,
          -19.486196581196587,
          -18.760495726495726,
          -17.795316239316232,
          -16.706179487179483,
          -15.65001709401709,
          -14.68511111111111,
          -13.729316239316242,
          -12.75418803418804,
          -11.838128205128221,
          -10.860025641025665,
          -9.911153846153875,
          -8.773914529914565,
          -7.499085470085504,
          -6.078735042735066,
          -4.5449059829059975,
          -3.021512820512827,
          -1.6458717948717978,
          -0.4872820512820479,
          0.46122222222223286,
          1.180940170940188,
          1.7197008547008719,
          2.0347008547008696,
          2.2503333333333444,
          2.405957264957272,
          2.4709487179487217,
          2.514145299145298,
          2.657282051282048,
          2.9330256410256337,
          3.3493333333333215,
          3.909188034188023,
          4.617948717948707,
          5.312658119658099,
          5.951076923076894,
          6.520905982905952,
          7.068119658119631,
          7.5081282051281795,
          7.794376068376042,
          7.896153846153816,
          7.789811965811939,
          7.490948717948691,
          7.04764102564101,
          6.579239316239308,
          6.073555555555553,
          5.543897435897435,
          5.030085470085469,
          4.566094017094015,
          4.158752136752134,
          3.8347008547008588,
          3.614358974358977,
          3.4646239316239313,
          3.3316923076923026,
          3.243136752136741,
          3.2011196581196435,
          3.1585641025640965
         ]
        }
       ],
       "layout": {
        "annotations": [
         {
          "arrowhead": 7,
          "ax": 0,
          "ay": -40,
          "showarrow": true,
          "text": "buy",
          "x": "2020-03-25T00:00:00",
          "xref": "x",
          "y": -18.760495726495726,
          "yref": "y"
         },
         {
          "arrowhead": 7,
          "ax": 0,
          "ay": -40,
          "showarrow": true,
          "text": "sell",
          "x": "2020-02-24T00:00:00",
          "xref": "x",
          "y": 2.405957264957272,
          "yref": "y"
         },
         {
          "arrowhead": 7,
          "ax": 0,
          "ay": -40,
          "showarrow": true,
          "text": "buy",
          "x": "2020-02-19T00:00:00",
          "xref": "x",
          "y": 2.657282051282048,
          "yref": "y"
         },
         {
          "arrowhead": 7,
          "ax": 0,
          "ay": -40,
          "showarrow": true,
          "text": "sell",
          "x": "2020-01-31T00:00:00",
          "xref": "x",
          "y": 7.789811965811939,
          "yref": "y"
         }
        ],
        "template": {
         "data": {
          "bar": [
           {
            "error_x": {
             "color": "#2a3f5f"
            },
            "error_y": {
             "color": "#2a3f5f"
            },
            "marker": {
             "line": {
              "color": "#E5ECF6",
              "width": 0.5
             }
            },
            "type": "bar"
           }
          ],
          "barpolar": [
           {
            "marker": {
             "line": {
              "color": "#E5ECF6",
              "width": 0.5
             }
            },
            "type": "barpolar"
           }
          ],
          "carpet": [
           {
            "aaxis": {
             "endlinecolor": "#2a3f5f",
             "gridcolor": "white",
             "linecolor": "white",
             "minorgridcolor": "white",
             "startlinecolor": "#2a3f5f"
            },
            "baxis": {
             "endlinecolor": "#2a3f5f",
             "gridcolor": "white",
             "linecolor": "white",
             "minorgridcolor": "white",
             "startlinecolor": "#2a3f5f"
            },
            "type": "carpet"
           }
          ],
          "choropleth": [
           {
            "colorbar": {
             "outlinewidth": 0,
             "ticks": ""
            },
            "type": "choropleth"
           }
          ],
          "contour": [
           {
            "colorbar": {
             "outlinewidth": 0,
             "ticks": ""
            },
            "colorscale": [
             [
              0,
              "#0d0887"
             ],
             [
              0.1111111111111111,
              "#46039f"
             ],
             [
              0.2222222222222222,
              "#7201a8"
             ],
             [
              0.3333333333333333,
              "#9c179e"
             ],
             [
              0.4444444444444444,
              "#bd3786"
             ],
             [
              0.5555555555555556,
              "#d8576b"
             ],
             [
              0.6666666666666666,
              "#ed7953"
             ],
             [
              0.7777777777777778,
              "#fb9f3a"
             ],
             [
              0.8888888888888888,
              "#fdca26"
             ],
             [
              1,
              "#f0f921"
             ]
            ],
            "type": "contour"
           }
          ],
          "contourcarpet": [
           {
            "colorbar": {
             "outlinewidth": 0,
             "ticks": ""
            },
            "type": "contourcarpet"
           }
          ],
          "heatmap": [
           {
            "colorbar": {
             "outlinewidth": 0,
             "ticks": ""
            },
            "colorscale": [
             [
              0,
              "#0d0887"
             ],
             [
              0.1111111111111111,
              "#46039f"
             ],
             [
              0.2222222222222222,
              "#7201a8"
             ],
             [
              0.3333333333333333,
              "#9c179e"
             ],
             [
              0.4444444444444444,
              "#bd3786"
             ],
             [
              0.5555555555555556,
              "#d8576b"
             ],
             [
              0.6666666666666666,
              "#ed7953"
             ],
             [
              0.7777777777777778,
              "#fb9f3a"
             ],
             [
              0.8888888888888888,
              "#fdca26"
             ],
             [
              1,
              "#f0f921"
             ]
            ],
            "type": "heatmap"
           }
          ],
          "heatmapgl": [
           {
            "colorbar": {
             "outlinewidth": 0,
             "ticks": ""
            },
            "colorscale": [
             [
              0,
              "#0d0887"
             ],
             [
              0.1111111111111111,
              "#46039f"
             ],
             [
              0.2222222222222222,
              "#7201a8"
             ],
             [
              0.3333333333333333,
              "#9c179e"
             ],
             [
              0.4444444444444444,
              "#bd3786"
             ],
             [
              0.5555555555555556,
              "#d8576b"
             ],
             [
              0.6666666666666666,
              "#ed7953"
             ],
             [
              0.7777777777777778,
              "#fb9f3a"
             ],
             [
              0.8888888888888888,
              "#fdca26"
             ],
             [
              1,
              "#f0f921"
             ]
            ],
            "type": "heatmapgl"
           }
          ],
          "histogram": [
           {
            "marker": {
             "colorbar": {
              "outlinewidth": 0,
              "ticks": ""
             }
            },
            "type": "histogram"
           }
          ],
          "histogram2d": [
           {
            "colorbar": {
             "outlinewidth": 0,
             "ticks": ""
            },
            "colorscale": [
             [
              0,
              "#0d0887"
             ],
             [
              0.1111111111111111,
              "#46039f"
             ],
             [
              0.2222222222222222,
              "#7201a8"
             ],
             [
              0.3333333333333333,
              "#9c179e"
             ],
             [
              0.4444444444444444,
              "#bd3786"
             ],
             [
              0.5555555555555556,
              "#d8576b"
             ],
             [
              0.6666666666666666,
              "#ed7953"
             ],
             [
              0.7777777777777778,
              "#fb9f3a"
             ],
             [
              0.8888888888888888,
              "#fdca26"
             ],
             [
              1,
              "#f0f921"
             ]
            ],
            "type": "histogram2d"
           }
          ],
          "histogram2dcontour": [
           {
            "colorbar": {
             "outlinewidth": 0,
             "ticks": ""
            },
            "colorscale": [
             [
              0,
              "#0d0887"
             ],
             [
              0.1111111111111111,
              "#46039f"
             ],
             [
              0.2222222222222222,
              "#7201a8"
             ],
             [
              0.3333333333333333,
              "#9c179e"
             ],
             [
              0.4444444444444444,
              "#bd3786"
             ],
             [
              0.5555555555555556,
              "#d8576b"
             ],
             [
              0.6666666666666666,
              "#ed7953"
             ],
             [
              0.7777777777777778,
              "#fb9f3a"
             ],
             [
              0.8888888888888888,
              "#fdca26"
             ],
             [
              1,
              "#f0f921"
             ]
            ],
            "type": "histogram2dcontour"
           }
          ],
          "mesh3d": [
           {
            "colorbar": {
             "outlinewidth": 0,
             "ticks": ""
            },
            "type": "mesh3d"
           }
          ],
          "parcoords": [
           {
            "line": {
             "colorbar": {
              "outlinewidth": 0,
              "ticks": ""
             }
            },
            "type": "parcoords"
           }
          ],
          "pie": [
           {
            "automargin": true,
            "type": "pie"
           }
          ],
          "scatter": [
           {
            "marker": {
             "colorbar": {
              "outlinewidth": 0,
              "ticks": ""
             }
            },
            "type": "scatter"
           }
          ],
          "scatter3d": [
           {
            "line": {
             "colorbar": {
              "outlinewidth": 0,
              "ticks": ""
             }
            },
            "marker": {
             "colorbar": {
              "outlinewidth": 0,
              "ticks": ""
             }
            },
            "type": "scatter3d"
           }
          ],
          "scattercarpet": [
           {
            "marker": {
             "colorbar": {
              "outlinewidth": 0,
              "ticks": ""
             }
            },
            "type": "scattercarpet"
           }
          ],
          "scattergeo": [
           {
            "marker": {
             "colorbar": {
              "outlinewidth": 0,
              "ticks": ""
             }
            },
            "type": "scattergeo"
           }
          ],
          "scattergl": [
           {
            "marker": {
             "colorbar": {
              "outlinewidth": 0,
              "ticks": ""
             }
            },
            "type": "scattergl"
           }
          ],
          "scattermapbox": [
           {
            "marker": {
             "colorbar": {
              "outlinewidth": 0,
              "ticks": ""
             }
            },
            "type": "scattermapbox"
           }
          ],
          "scatterpolar": [
           {
            "marker": {
             "colorbar": {
              "outlinewidth": 0,
              "ticks": ""
             }
            },
            "type": "scatterpolar"
           }
          ],
          "scatterpolargl": [
           {
            "marker": {
             "colorbar": {
              "outlinewidth": 0,
              "ticks": ""
             }
            },
            "type": "scatterpolargl"
           }
          ],
          "scatterternary": [
           {
            "marker": {
             "colorbar": {
              "outlinewidth": 0,
              "ticks": ""
             }
            },
            "type": "scatterternary"
           }
          ],
          "surface": [
           {
            "colorbar": {
             "outlinewidth": 0,
             "ticks": ""
            },
            "colorscale": [
             [
              0,
              "#0d0887"
             ],
             [
              0.1111111111111111,
              "#46039f"
             ],
             [
              0.2222222222222222,
              "#7201a8"
             ],
             [
              0.3333333333333333,
              "#9c179e"
             ],
             [
              0.4444444444444444,
              "#bd3786"
             ],
             [
              0.5555555555555556,
              "#d8576b"
             ],
             [
              0.6666666666666666,
              "#ed7953"
             ],
             [
              0.7777777777777778,
              "#fb9f3a"
             ],
             [
              0.8888888888888888,
              "#fdca26"
             ],
             [
              1,
              "#f0f921"
             ]
            ],
            "type": "surface"
           }
          ],
          "table": [
           {
            "cells": {
             "fill": {
              "color": "#EBF0F8"
             },
             "line": {
              "color": "white"
             }
            },
            "header": {
             "fill": {
              "color": "#C8D4E3"
             },
             "line": {
              "color": "white"
             }
            },
            "type": "table"
           }
          ]
         },
         "layout": {
          "annotationdefaults": {
           "arrowcolor": "#2a3f5f",
           "arrowhead": 0,
           "arrowwidth": 1
          },
          "coloraxis": {
           "colorbar": {
            "outlinewidth": 0,
            "ticks": ""
           }
          },
          "colorscale": {
           "diverging": [
            [
             0,
             "#8e0152"
            ],
            [
             0.1,
             "#c51b7d"
            ],
            [
             0.2,
             "#de77ae"
            ],
            [
             0.3,
             "#f1b6da"
            ],
            [
             0.4,
             "#fde0ef"
            ],
            [
             0.5,
             "#f7f7f7"
            ],
            [
             0.6,
             "#e6f5d0"
            ],
            [
             0.7,
             "#b8e186"
            ],
            [
             0.8,
             "#7fbc41"
            ],
            [
             0.9,
             "#4d9221"
            ],
            [
             1,
             "#276419"
            ]
           ],
           "sequential": [
            [
             0,
             "#0d0887"
            ],
            [
             0.1111111111111111,
             "#46039f"
            ],
            [
             0.2222222222222222,
             "#7201a8"
            ],
            [
             0.3333333333333333,
             "#9c179e"
            ],
            [
             0.4444444444444444,
             "#bd3786"
            ],
            [
             0.5555555555555556,
             "#d8576b"
            ],
            [
             0.6666666666666666,
             "#ed7953"
            ],
            [
             0.7777777777777778,
             "#fb9f3a"
            ],
            [
             0.8888888888888888,
             "#fdca26"
            ],
            [
             1,
             "#f0f921"
            ]
           ],
           "sequentialminus": [
            [
             0,
             "#0d0887"
            ],
            [
             0.1111111111111111,
             "#46039f"
            ],
            [
             0.2222222222222222,
             "#7201a8"
            ],
            [
             0.3333333333333333,
             "#9c179e"
            ],
            [
             0.4444444444444444,
             "#bd3786"
            ],
            [
             0.5555555555555556,
             "#d8576b"
            ],
            [
             0.6666666666666666,
             "#ed7953"
            ],
            [
             0.7777777777777778,
             "#fb9f3a"
            ],
            [
             0.8888888888888888,
             "#fdca26"
            ],
            [
             1,
             "#f0f921"
            ]
           ]
          },
          "colorway": [
           "#636efa",
           "#EF553B",
           "#00cc96",
           "#ab63fa",
           "#FFA15A",
           "#19d3f3",
           "#FF6692",
           "#B6E880",
           "#FF97FF",
           "#FECB52"
          ],
          "font": {
           "color": "#2a3f5f"
          },
          "geo": {
           "bgcolor": "white",
           "lakecolor": "white",
           "landcolor": "#E5ECF6",
           "showlakes": true,
           "showland": true,
           "subunitcolor": "white"
          },
          "hoverlabel": {
           "align": "left"
          },
          "hovermode": "closest",
          "mapbox": {
           "style": "light"
          },
          "paper_bgcolor": "white",
          "plot_bgcolor": "#E5ECF6",
          "polar": {
           "angularaxis": {
            "gridcolor": "white",
            "linecolor": "white",
            "ticks": ""
           },
           "bgcolor": "#E5ECF6",
           "radialaxis": {
            "gridcolor": "white",
            "linecolor": "white",
            "ticks": ""
           }
          },
          "scene": {
           "xaxis": {
            "backgroundcolor": "#E5ECF6",
            "gridcolor": "white",
            "gridwidth": 2,
            "linecolor": "white",
            "showbackground": true,
            "ticks": "",
            "zerolinecolor": "white"
           },
           "yaxis": {
            "backgroundcolor": "#E5ECF6",
            "gridcolor": "white",
            "gridwidth": 2,
            "linecolor": "white",
            "showbackground": true,
            "ticks": "",
            "zerolinecolor": "white"
           },
           "zaxis": {
            "backgroundcolor": "#E5ECF6",
            "gridcolor": "white",
            "gridwidth": 2,
            "linecolor": "white",
            "showbackground": true,
            "ticks": "",
            "zerolinecolor": "white"
           }
          },
          "shapedefaults": {
           "line": {
            "color": "#2a3f5f"
           }
          },
          "ternary": {
           "aaxis": {
            "gridcolor": "white",
            "linecolor": "white",
            "ticks": ""
           },
           "baxis": {
            "gridcolor": "white",
            "linecolor": "white",
            "ticks": ""
           },
           "bgcolor": "#E5ECF6",
           "caxis": {
            "gridcolor": "white",
            "linecolor": "white",
            "ticks": ""
           }
          },
          "title": {
           "x": 0.05
          },
          "xaxis": {
           "automargin": true,
           "gridcolor": "white",
           "linecolor": "white",
           "ticks": "",
           "title": {
            "standoff": 15
           },
           "zerolinecolor": "white",
           "zerolinewidth": 2
          },
          "yaxis": {
           "automargin": true,
           "gridcolor": "white",
           "linecolor": "white",
           "ticks": "",
           "title": {
            "standoff": 15
           },
           "zerolinecolor": "white",
           "zerolinewidth": 2
          }
         }
        },
        "title": {
         "text": "MACD of Visa Inc."
        }
       }
      }
     },
     "metadata": {}
    }
   ],
   "source": [
    "graphMACD_buy_sell(y,\"V\",10,26,9)"
   ]
  },
  {
   "cell_type": "code",
   "execution_count": 11,
   "metadata": {},
   "outputs": [
    {
     "output_type": "display_data",
     "data": {
      "application/vnd.plotly.v1+json": {
       "config": {
        "plotlyServerURL": "https://plot.ly"
       },
       "data": [
        {
         "cells": {
          "align": "left",
          "values": [
           [
            "2020-04-09T00:00:00",
            "2020-04-08T00:00:00",
            "2020-04-07T00:00:00",
            "2020-04-06T00:00:00",
            "2020-04-03T00:00:00",
            "2020-04-02T00:00:00",
            "2020-04-01T00:00:00",
            "2020-03-31T00:00:00",
            "2020-03-30T00:00:00",
            "2020-03-27T00:00:00",
            "2020-03-26T00:00:00",
            "2020-03-25T00:00:00",
            "2020-03-24T00:00:00",
            "2020-03-23T00:00:00",
            "2020-03-20T00:00:00",
            "2020-03-19T00:00:00",
            "2020-03-18T00:00:00",
            "2020-03-17T00:00:00",
            "2020-03-16T00:00:00",
            "2020-03-13T00:00:00",
            "2020-03-12T00:00:00",
            "2020-03-11T00:00:00",
            "2020-03-10T00:00:00",
            "2020-03-09T00:00:00",
            "2020-03-06T00:00:00",
            "2020-03-05T00:00:00",
            "2020-03-04T00:00:00",
            "2020-03-03T00:00:00",
            "2020-03-02T00:00:00",
            "2020-02-28T00:00:00",
            "2020-02-27T00:00:00",
            "2020-02-26T00:00:00",
            "2020-02-25T00:00:00",
            "2020-02-24T00:00:00",
            "2020-02-21T00:00:00",
            "2020-02-20T00:00:00",
            "2020-02-19T00:00:00",
            "2020-02-18T00:00:00",
            "2020-02-14T00:00:00",
            "2020-02-13T00:00:00",
            "2020-02-12T00:00:00",
            "2020-02-11T00:00:00",
            "2020-02-10T00:00:00",
            "2020-02-07T00:00:00",
            "2020-02-06T00:00:00",
            "2020-02-05T00:00:00",
            "2020-02-04T00:00:00",
            "2020-02-03T00:00:00",
            "2020-01-31T00:00:00",
            "2020-01-30T00:00:00",
            "2020-01-29T00:00:00",
            "2020-01-28T00:00:00",
            "2020-01-27T00:00:00",
            "2020-01-24T00:00:00",
            "2020-01-23T00:00:00",
            "2020-01-22T00:00:00",
            "2020-01-21T00:00:00",
            "2020-01-17T00:00:00",
            "2020-01-16T00:00:00",
            "2020-01-15T00:00:00",
            "2020-01-14T00:00:00",
            "2020-01-13T00:00:00",
            "2020-01-10T00:00:00",
            "2020-01-09T00:00:00",
            "2020-01-08T00:00:00",
            "2020-01-07T00:00:00",
            "2020-01-06T00:00:00",
            "2020-01-03T00:00:00",
            "2020-01-02T00:00:00",
            "2019-12-31T00:00:00",
            "2019-12-30T00:00:00",
            "2019-12-27T00:00:00",
            "2019-12-26T00:00:00",
            "2019-12-24T00:00:00",
            "2019-12-23T00:00:00",
            "2019-12-20T00:00:00",
            "2019-12-19T00:00:00",
            "2019-12-18T00:00:00",
            "2019-12-17T00:00:00",
            "2019-12-16T00:00:00",
            "2019-12-13T00:00:00",
            "2019-12-12T00:00:00",
            "2019-12-11T00:00:00",
            "2019-12-10T00:00:00",
            "2019-12-09T00:00:00",
            "2019-12-06T00:00:00",
            "2019-12-05T00:00:00",
            "2019-12-04T00:00:00",
            "2019-12-03T00:00:00",
            "2019-12-02T00:00:00",
            "2019-11-29T00:00:00",
            "2019-11-27T00:00:00",
            "2019-11-26T00:00:00",
            "2019-11-25T00:00:00",
            "2019-11-22T00:00:00",
            "2019-11-21T00:00:00",
            "2019-11-20T00:00:00",
            "2019-11-19T00:00:00",
            "2019-11-18T00:00:00"
           ],
           [
            176.27,
            171.01,
            177.76,
            160.02,
            155.56,
            152.53,
            156.32,
            166.43,
            161.04,
            161.08,
            162.08,
            159.32,
            144.84,
            141.33,
            154.82,
            146.92,
            148.46,
            155.75,
            151.14,
            168.72,
            158.5,
            177.65,
            179.47,
            171.21,
            183.54,
            191.24,
            190.36,
            193.2,
            186.32,
            173.79,
            182.12,
            190,
            198.79,
            197.89,
            209.9,
            212.13,
            212.52,
            210,
            208.29,
            206.62,
            205,
            207.5,
            201.97,
            201.98,
            203.05,
            205.5,
            203.5,
            199.94,
            201.49,
            204,
            204.3,
            202.39,
            200,
            207.42,
            207.9,
            207.51,
            204.13,
            201.76,
            201,
            197,
            196.74,
            194.44,
            193.5,
            193,
            189.49,
            189.59,
            188,
            188.41,
            189,
            187.06,
            189.31,
            189.74,
            187.89,
            187.1,
            188.15,
            187.6,
            184.5,
            185.52,
            186.5,
            186.33,
            182.5,
            181.66,
            183.07,
            182.55,
            181.9,
            182.74,
            181.25,
            182.66,
            179.9,
            184.24,
            183.93,
            183,
            181.46,
            180.4,
            180.13,
            181.17,
            182.31,
            180.39,
            179.57
           ],
           [
            177.19,
            176,
            178.8,
            170.73,
            157.72,
            158.35,
            158.07,
            168.19,
            165.87,
            167.1,
            169.53,
            168.18,
            155.25,
            143.35,
            158.26,
            157.25,
            150.68,
            163.7,
            165.31,
            176.32,
            172,
            178.73,
            182.61,
            179.57,
            185.99,
            191.92,
            194.49,
            194.04,
            192.44,
            182.33,
            186.34,
            193.51,
            199.89,
            203.77,
            210.22,
            213.69,
            214.17,
            211.5,
            210.78,
            208.47,
            208.15,
            207.67,
            206.13,
            203.83,
            204.63,
            205.6,
            204.92,
            202.26,
            203.98,
            208.5,
            205.92,
            203.84,
            203.33,
            207.99,
            208.4,
            210.13,
            208.39,
            204.75,
            201.5,
            200.15,
            196.95,
            195.6,
            194.57,
            193.92,
            192.5,
            190.1,
            189.21,
            190.96,
            191.14,
            188,
            189.48,
            189.89,
            189.18,
            188.02,
            188.41,
            188.17,
            186.58,
            186.44,
            186.78,
            186.82,
            185.52,
            183.33,
            183.08,
            183.15,
            183.26,
            183.28,
            182.03,
            182.66,
            182.14,
            184.37,
            184.85,
            184.54,
            182.92,
            181.35,
            180.47,
            181.81,
            183.22,
            182.98,
            180.32
           ],
           [
            172.85,
            167.93,
            168.1,
            158.25,
            150.6,
            151.29,
            151.42,
            160.54,
            160.69,
            158.15,
            161.79,
            153.58,
            143.58,
            133.93,
            145.67,
            141.47,
            139.8,
            149.25,
            147.98,
            162.21,
            156.99,
            170.2,
            171.88,
            168.31,
            179.98,
            185.64,
            186.17,
            184.5,
            183.1,
            172.98,
            180,
            187.03,
            187.72,
            194.01,
            207.42,
            208.28,
            211.72,
            209.36,
            208.01,
            206.05,
            205,
            203.64,
            201.86,
            201.09,
            202.48,
            199.95,
            202.23,
            199.85,
            198.26,
            203.32,
            202.51,
            201.78,
            199.1,
            204.21,
            205.3,
            207.29,
            203.8,
            199.98,
            199.78,
            196.32,
            195.14,
            194.28,
            193.11,
            192.52,
            188.8,
            188.6,
            187.16,
            187.92,
            188.72,
            186.54,
            187.12,
            188.47,
            187.7,
            186.91,
            187,
            186.3,
            184.5,
            184.9,
            184.1,
            185.77,
            182.04,
            180.83,
            181.19,
            181.9,
            181.3,
            181.34,
            180.07,
            180.47,
            179.66,
            179.87,
            183.36,
            182.26,
            181.21,
            180.11,
            178.35,
            179.32,
            180.35,
            180.2,
            178.98
           ],
           [
            173.69,
            174.94,
            168.59,
            169.44,
            151.85,
            157.39,
            153.11,
            161.12,
            165.57,
            161.56,
            168.88,
            161.78,
            154.53,
            135.74,
            146.83,
            152.25,
            148.48,
            157.89,
            152.01,
            175.83,
            160.08,
            172.95,
            182.6,
            171.13,
            184.36,
            186.96,
            194.29,
            185.73,
            192.33,
            181.76,
            180.01,
            187.21,
            188.4,
            198.79,
            208.81,
            211.45,
            213.31,
            211.2,
            210.29,
            207.4,
            207.44,
            203.94,
            205.99,
            202.74,
            203.04,
            202.81,
            203.56,
            200.81,
            198.97,
            208.21,
            204.86,
            202.85,
            201.69,
            205,
            206.52,
            207.9,
            207.29,
            204.7,
            200.95,
            199.8,
            196.05,
            195.33,
            193.77,
            193.25,
            191.92,
            188.69,
            189.19,
            189.6,
            191.12,
            187.9,
            187.83,
            189.39,
            189.16,
            187.57,
            187.08,
            188,
            186.54,
            184.9,
            185.52,
            186.24,
            185.14,
            182.64,
            182.01,
            182.26,
            182.92,
            182.17,
            181.89,
            180.6,
            181.9,
            181.79,
            184.51,
            184.37,
            182.55,
            180.97,
            179.47,
            179.89,
            181.66,
            182.77,
            179.66
           ],
           [
            173.69,
            174.94,
            168.59,
            169.44,
            151.85,
            157.39,
            153.11,
            161.12,
            165.57,
            161.56,
            168.88,
            161.78,
            154.53,
            135.74,
            146.83,
            152.25,
            148.48,
            157.89,
            152.01,
            175.83,
            160.08,
            172.95,
            182.6,
            171.13,
            184.36,
            186.96,
            194.29,
            185.73,
            192.33,
            181.76,
            180.01,
            187.21,
            188.4,
            198.79,
            208.81,
            211.45,
            213.31,
            211.2,
            210.29,
            207.4,
            207.14,
            203.65,
            205.69,
            202.45,
            202.75,
            202.52,
            203.27,
            200.52,
            198.68,
            207.91,
            204.56,
            202.56,
            201.4,
            204.7,
            206.22,
            207.6,
            206.99,
            204.4,
            200.66,
            199.51,
            195.77,
            195.05,
            193.49,
            192.97,
            191.64,
            188.42,
            188.92,
            189.33,
            190.84,
            187.63,
            187.56,
            189.12,
            188.89,
            187.3,
            186.81,
            187.73,
            186.27,
            184.63,
            185.25,
            185.97,
            184.87,
            182.38,
            181.75,
            182,
            182.66,
            181.91,
            181.63,
            180.34,
            181.64,
            181.53,
            184.24,
            184.1,
            182.29,
            180.71,
            179.21,
            179.63,
            181.4,
            182.51,
            179.4
           ],
           [
            12231800,
            11146500,
            15379000,
            16479100,
            11994700,
            14051100,
            12595200,
            20613100,
            15714500,
            14950700,
            17062900,
            20619600,
            24488300,
            30344100,
            18692100,
            19362800,
            22787500,
            22298000,
            23692000,
            19948900,
            27467700,
            14598200,
            16119400,
            20486400,
            15183200,
            10106900,
            10789100,
            15226400,
            17434500,
            22674700,
            17536600,
            14214700,
            18539000,
            13316800,
            9231500,
            8531900,
            5927500,
            7651500,
            6548800,
            9495300,
            7355800,
            10231900,
            6239500,
            5691100,
            7001200,
            8672400,
            10205900,
            10887900,
            16699600,
            8571900,
            7041700,
            7215700,
            7198900,
            7812900,
            8520800,
            8065000,
            14861700,
            12518900,
            9983700,
            10831100,
            6236500,
            11290500,
            6586400,
            6748000,
            5712000,
            4392300,
            10109500,
            4899700,
            8733000,
            5273000,
            4833600,
            5448600,
            5237000,
            2420900,
            5831700,
            11259500,
            5854200,
            8968500,
            10208700,
            8249900,
            8558100,
            11192100,
            7138800,
            8625700,
            10233100,
            14526700,
            4638600,
            10650400,
            4543300,
            6883200,
            3139100,
            11452700,
            7079000,
            5457800,
            6865600,
            5112200,
            6040500,
            8549900,
            7173700
           ],
           [
            -0.007,
            0.038,
            -0.005,
            0.116,
            -0.035,
            0.028,
            -0.05,
            -0.027,
            0.025,
            -0.043,
            0.044,
            0.047,
            0.138,
            -0.076,
            -0.036,
            0.025,
            -0.06,
            0.039,
            -0.135,
            0.098,
            -0.074,
            -0.053,
            0.067,
            -0.072,
            -0.014,
            -0.038,
            0.046,
            -0.034,
            0.058,
            0.01,
            -0.038,
            -0.006,
            -0.052,
            -0.048,
            -0.012,
            -0.009,
            0.01,
            0.004,
            0.014,
            0.001,
            0.017,
            -0.01,
            0.016,
            -0.001,
            0.001,
            -0.004,
            0.014,
            0.009,
            -0.044,
            0.016,
            0.01,
            0.006,
            -0.016,
            -0.007,
            -0.007,
            0.003,
            0.013,
            0.019,
            0.006,
            0.019,
            0.004,
            0.008,
            0.003,
            0.007,
            0.017,
            -0.003,
            -0.002,
            -0.008,
            0.017,
            0,
            -0.008,
            0.001,
            0.008,
            0.003,
            -0.005,
            0.008,
            0.009,
            -0.003,
            -0.004,
            0.006,
            0.014,
            0.003,
            -0.001,
            -0.004,
            0.004,
            0.002,
            0.007,
            -0.007,
            0.001,
            -0.015,
            0.001,
            0.01,
            0.009,
            0.008,
            -0.002,
            -0.01,
            -0.006,
            0.017,
            0
           ],
           [
            97.022,
            97.706,
            94.129,
            94.602,
            84.769,
            87.844,
            85.451,
            89.948,
            92.444,
            90.189,
            94.241,
            90.269,
            86.217,
            75.762,
            81.994,
            85.056,
            82.981,
            88.278,
            84.964,
            98.224,
            89.457,
            96.606,
            102.013,
            95.607,
            103.025,
            104.488,
            108.615,
            103.838,
            107.493,
            101.6,
            100.594,
            104.568,
            105.199,
            110.969,
            116.564,
            117.98,
            119.051,
            117.872,
            117.402,
            115.781,
            115.665,
            113.732,
            114.881,
            113.072,
            113.185,
            113.072,
            113.526,
            111.959,
            110.96,
            116.067,
            114.239,
            113.108,
            112.433,
            114.261,
            115.066,
            115.877,
            115.53,
            114.047,
            111.921,
            111.253,
            109.179,
            108.744,
            107.881,
            107.558,
            106.81,
            105.025,
            105.341,
            105.552,
            106.403,
            104.624,
            104.624,
            105.468,
            105.363,
            104.527,
            104.214,
            104.738,
            103.907,
            102.98,
            103.29,
            103.705,
            103.086,
            101.663,
            101.359,
            101.46,
            101.867,
            101.461,
            101.258,
            100.554,
            101.263,
            101.162,
            102.703,
            102.6,
            101.584,
            100.678,
            99.879,
            100.079,
            101.09,
            101.7,
            100
           ]
          ]
         },
         "header": {
          "align": "left",
          "values": [
           "Date",
           "Open Price",
           "High Price",
           "Low Price",
           "Close Price",
           "Adj Close Price",
           "Volume",
           "Percent Change",
           "Normalized Returns"
          ]
         },
         "type": "table"
        }
       ],
       "layout": {
        "autosize": false,
        "height": 500,
        "margin": {
         "b": 100,
         "l": 50,
         "pad": 4,
         "r": 50,
         "t": 100
        },
        "template": {
         "data": {
          "bar": [
           {
            "error_x": {
             "color": "#2a3f5f"
            },
            "error_y": {
             "color": "#2a3f5f"
            },
            "marker": {
             "line": {
              "color": "#E5ECF6",
              "width": 0.5
             }
            },
            "type": "bar"
           }
          ],
          "barpolar": [
           {
            "marker": {
             "line": {
              "color": "#E5ECF6",
              "width": 0.5
             }
            },
            "type": "barpolar"
           }
          ],
          "carpet": [
           {
            "aaxis": {
             "endlinecolor": "#2a3f5f",
             "gridcolor": "white",
             "linecolor": "white",
             "minorgridcolor": "white",
             "startlinecolor": "#2a3f5f"
            },
            "baxis": {
             "endlinecolor": "#2a3f5f",
             "gridcolor": "white",
             "linecolor": "white",
             "minorgridcolor": "white",
             "startlinecolor": "#2a3f5f"
            },
            "type": "carpet"
           }
          ],
          "choropleth": [
           {
            "colorbar": {
             "outlinewidth": 0,
             "ticks": ""
            },
            "type": "choropleth"
           }
          ],
          "contour": [
           {
            "colorbar": {
             "outlinewidth": 0,
             "ticks": ""
            },
            "colorscale": [
             [
              0,
              "#0d0887"
             ],
             [
              0.1111111111111111,
              "#46039f"
             ],
             [
              0.2222222222222222,
              "#7201a8"
             ],
             [
              0.3333333333333333,
              "#9c179e"
             ],
             [
              0.4444444444444444,
              "#bd3786"
             ],
             [
              0.5555555555555556,
              "#d8576b"
             ],
             [
              0.6666666666666666,
              "#ed7953"
             ],
             [
              0.7777777777777778,
              "#fb9f3a"
             ],
             [
              0.8888888888888888,
              "#fdca26"
             ],
             [
              1,
              "#f0f921"
             ]
            ],
            "type": "contour"
           }
          ],
          "contourcarpet": [
           {
            "colorbar": {
             "outlinewidth": 0,
             "ticks": ""
            },
            "type": "contourcarpet"
           }
          ],
          "heatmap": [
           {
            "colorbar": {
             "outlinewidth": 0,
             "ticks": ""
            },
            "colorscale": [
             [
              0,
              "#0d0887"
             ],
             [
              0.1111111111111111,
              "#46039f"
             ],
             [
              0.2222222222222222,
              "#7201a8"
             ],
             [
              0.3333333333333333,
              "#9c179e"
             ],
             [
              0.4444444444444444,
              "#bd3786"
             ],
             [
              0.5555555555555556,
              "#d8576b"
             ],
             [
              0.6666666666666666,
              "#ed7953"
             ],
             [
              0.7777777777777778,
              "#fb9f3a"
             ],
             [
              0.8888888888888888,
              "#fdca26"
             ],
             [
              1,
              "#f0f921"
             ]
            ],
            "type": "heatmap"
           }
          ],
          "heatmapgl": [
           {
            "colorbar": {
             "outlinewidth": 0,
             "ticks": ""
            },
            "colorscale": [
             [
              0,
              "#0d0887"
             ],
             [
              0.1111111111111111,
              "#46039f"
             ],
             [
              0.2222222222222222,
              "#7201a8"
             ],
             [
              0.3333333333333333,
              "#9c179e"
             ],
             [
              0.4444444444444444,
              "#bd3786"
             ],
             [
              0.5555555555555556,
              "#d8576b"
             ],
             [
              0.6666666666666666,
              "#ed7953"
             ],
             [
              0.7777777777777778,
              "#fb9f3a"
             ],
             [
              0.8888888888888888,
              "#fdca26"
             ],
             [
              1,
              "#f0f921"
             ]
            ],
            "type": "heatmapgl"
           }
          ],
          "histogram": [
           {
            "marker": {
             "colorbar": {
              "outlinewidth": 0,
              "ticks": ""
             }
            },
            "type": "histogram"
           }
          ],
          "histogram2d": [
           {
            "colorbar": {
             "outlinewidth": 0,
             "ticks": ""
            },
            "colorscale": [
             [
              0,
              "#0d0887"
             ],
             [
              0.1111111111111111,
              "#46039f"
             ],
             [
              0.2222222222222222,
              "#7201a8"
             ],
             [
              0.3333333333333333,
              "#9c179e"
             ],
             [
              0.4444444444444444,
              "#bd3786"
             ],
             [
              0.5555555555555556,
              "#d8576b"
             ],
             [
              0.6666666666666666,
              "#ed7953"
             ],
             [
              0.7777777777777778,
              "#fb9f3a"
             ],
             [
              0.8888888888888888,
              "#fdca26"
             ],
             [
              1,
              "#f0f921"
             ]
            ],
            "type": "histogram2d"
           }
          ],
          "histogram2dcontour": [
           {
            "colorbar": {
             "outlinewidth": 0,
             "ticks": ""
            },
            "colorscale": [
             [
              0,
              "#0d0887"
             ],
             [
              0.1111111111111111,
              "#46039f"
             ],
             [
              0.2222222222222222,
              "#7201a8"
             ],
             [
              0.3333333333333333,
              "#9c179e"
             ],
             [
              0.4444444444444444,
              "#bd3786"
             ],
             [
              0.5555555555555556,
              "#d8576b"
             ],
             [
              0.6666666666666666,
              "#ed7953"
             ],
             [
              0.7777777777777778,
              "#fb9f3a"
             ],
             [
              0.8888888888888888,
              "#fdca26"
             ],
             [
              1,
              "#f0f921"
             ]
            ],
            "type": "histogram2dcontour"
           }
          ],
          "mesh3d": [
           {
            "colorbar": {
             "outlinewidth": 0,
             "ticks": ""
            },
            "type": "mesh3d"
           }
          ],
          "parcoords": [
           {
            "line": {
             "colorbar": {
              "outlinewidth": 0,
              "ticks": ""
             }
            },
            "type": "parcoords"
           }
          ],
          "pie": [
           {
            "automargin": true,
            "type": "pie"
           }
          ],
          "scatter": [
           {
            "marker": {
             "colorbar": {
              "outlinewidth": 0,
              "ticks": ""
             }
            },
            "type": "scatter"
           }
          ],
          "scatter3d": [
           {
            "line": {
             "colorbar": {
              "outlinewidth": 0,
              "ticks": ""
             }
            },
            "marker": {
             "colorbar": {
              "outlinewidth": 0,
              "ticks": ""
             }
            },
            "type": "scatter3d"
           }
          ],
          "scattercarpet": [
           {
            "marker": {
             "colorbar": {
              "outlinewidth": 0,
              "ticks": ""
             }
            },
            "type": "scattercarpet"
           }
          ],
          "scattergeo": [
           {
            "marker": {
             "colorbar": {
              "outlinewidth": 0,
              "ticks": ""
             }
            },
            "type": "scattergeo"
           }
          ],
          "scattergl": [
           {
            "marker": {
             "colorbar": {
              "outlinewidth": 0,
              "ticks": ""
             }
            },
            "type": "scattergl"
           }
          ],
          "scattermapbox": [
           {
            "marker": {
             "colorbar": {
              "outlinewidth": 0,
              "ticks": ""
             }
            },
            "type": "scattermapbox"
           }
          ],
          "scatterpolar": [
           {
            "marker": {
             "colorbar": {
              "outlinewidth": 0,
              "ticks": ""
             }
            },
            "type": "scatterpolar"
           }
          ],
          "scatterpolargl": [
           {
            "marker": {
             "colorbar": {
              "outlinewidth": 0,
              "ticks": ""
             }
            },
            "type": "scatterpolargl"
           }
          ],
          "scatterternary": [
           {
            "marker": {
             "colorbar": {
              "outlinewidth": 0,
              "ticks": ""
             }
            },
            "type": "scatterternary"
           }
          ],
          "surface": [
           {
            "colorbar": {
             "outlinewidth": 0,
             "ticks": ""
            },
            "colorscale": [
             [
              0,
              "#0d0887"
             ],
             [
              0.1111111111111111,
              "#46039f"
             ],
             [
              0.2222222222222222,
              "#7201a8"
             ],
             [
              0.3333333333333333,
              "#9c179e"
             ],
             [
              0.4444444444444444,
              "#bd3786"
             ],
             [
              0.5555555555555556,
              "#d8576b"
             ],
             [
              0.6666666666666666,
              "#ed7953"
             ],
             [
              0.7777777777777778,
              "#fb9f3a"
             ],
             [
              0.8888888888888888,
              "#fdca26"
             ],
             [
              1,
              "#f0f921"
             ]
            ],
            "type": "surface"
           }
          ],
          "table": [
           {
            "cells": {
             "fill": {
              "color": "#EBF0F8"
             },
             "line": {
              "color": "white"
             }
            },
            "header": {
             "fill": {
              "color": "#C8D4E3"
             },
             "line": {
              "color": "white"
             }
            },
            "type": "table"
           }
          ]
         },
         "layout": {
          "annotationdefaults": {
           "arrowcolor": "#2a3f5f",
           "arrowhead": 0,
           "arrowwidth": 1
          },
          "coloraxis": {
           "colorbar": {
            "outlinewidth": 0,
            "ticks": ""
           }
          },
          "colorscale": {
           "diverging": [
            [
             0,
             "#8e0152"
            ],
            [
             0.1,
             "#c51b7d"
            ],
            [
             0.2,
             "#de77ae"
            ],
            [
             0.3,
             "#f1b6da"
            ],
            [
             0.4,
             "#fde0ef"
            ],
            [
             0.5,
             "#f7f7f7"
            ],
            [
             0.6,
             "#e6f5d0"
            ],
            [
             0.7,
             "#b8e186"
            ],
            [
             0.8,
             "#7fbc41"
            ],
            [
             0.9,
             "#4d9221"
            ],
            [
             1,
             "#276419"
            ]
           ],
           "sequential": [
            [
             0,
             "#0d0887"
            ],
            [
             0.1111111111111111,
             "#46039f"
            ],
            [
             0.2222222222222222,
             "#7201a8"
            ],
            [
             0.3333333333333333,
             "#9c179e"
            ],
            [
             0.4444444444444444,
             "#bd3786"
            ],
            [
             0.5555555555555556,
             "#d8576b"
            ],
            [
             0.6666666666666666,
             "#ed7953"
            ],
            [
             0.7777777777777778,
             "#fb9f3a"
            ],
            [
             0.8888888888888888,
             "#fdca26"
            ],
            [
             1,
             "#f0f921"
            ]
           ],
           "sequentialminus": [
            [
             0,
             "#0d0887"
            ],
            [
             0.1111111111111111,
             "#46039f"
            ],
            [
             0.2222222222222222,
             "#7201a8"
            ],
            [
             0.3333333333333333,
             "#9c179e"
            ],
            [
             0.4444444444444444,
             "#bd3786"
            ],
            [
             0.5555555555555556,
             "#d8576b"
            ],
            [
             0.6666666666666666,
             "#ed7953"
            ],
            [
             0.7777777777777778,
             "#fb9f3a"
            ],
            [
             0.8888888888888888,
             "#fdca26"
            ],
            [
             1,
             "#f0f921"
            ]
           ]
          },
          "colorway": [
           "#636efa",
           "#EF553B",
           "#00cc96",
           "#ab63fa",
           "#FFA15A",
           "#19d3f3",
           "#FF6692",
           "#B6E880",
           "#FF97FF",
           "#FECB52"
          ],
          "font": {
           "color": "#2a3f5f"
          },
          "geo": {
           "bgcolor": "white",
           "lakecolor": "white",
           "landcolor": "#E5ECF6",
           "showlakes": true,
           "showland": true,
           "subunitcolor": "white"
          },
          "hoverlabel": {
           "align": "left"
          },
          "hovermode": "closest",
          "mapbox": {
           "style": "light"
          },
          "paper_bgcolor": "white",
          "plot_bgcolor": "#E5ECF6",
          "polar": {
           "angularaxis": {
            "gridcolor": "white",
            "linecolor": "white",
            "ticks": ""
           },
           "bgcolor": "#E5ECF6",
           "radialaxis": {
            "gridcolor": "white",
            "linecolor": "white",
            "ticks": ""
           }
          },
          "scene": {
           "xaxis": {
            "backgroundcolor": "#E5ECF6",
            "gridcolor": "white",
            "gridwidth": 2,
            "linecolor": "white",
            "showbackground": true,
            "ticks": "",
            "zerolinecolor": "white"
           },
           "yaxis": {
            "backgroundcolor": "#E5ECF6",
            "gridcolor": "white",
            "gridwidth": 2,
            "linecolor": "white",
            "showbackground": true,
            "ticks": "",
            "zerolinecolor": "white"
           },
           "zaxis": {
            "backgroundcolor": "#E5ECF6",
            "gridcolor": "white",
            "gridwidth": 2,
            "linecolor": "white",
            "showbackground": true,
            "ticks": "",
            "zerolinecolor": "white"
           }
          },
          "shapedefaults": {
           "line": {
            "color": "#2a3f5f"
           }
          },
          "ternary": {
           "aaxis": {
            "gridcolor": "white",
            "linecolor": "white",
            "ticks": ""
           },
           "baxis": {
            "gridcolor": "white",
            "linecolor": "white",
            "ticks": ""
           },
           "bgcolor": "#E5ECF6",
           "caxis": {
            "gridcolor": "white",
            "linecolor": "white",
            "ticks": ""
           }
          },
          "title": {
           "x": 0.05
          },
          "xaxis": {
           "automargin": true,
           "gridcolor": "white",
           "linecolor": "white",
           "ticks": "",
           "title": {
            "standoff": 15
           },
           "zerolinecolor": "white",
           "zerolinewidth": 2
          },
          "yaxis": {
           "automargin": true,
           "gridcolor": "white",
           "linecolor": "white",
           "ticks": "",
           "title": {
            "standoff": 15
           },
           "zerolinecolor": "white",
           "zerolinewidth": 2
          }
         }
        },
        "title": {
         "text": "Data Table of Company X"
        },
        "width": 1200
       }
      }
     },
     "metadata": {}
    }
   ],
   "source": [
    "showTableData(y[\"V\"])"
   ]
  },
  {
   "cell_type": "markdown",
   "metadata": {},
   "source": [
    "## Graphing Module"
   ]
  },
  {
   "cell_type": "code",
   "execution_count": 10,
   "metadata": {},
   "outputs": [],
   "source": [
    "import plotly.graph_objects as go\n",
    "from plotly.subplots import make_subplots\n",
    "import plotly.express as px\n",
    "\n",
    "\n",
    "def basicLineGraph(x, y):\n",
    "    '''Basic line graph for testing'''\n",
    "    fig = go.Figure()\n",
    "    fig.add_trace(go.Scatter(x=x,y=y, mode='lines'))\n",
    "    fig.show()\n",
    "\n",
    "\n",
    "def basicBarGraph(x, y):\n",
    "    '''Basic bar graph for testing'''\n",
    "    fig = go.Figure()\n",
    "    fig.add_trace(go.Bar(x=x,y=y))\n",
    "    fig.show()\n",
    "\n",
    "\n",
    "def showTableData(df):\n",
    "    '''Table displaying all columns of stock data'''\n",
    "\n",
    "    ###Should clean up Date to remove all of the extra data beyond YYYY-MM-DD###\n",
    "\n",
    "    fig = go.Figure(data=[go.Table(header=dict(values=list(df.columns),\n",
    "                align='left'),\n",
    "                cells=dict(values=[df[\"Date\"],df[\"Open Price\"],df[\"High Price\"],df[\"Low Price\"],df[\"Close Price\"],df[\"Adj Close Price\"],df[\"Volume\"],df[\"Percent Change\"],df[\"Normalized Returns\"]],\n",
    "                align='left'))\n",
    "                ])\n",
    "\n",
    "    fig.update_layout(autosize=False, width=1200,height=500, margin=dict(\n",
    "        l=50,\n",
    "        r=50,\n",
    "        b=100,\n",
    "        t=100,\n",
    "        pad=4\n",
    "    ))\n",
    "\n",
    "    fig.update_layout(title='Data Table of Company X')\n",
    "\n",
    "    fig.show()\n",
    "\n",
    "\n",
    "def graphMACD_buy_sell(df, ticker, fast, slow, macd):\n",
    "    '''Simplifying MACD graph call by ticker'''\n",
    "\n",
    "    ma_fast, ma_slow = calcMACD(df[ticker][\"Adj Close Price\"], fast, slow, macd)\n",
    "    macd_index = pullMACDPoints(ma_fast, ma_slow)\n",
    "    x_axis = []\n",
    "\n",
    "    for x in range(0,len(ma_slow)):\n",
    "        x_axis.append(df[ticker][\"Date\"][x])\n",
    "   \n",
    "    fig = go.Figure()\n",
    "    fig.add_trace(go.Scatter(x=x_axis, y=ma_fast,\n",
    "                        mode='lines',\n",
    "                        name='fast MA'))\n",
    "    fig.add_trace(go.Scatter(x=x_axis, y=ma_slow,\n",
    "                        mode='lines',\n",
    "                        name='slow MA'))\n",
    "\n",
    "    for x in range(0, len(macd_index)):\n",
    "        fig.add_annotation(\n",
    "                    x=x_axis[macd_index[x][0]],\n",
    "                    y=ma_slow[macd_index[x][0]],\n",
    "                    text=macd_index[x][1])\n",
    "\n",
    "    fig.update_annotations(dict(\n",
    "                xref=\"x\",\n",
    "                yref=\"y\",\n",
    "                showarrow=True,\n",
    "                arrowhead=7,\n",
    "                ax=0,\n",
    "                ay=-40\n",
    "    ))\n",
    "\n",
    "    fig.update_layout(title='MACD of {}'.format(defineStockName(ticker)))\n",
    "\n",
    "    fig.show()\n"
   ]
  },
  {
   "cell_type": "code",
   "execution_count": 20,
   "metadata": {},
   "outputs": [
    {
     "output_type": "execute_result",
     "data": {
      "text/plain": "Index(['Date', 'Open Price', 'High Price', 'Low Price', 'Close Price',\n       'Adj Close Price', 'Volume', 'Percent Change', 'Normalized Returns'],\n      dtype='object')"
     },
     "metadata": {},
     "execution_count": 20
    }
   ],
   "source": [
    "y[\"V\"].columns"
   ]
  },
  {
   "cell_type": "code",
   "execution_count": 35,
   "metadata": {},
   "outputs": [],
   "source": [
    "a = []\n",
    "\n",
    "for x in y[\"V\"].columns:\n",
    "    string = \"df['\"+x+\"']\"\n",
    "    string.replace('\\\"','')\n",
    "    a.append(string)"
   ]
  },
  {
   "cell_type": "code",
   "execution_count": 36,
   "metadata": {},
   "outputs": [
    {
     "output_type": "execute_result",
     "data": {
      "text/plain": "[\"df['Date']\",\n \"df['Open Price']\",\n \"df['High Price']\",\n \"df['Low Price']\",\n \"df['Close Price']\",\n \"df['Adj Close Price']\",\n \"df['Volume']\",\n \"df['Percent Change']\",\n \"df['Normalized Returns']\"]"
     },
     "metadata": {},
     "execution_count": 36
    }
   ],
   "source": [
    "a"
   ]
  },
  {
   "cell_type": "code",
   "execution_count": 208,
   "metadata": {},
   "outputs": [
    {
     "output_type": "display_data",
     "data": {
      "application/vnd.plotly.v1+json": {
       "config": {
        "plotlyServerURL": "https://plot.ly"
       },
       "data": [
        {
         "mode": "lines",
         "name": "fast MA",
         "type": "scatter",
         "x": [
          "2020-04-09T00:00:00",
          "2020-04-08T00:00:00",
          "2020-04-07T00:00:00",
          "2020-04-06T00:00:00",
          "2020-04-03T00:00:00",
          "2020-04-02T00:00:00",
          "2020-04-01T00:00:00",
          "2020-03-31T00:00:00",
          "2020-03-30T00:00:00",
          "2020-03-27T00:00:00",
          "2020-03-26T00:00:00",
          "2020-03-25T00:00:00",
          "2020-03-24T00:00:00",
          "2020-03-23T00:00:00",
          "2020-03-20T00:00:00",
          "2020-03-19T00:00:00",
          "2020-03-18T00:00:00",
          "2020-03-17T00:00:00",
          "2020-03-16T00:00:00",
          "2020-03-13T00:00:00",
          "2020-03-12T00:00:00",
          "2020-03-11T00:00:00",
          "2020-03-10T00:00:00",
          "2020-03-09T00:00:00",
          "2020-03-06T00:00:00",
          "2020-03-05T00:00:00",
          "2020-03-04T00:00:00",
          "2020-03-03T00:00:00",
          "2020-03-02T00:00:00",
          "2020-02-28T00:00:00",
          "2020-02-27T00:00:00",
          "2020-02-26T00:00:00",
          "2020-02-25T00:00:00",
          "2020-02-24T00:00:00",
          "2020-02-21T00:00:00",
          "2020-02-20T00:00:00",
          "2020-02-19T00:00:00",
          "2020-02-18T00:00:00",
          "2020-02-14T00:00:00",
          "2020-02-13T00:00:00",
          "2020-02-12T00:00:00",
          "2020-02-11T00:00:00",
          "2020-02-10T00:00:00",
          "2020-02-07T00:00:00",
          "2020-02-06T00:00:00",
          "2020-02-05T00:00:00",
          "2020-02-04T00:00:00",
          "2020-02-03T00:00:00",
          "2020-01-31T00:00:00",
          "2020-01-30T00:00:00",
          "2020-01-29T00:00:00",
          "2020-01-28T00:00:00",
          "2020-01-27T00:00:00",
          "2020-01-24T00:00:00",
          "2020-01-23T00:00:00",
          "2020-01-22T00:00:00",
          "2020-01-21T00:00:00",
          "2020-01-17T00:00:00",
          "2020-01-16T00:00:00",
          "2020-01-15T00:00:00",
          "2020-01-14T00:00:00",
          "2020-01-13T00:00:00",
          "2020-01-10T00:00:00",
          "2020-01-09T00:00:00",
          "2020-01-08T00:00:00",
          "2020-01-07T00:00:00",
          "2020-01-06T00:00:00",
          "2020-01-03T00:00:00",
          "2020-01-02T00:00:00",
          "2019-12-31T00:00:00",
          "2019-12-30T00:00:00",
          "2019-12-27T00:00:00",
          "2019-12-26T00:00:00",
          "2019-12-24T00:00:00",
          "2019-12-23T00:00:00"
         ],
         "y": [
          -13.184000000000026,
          -13.65066666666668,
          -9.872666666666703,
          -3.2220000000000084,
          3.3713333333333537,
          9.453333333333347,
          14.128000000000014,
          16.130000000000024,
          16.450666666666677,
          20.66200000000002,
          18.92400000000002,
          16.52466666666669,
          14.06533333333337,
          10.429999999999993,
          3.1866666666666674,
          0.2740000000000009,
          -1.9046666666666567,
          -2.798000000000002,
          -3.0519999999999925,
          -1.683999999999969,
          0.06666666666667709,
          3.451333333333352,
          5.176000000000002,
          7.778666666666666,
          9.170666666666662,
          8.937333333333328,
          9.095333333333315,
          8.986000000000004,
          8.761333333333326,
          8.772666666666652,
          9.307333333333318,
          9.425999999999974,
          10.24199999999999,
          9.398666666666657,
          8.500666666666675,
          7.9353333333333325,
          6.647333333333336,
          5.758666666666684,
          6.144666666666694,
          6.879333333333321,
          7.385333333333335,
          7.976666666666674,
          8.195333333333338,
          8.733999999999995,
          7.1013333333333435,
          5.245333333333349,
          3.4853333333333296,
          1.413333333333327,
          -1.0593333333333277,
          -1.4739999999999753,
          -1.35533333333332,
          -0.8513333333333435,
          0.2720000000000198,
          1.5066666666666748,
          2.4140000000000015,
          3.336666666666673,
          3.4440000000000026,
          3.576666666666668,
          3.623333333333349,
          3.5686666666666724,
          3.4099999999999966,
          3.5733333333333377,
          3.2213333333333196,
          2.4253333333333273,
          2.075333333333319,
          1.586666666666673,
          1.1219999999999999,
          0.9080000000000013,
          1.1926666666666534,
          1.0173333333333403,
          0.7793333333333408,
          1.0773333333333426,
          1.1833333333333513,
          1.0460000000000065,
          0.7506666666666604,
          0.6053333333333342,
          -0.5773333333333284,
          -2.1086666666666787,
          -3.428666666666672,
          -4.307333333333318,
          -4.843333333333348,
          -5.4286666666666505,
          -4.559333333333328,
          -3.6793333333333322,
          -2.9566666666666634
         ]
        },
        {
         "mode": "lines",
         "name": "slow MA",
         "type": "scatter",
         "x": [
          "2020-04-09T00:00:00",
          "2020-04-08T00:00:00",
          "2020-04-07T00:00:00",
          "2020-04-06T00:00:00",
          "2020-04-03T00:00:00",
          "2020-04-02T00:00:00",
          "2020-04-01T00:00:00",
          "2020-03-31T00:00:00",
          "2020-03-30T00:00:00",
          "2020-03-27T00:00:00",
          "2020-03-26T00:00:00",
          "2020-03-25T00:00:00",
          "2020-03-24T00:00:00",
          "2020-03-23T00:00:00",
          "2020-03-20T00:00:00",
          "2020-03-19T00:00:00",
          "2020-03-18T00:00:00",
          "2020-03-17T00:00:00",
          "2020-03-16T00:00:00",
          "2020-03-13T00:00:00",
          "2020-03-12T00:00:00",
          "2020-03-11T00:00:00",
          "2020-03-10T00:00:00",
          "2020-03-09T00:00:00",
          "2020-03-06T00:00:00",
          "2020-03-05T00:00:00",
          "2020-03-04T00:00:00",
          "2020-03-03T00:00:00",
          "2020-03-02T00:00:00",
          "2020-02-28T00:00:00",
          "2020-02-27T00:00:00",
          "2020-02-26T00:00:00",
          "2020-02-25T00:00:00",
          "2020-02-24T00:00:00",
          "2020-02-21T00:00:00",
          "2020-02-20T00:00:00",
          "2020-02-19T00:00:00",
          "2020-02-18T00:00:00",
          "2020-02-14T00:00:00",
          "2020-02-13T00:00:00",
          "2020-02-12T00:00:00",
          "2020-02-11T00:00:00",
          "2020-02-10T00:00:00",
          "2020-02-07T00:00:00",
          "2020-02-06T00:00:00",
          "2020-02-05T00:00:00",
          "2020-02-04T00:00:00",
          "2020-02-03T00:00:00",
          "2020-01-31T00:00:00",
          "2020-01-30T00:00:00",
          "2020-01-29T00:00:00",
          "2020-01-28T00:00:00",
          "2020-01-27T00:00:00",
          "2020-01-24T00:00:00",
          "2020-01-23T00:00:00",
          "2020-01-22T00:00:00",
          "2020-01-21T00:00:00",
          "2020-01-17T00:00:00",
          "2020-01-16T00:00:00",
          "2020-01-15T00:00:00",
          "2020-01-14T00:00:00",
          "2020-01-13T00:00:00",
          "2020-01-10T00:00:00",
          "2020-01-09T00:00:00",
          "2020-01-08T00:00:00",
          "2020-01-07T00:00:00",
          "2020-01-06T00:00:00",
          "2020-01-03T00:00:00",
          "2020-01-02T00:00:00",
          "2019-12-31T00:00:00",
          "2019-12-30T00:00:00",
          "2019-12-27T00:00:00",
          "2019-12-26T00:00:00",
          "2019-12-24T00:00:00",
          "2019-12-23T00:00:00"
         ],
         "y": [
          4.026600000000002,
          7.237400000000006,
          10.254933333333344,
          12.64873333333335,
          14.013933333333352,
          13.995466666666681,
          13.07753333333335,
          11.474266666666681,
          9.581466666666678,
          7.631200000000011,
          5.396600000000012,
          3.510866666666678,
          2.2035333333333442,
          1.314600000000007,
          1.0494666666666745,
          1.647866666666674,
          2.514200000000007,
          3.614200000000004,
          4.792600000000005,
          5.973933333333337,
          7.019599999999999,
          7.943666666666663,
          8.541133333333324,
          9.047733333333323,
          9.209733333333322,
          9.142733333333323,
          9.042533333333324,
          8.797733333333326,
          8.474999999999994,
          8.213333333333331,
          8.023999999999997,
          7.831799999999999,
          7.68686666666667,
          7.482200000000004,
          7.415733333333338,
          7.275800000000006,
          7.006800000000007,
          6.690600000000006,
          6.256066666666671,
          5.5356666666666685,
          4.700333333333338,
          3.8262666666666734,
          2.9434666666666716,
          2.15113333333334,
          1.4284000000000077,
          0.9596666666666736,
          0.7688000000000059,
          0.7646666666666733,
          0.9810000000000073,
          1.449266666666675,
          1.9535333333333398,
          2.4300666666666713,
          2.8725333333333394,
          3.1674666666666695,
          3.259333333333335,
          3.2254666666666667,
          3.0504666666666664,
          2.8182666666666663,
          2.5513999999999997,
          2.30833333333333,
          2.053199999999997,
          1.7901333333333311,
          1.5405333333333318,
          1.3367333333333349,
          1.1988000000000028,
          1.066333333333337,
          0.9682000000000031,
          0.7982666666666702,
          0.49660000000000226,
          0.03446666666666971,
          -0.4979999999999961,
          -1.060266666666665,
          -1.7108666666666643,
          -2.285133333333332,
          -2.7576666666666663
         ]
        }
       ],
       "layout": {
        "annotations": [
         {
          "arrowhead": 7,
          "ax": 0,
          "ay": -40,
          "showarrow": true,
          "text": "sell",
          "x": "2020-04-01T00:00:00",
          "xref": "x",
          "y": 13.07753333333335,
          "yref": "y"
         },
         {
          "arrowhead": 7,
          "ax": 0,
          "ay": -40,
          "showarrow": true,
          "text": "buy",
          "x": "2020-03-19T00:00:00",
          "xref": "x",
          "y": 1.647866666666674,
          "yref": "y"
         },
         {
          "arrowhead": 7,
          "ax": 0,
          "ay": -40,
          "showarrow": true,
          "text": "sell",
          "x": "2020-03-04T00:00:00",
          "xref": "x",
          "y": 9.042533333333324,
          "yref": "y"
         },
         {
          "arrowhead": 7,
          "ax": 0,
          "ay": -40,
          "showarrow": true,
          "text": "buy",
          "x": "2020-02-19T00:00:00",
          "xref": "x",
          "y": 7.006800000000007,
          "yref": "y"
         },
         {
          "arrowhead": 7,
          "ax": 0,
          "ay": -40,
          "showarrow": true,
          "text": "sell",
          "x": "2020-02-13T00:00:00",
          "xref": "x",
          "y": 5.5356666666666685,
          "yref": "y"
         },
         {
          "arrowhead": 7,
          "ax": 0,
          "ay": -40,
          "showarrow": true,
          "text": "buy",
          "x": "2020-01-31T00:00:00",
          "xref": "x",
          "y": 0.9810000000000073,
          "yref": "y"
         },
         {
          "arrowhead": 7,
          "ax": 0,
          "ay": -40,
          "showarrow": true,
          "text": "sell",
          "x": "2020-01-22T00:00:00",
          "xref": "x",
          "y": 3.2254666666666667,
          "yref": "y"
         }
        ],
        "template": {
         "data": {
          "bar": [
           {
            "error_x": {
             "color": "#2a3f5f"
            },
            "error_y": {
             "color": "#2a3f5f"
            },
            "marker": {
             "line": {
              "color": "#E5ECF6",
              "width": 0.5
             }
            },
            "type": "bar"
           }
          ],
          "barpolar": [
           {
            "marker": {
             "line": {
              "color": "#E5ECF6",
              "width": 0.5
             }
            },
            "type": "barpolar"
           }
          ],
          "carpet": [
           {
            "aaxis": {
             "endlinecolor": "#2a3f5f",
             "gridcolor": "white",
             "linecolor": "white",
             "minorgridcolor": "white",
             "startlinecolor": "#2a3f5f"
            },
            "baxis": {
             "endlinecolor": "#2a3f5f",
             "gridcolor": "white",
             "linecolor": "white",
             "minorgridcolor": "white",
             "startlinecolor": "#2a3f5f"
            },
            "type": "carpet"
           }
          ],
          "choropleth": [
           {
            "colorbar": {
             "outlinewidth": 0,
             "ticks": ""
            },
            "type": "choropleth"
           }
          ],
          "contour": [
           {
            "colorbar": {
             "outlinewidth": 0,
             "ticks": ""
            },
            "colorscale": [
             [
              0,
              "#0d0887"
             ],
             [
              0.1111111111111111,
              "#46039f"
             ],
             [
              0.2222222222222222,
              "#7201a8"
             ],
             [
              0.3333333333333333,
              "#9c179e"
             ],
             [
              0.4444444444444444,
              "#bd3786"
             ],
             [
              0.5555555555555556,
              "#d8576b"
             ],
             [
              0.6666666666666666,
              "#ed7953"
             ],
             [
              0.7777777777777778,
              "#fb9f3a"
             ],
             [
              0.8888888888888888,
              "#fdca26"
             ],
             [
              1,
              "#f0f921"
             ]
            ],
            "type": "contour"
           }
          ],
          "contourcarpet": [
           {
            "colorbar": {
             "outlinewidth": 0,
             "ticks": ""
            },
            "type": "contourcarpet"
           }
          ],
          "heatmap": [
           {
            "colorbar": {
             "outlinewidth": 0,
             "ticks": ""
            },
            "colorscale": [
             [
              0,
              "#0d0887"
             ],
             [
              0.1111111111111111,
              "#46039f"
             ],
             [
              0.2222222222222222,
              "#7201a8"
             ],
             [
              0.3333333333333333,
              "#9c179e"
             ],
             [
              0.4444444444444444,
              "#bd3786"
             ],
             [
              0.5555555555555556,
              "#d8576b"
             ],
             [
              0.6666666666666666,
              "#ed7953"
             ],
             [
              0.7777777777777778,
              "#fb9f3a"
             ],
             [
              0.8888888888888888,
              "#fdca26"
             ],
             [
              1,
              "#f0f921"
             ]
            ],
            "type": "heatmap"
           }
          ],
          "heatmapgl": [
           {
            "colorbar": {
             "outlinewidth": 0,
             "ticks": ""
            },
            "colorscale": [
             [
              0,
              "#0d0887"
             ],
             [
              0.1111111111111111,
              "#46039f"
             ],
             [
              0.2222222222222222,
              "#7201a8"
             ],
             [
              0.3333333333333333,
              "#9c179e"
             ],
             [
              0.4444444444444444,
              "#bd3786"
             ],
             [
              0.5555555555555556,
              "#d8576b"
             ],
             [
              0.6666666666666666,
              "#ed7953"
             ],
             [
              0.7777777777777778,
              "#fb9f3a"
             ],
             [
              0.8888888888888888,
              "#fdca26"
             ],
             [
              1,
              "#f0f921"
             ]
            ],
            "type": "heatmapgl"
           }
          ],
          "histogram": [
           {
            "marker": {
             "colorbar": {
              "outlinewidth": 0,
              "ticks": ""
             }
            },
            "type": "histogram"
           }
          ],
          "histogram2d": [
           {
            "colorbar": {
             "outlinewidth": 0,
             "ticks": ""
            },
            "colorscale": [
             [
              0,
              "#0d0887"
             ],
             [
              0.1111111111111111,
              "#46039f"
             ],
             [
              0.2222222222222222,
              "#7201a8"
             ],
             [
              0.3333333333333333,
              "#9c179e"
             ],
             [
              0.4444444444444444,
              "#bd3786"
             ],
             [
              0.5555555555555556,
              "#d8576b"
             ],
             [
              0.6666666666666666,
              "#ed7953"
             ],
             [
              0.7777777777777778,
              "#fb9f3a"
             ],
             [
              0.8888888888888888,
              "#fdca26"
             ],
             [
              1,
              "#f0f921"
             ]
            ],
            "type": "histogram2d"
           }
          ],
          "histogram2dcontour": [
           {
            "colorbar": {
             "outlinewidth": 0,
             "ticks": ""
            },
            "colorscale": [
             [
              0,
              "#0d0887"
             ],
             [
              0.1111111111111111,
              "#46039f"
             ],
             [
              0.2222222222222222,
              "#7201a8"
             ],
             [
              0.3333333333333333,
              "#9c179e"
             ],
             [
              0.4444444444444444,
              "#bd3786"
             ],
             [
              0.5555555555555556,
              "#d8576b"
             ],
             [
              0.6666666666666666,
              "#ed7953"
             ],
             [
              0.7777777777777778,
              "#fb9f3a"
             ],
             [
              0.8888888888888888,
              "#fdca26"
             ],
             [
              1,
              "#f0f921"
             ]
            ],
            "type": "histogram2dcontour"
           }
          ],
          "mesh3d": [
           {
            "colorbar": {
             "outlinewidth": 0,
             "ticks": ""
            },
            "type": "mesh3d"
           }
          ],
          "parcoords": [
           {
            "line": {
             "colorbar": {
              "outlinewidth": 0,
              "ticks": ""
             }
            },
            "type": "parcoords"
           }
          ],
          "pie": [
           {
            "automargin": true,
            "type": "pie"
           }
          ],
          "scatter": [
           {
            "marker": {
             "colorbar": {
              "outlinewidth": 0,
              "ticks": ""
             }
            },
            "type": "scatter"
           }
          ],
          "scatter3d": [
           {
            "line": {
             "colorbar": {
              "outlinewidth": 0,
              "ticks": ""
             }
            },
            "marker": {
             "colorbar": {
              "outlinewidth": 0,
              "ticks": ""
             }
            },
            "type": "scatter3d"
           }
          ],
          "scattercarpet": [
           {
            "marker": {
             "colorbar": {
              "outlinewidth": 0,
              "ticks": ""
             }
            },
            "type": "scattercarpet"
           }
          ],
          "scattergeo": [
           {
            "marker": {
             "colorbar": {
              "outlinewidth": 0,
              "ticks": ""
             }
            },
            "type": "scattergeo"
           }
          ],
          "scattergl": [
           {
            "marker": {
             "colorbar": {
              "outlinewidth": 0,
              "ticks": ""
             }
            },
            "type": "scattergl"
           }
          ],
          "scattermapbox": [
           {
            "marker": {
             "colorbar": {
              "outlinewidth": 0,
              "ticks": ""
             }
            },
            "type": "scattermapbox"
           }
          ],
          "scatterpolar": [
           {
            "marker": {
             "colorbar": {
              "outlinewidth": 0,
              "ticks": ""
             }
            },
            "type": "scatterpolar"
           }
          ],
          "scatterpolargl": [
           {
            "marker": {
             "colorbar": {
              "outlinewidth": 0,
              "ticks": ""
             }
            },
            "type": "scatterpolargl"
           }
          ],
          "scatterternary": [
           {
            "marker": {
             "colorbar": {
              "outlinewidth": 0,
              "ticks": ""
             }
            },
            "type": "scatterternary"
           }
          ],
          "surface": [
           {
            "colorbar": {
             "outlinewidth": 0,
             "ticks": ""
            },
            "colorscale": [
             [
              0,
              "#0d0887"
             ],
             [
              0.1111111111111111,
              "#46039f"
             ],
             [
              0.2222222222222222,
              "#7201a8"
             ],
             [
              0.3333333333333333,
              "#9c179e"
             ],
             [
              0.4444444444444444,
              "#bd3786"
             ],
             [
              0.5555555555555556,
              "#d8576b"
             ],
             [
              0.6666666666666666,
              "#ed7953"
             ],
             [
              0.7777777777777778,
              "#fb9f3a"
             ],
             [
              0.8888888888888888,
              "#fdca26"
             ],
             [
              1,
              "#f0f921"
             ]
            ],
            "type": "surface"
           }
          ],
          "table": [
           {
            "cells": {
             "fill": {
              "color": "#EBF0F8"
             },
             "line": {
              "color": "white"
             }
            },
            "header": {
             "fill": {
              "color": "#C8D4E3"
             },
             "line": {
              "color": "white"
             }
            },
            "type": "table"
           }
          ]
         },
         "layout": {
          "annotationdefaults": {
           "arrowcolor": "#2a3f5f",
           "arrowhead": 0,
           "arrowwidth": 1
          },
          "coloraxis": {
           "colorbar": {
            "outlinewidth": 0,
            "ticks": ""
           }
          },
          "colorscale": {
           "diverging": [
            [
             0,
             "#8e0152"
            ],
            [
             0.1,
             "#c51b7d"
            ],
            [
             0.2,
             "#de77ae"
            ],
            [
             0.3,
             "#f1b6da"
            ],
            [
             0.4,
             "#fde0ef"
            ],
            [
             0.5,
             "#f7f7f7"
            ],
            [
             0.6,
             "#e6f5d0"
            ],
            [
             0.7,
             "#b8e186"
            ],
            [
             0.8,
             "#7fbc41"
            ],
            [
             0.9,
             "#4d9221"
            ],
            [
             1,
             "#276419"
            ]
           ],
           "sequential": [
            [
             0,
             "#0d0887"
            ],
            [
             0.1111111111111111,
             "#46039f"
            ],
            [
             0.2222222222222222,
             "#7201a8"
            ],
            [
             0.3333333333333333,
             "#9c179e"
            ],
            [
             0.4444444444444444,
             "#bd3786"
            ],
            [
             0.5555555555555556,
             "#d8576b"
            ],
            [
             0.6666666666666666,
             "#ed7953"
            ],
            [
             0.7777777777777778,
             "#fb9f3a"
            ],
            [
             0.8888888888888888,
             "#fdca26"
            ],
            [
             1,
             "#f0f921"
            ]
           ],
           "sequentialminus": [
            [
             0,
             "#0d0887"
            ],
            [
             0.1111111111111111,
             "#46039f"
            ],
            [
             0.2222222222222222,
             "#7201a8"
            ],
            [
             0.3333333333333333,
             "#9c179e"
            ],
            [
             0.4444444444444444,
             "#bd3786"
            ],
            [
             0.5555555555555556,
             "#d8576b"
            ],
            [
             0.6666666666666666,
             "#ed7953"
            ],
            [
             0.7777777777777778,
             "#fb9f3a"
            ],
            [
             0.8888888888888888,
             "#fdca26"
            ],
            [
             1,
             "#f0f921"
            ]
           ]
          },
          "colorway": [
           "#636efa",
           "#EF553B",
           "#00cc96",
           "#ab63fa",
           "#FFA15A",
           "#19d3f3",
           "#FF6692",
           "#B6E880",
           "#FF97FF",
           "#FECB52"
          ],
          "font": {
           "color": "#2a3f5f"
          },
          "geo": {
           "bgcolor": "white",
           "lakecolor": "white",
           "landcolor": "#E5ECF6",
           "showlakes": true,
           "showland": true,
           "subunitcolor": "white"
          },
          "hoverlabel": {
           "align": "left"
          },
          "hovermode": "closest",
          "mapbox": {
           "style": "light"
          },
          "paper_bgcolor": "white",
          "plot_bgcolor": "#E5ECF6",
          "polar": {
           "angularaxis": {
            "gridcolor": "white",
            "linecolor": "white",
            "ticks": ""
           },
           "bgcolor": "#E5ECF6",
           "radialaxis": {
            "gridcolor": "white",
            "linecolor": "white",
            "ticks": ""
           }
          },
          "scene": {
           "xaxis": {
            "backgroundcolor": "#E5ECF6",
            "gridcolor": "white",
            "gridwidth": 2,
            "linecolor": "white",
            "showbackground": true,
            "ticks": "",
            "zerolinecolor": "white"
           },
           "yaxis": {
            "backgroundcolor": "#E5ECF6",
            "gridcolor": "white",
            "gridwidth": 2,
            "linecolor": "white",
            "showbackground": true,
            "ticks": "",
            "zerolinecolor": "white"
           },
           "zaxis": {
            "backgroundcolor": "#E5ECF6",
            "gridcolor": "white",
            "gridwidth": 2,
            "linecolor": "white",
            "showbackground": true,
            "ticks": "",
            "zerolinecolor": "white"
           }
          },
          "shapedefaults": {
           "line": {
            "color": "#2a3f5f"
           }
          },
          "ternary": {
           "aaxis": {
            "gridcolor": "white",
            "linecolor": "white",
            "ticks": ""
           },
           "baxis": {
            "gridcolor": "white",
            "linecolor": "white",
            "ticks": ""
           },
           "bgcolor": "#E5ECF6",
           "caxis": {
            "gridcolor": "white",
            "linecolor": "white",
            "ticks": ""
           }
          },
          "title": {
           "x": 0.05
          },
          "xaxis": {
           "automargin": true,
           "gridcolor": "white",
           "linecolor": "white",
           "ticks": "",
           "title": {
            "standoff": 15
           },
           "zerolinecolor": "white",
           "zerolinewidth": 2
          },
          "yaxis": {
           "automargin": true,
           "gridcolor": "white",
           "linecolor": "white",
           "ticks": "",
           "title": {
            "standoff": 15
           },
           "zerolinecolor": "white",
           "zerolinewidth": 2
          }
         }
        },
        "title": {
         "text": "MACD of Zoom Video Communications, Inc."
        }
       }
      }
     },
     "metadata": {}
    }
   ],
   "source": [
    "graphMACD_buy_sell(y,\"ZM\",5,15,10)"
   ]
  },
  {
   "cell_type": "code",
   "execution_count": null,
   "metadata": {},
   "outputs": [],
   "source": []
  },
  {
   "cell_type": "code",
   "execution_count": 125,
   "metadata": {},
   "outputs": [
    {
     "output_type": "display_data",
     "data": {
      "text/plain": "5"
     },
     "metadata": {}
    }
   ],
   "source": [
    "from __future__ import print_function\n",
    "from ipywidgets import interact, interactive, fixed, interact_manual\n",
    "import ipywidgets as widgets\n",
    "\n",
    "def f(x):\n",
    "    return x\n",
    "\n",
    "interact(f, x = 5);\n",
    "#interact(graphMACD_buy_sell, df=y, ticker=\"ZM\", fast=12, slow=26, macd=9)"
   ]
  },
  {
   "cell_type": "code",
   "execution_count": 38,
   "metadata": {},
   "outputs": [],
   "source": [
    "tickers = input(\"Please provide stock symbols separated by commas, max 5:\") #aapl (Apple, inc.)\n",
    "\n",
    "x, y = getStockData(tickers)"
   ]
  },
  {
   "cell_type": "code",
   "execution_count": 33,
   "metadata": {},
   "outputs": [
    {
     "data": {
      "application/vnd.plotly.v1+json": {
       "config": {
        "plotlyServerURL": "https://plot.ly"
       },
       "data": [
        {
         "name": "Amazon.com, Inc.",
         "type": "scatter",
         "x": [
          "2020-03-27T00:00:00",
          "2020-03-26T00:00:00",
          "2020-03-25T00:00:00",
          "2020-03-24T00:00:00",
          "2020-03-23T00:00:00",
          "2020-03-20T00:00:00",
          "2020-03-19T00:00:00",
          "2020-03-18T00:00:00",
          "2020-03-17T00:00:00",
          "2020-03-16T00:00:00",
          "2020-03-13T00:00:00",
          "2020-03-12T00:00:00",
          "2020-03-11T00:00:00",
          "2020-03-10T00:00:00",
          "2020-03-09T00:00:00",
          "2020-03-06T00:00:00",
          "2020-03-05T00:00:00",
          "2020-03-04T00:00:00",
          "2020-03-03T00:00:00",
          "2020-03-02T00:00:00",
          "2020-02-28T00:00:00",
          "2020-02-27T00:00:00",
          "2020-02-26T00:00:00",
          "2020-02-25T00:00:00",
          "2020-02-24T00:00:00",
          "2020-02-21T00:00:00",
          "2020-02-20T00:00:00",
          "2020-02-19T00:00:00",
          "2020-02-18T00:00:00",
          "2020-02-14T00:00:00",
          "2020-02-13T00:00:00",
          "2020-02-12T00:00:00",
          "2020-02-11T00:00:00",
          "2020-02-10T00:00:00",
          "2020-02-07T00:00:00",
          "2020-02-06T00:00:00",
          "2020-02-05T00:00:00",
          "2020-02-04T00:00:00",
          "2020-02-03T00:00:00",
          "2020-01-31T00:00:00",
          "2020-01-30T00:00:00",
          "2020-01-29T00:00:00",
          "2020-01-28T00:00:00",
          "2020-01-27T00:00:00",
          "2020-01-24T00:00:00",
          "2020-01-23T00:00:00",
          "2020-01-22T00:00:00",
          "2020-01-21T00:00:00",
          "2020-01-17T00:00:00",
          "2020-01-16T00:00:00",
          "2020-01-15T00:00:00",
          "2020-01-14T00:00:00",
          "2020-01-13T00:00:00",
          "2020-01-10T00:00:00",
          "2020-01-09T00:00:00",
          "2020-01-08T00:00:00",
          "2020-01-07T00:00:00",
          "2020-01-06T00:00:00",
          "2020-01-03T00:00:00",
          "2020-01-02T00:00:00",
          "2019-12-31T00:00:00",
          "2019-12-30T00:00:00",
          "2019-12-27T00:00:00",
          "2019-12-26T00:00:00",
          "2019-12-24T00:00:00",
          "2019-12-23T00:00:00",
          "2019-12-20T00:00:00",
          "2019-12-19T00:00:00",
          "2019-12-18T00:00:00",
          "2019-12-17T00:00:00",
          "2019-12-16T00:00:00",
          "2019-12-13T00:00:00",
          "2019-12-12T00:00:00",
          "2019-12-11T00:00:00",
          "2019-12-10T00:00:00",
          "2019-12-09T00:00:00",
          "2019-12-06T00:00:00",
          "2019-12-05T00:00:00",
          "2019-12-04T00:00:00",
          "2019-12-03T00:00:00",
          "2019-12-02T00:00:00",
          "2019-11-29T00:00:00",
          "2019-11-27T00:00:00",
          "2019-11-26T00:00:00",
          "2019-11-25T00:00:00",
          "2019-11-22T00:00:00",
          "2019-11-21T00:00:00",
          "2019-11-20T00:00:00",
          "2019-11-19T00:00:00",
          "2019-11-18T00:00:00",
          "2019-11-15T00:00:00",
          "2019-11-14T00:00:00",
          "2019-11-13T00:00:00",
          "2019-11-12T00:00:00",
          "2019-11-11T00:00:00",
          "2019-11-08T00:00:00",
          "2019-11-07T00:00:00",
          "2019-11-06T00:00:00",
          "2019-11-05T00:00:00",
          "2019-11-04T00:00:00"
         ],
         "xaxis": "x",
         "y": [
          105.479,
          108.518,
          104.646,
          107.66,
          105.549,
          102.375,
          104.358,
          101.516,
          100.312,
          93.75,
          99.101,
          93.053,
          101.035,
          105.026,
          99.93,
          105.523,
          106.805,
          109.656,
          105.948,
          108.442,
          104.573,
          104.573,
          109.846,
          109.517,
          111.524,
          116.292,
          119.519,
          120.483,
          119.645,
          118.46,
          119.295,
          119.894,
          119.416,
          118.468,
          115.466,
          113.872,
          113.305,
          113.874,
          111.314,
          111.537,
          103.852,
          103.13,
          102.822,
          101.402,
          103.261,
          104.515,
          104.724,
          104.934,
          103.383,
          104.112,
          103.183,
          103.597,
          104.855,
          104.437,
          105.385,
          104.861,
          105.707,
          105.496,
          103.937,
          105.199,
          102.433,
          102.331,
          103.574,
          103.471,
          99.11,
          99.309,
          98.913,
          99.211,
          98.717,
          99.113,
          97.938,
          97.451,
          97.451,
          96.774,
          96.293,
          96.874,
          96.971,
          96.393,
          97.465,
          97.955,
          98.646,
          99.743,
          100.751,
          99.556,
          98.278,
          96.73,
          96.153,
          96.733,
          97.121,
          97.121,
          96.446,
          97.322,
          97.225,
          98.605,
          98.212,
          99.004,
          99.103,
          99.501,
          99.8,
          100
         ],
         "yaxis": "y"
        },
        {
         "name": "Visa Inc.",
         "type": "scatter",
         "x": [
          "2020-03-27T00:00:00",
          "2020-03-26T00:00:00",
          "2020-03-25T00:00:00",
          "2020-03-24T00:00:00",
          "2020-03-23T00:00:00",
          "2020-03-20T00:00:00",
          "2020-03-19T00:00:00",
          "2020-03-18T00:00:00",
          "2020-03-17T00:00:00",
          "2020-03-16T00:00:00",
          "2020-03-13T00:00:00",
          "2020-03-12T00:00:00",
          "2020-03-11T00:00:00",
          "2020-03-10T00:00:00",
          "2020-03-09T00:00:00",
          "2020-03-06T00:00:00",
          "2020-03-05T00:00:00",
          "2020-03-04T00:00:00",
          "2020-03-03T00:00:00",
          "2020-03-02T00:00:00",
          "2020-02-28T00:00:00",
          "2020-02-27T00:00:00",
          "2020-02-26T00:00:00",
          "2020-02-25T00:00:00",
          "2020-02-24T00:00:00",
          "2020-02-21T00:00:00",
          "2020-02-20T00:00:00",
          "2020-02-19T00:00:00",
          "2020-02-18T00:00:00",
          "2020-02-14T00:00:00",
          "2020-02-13T00:00:00",
          "2020-02-12T00:00:00",
          "2020-02-11T00:00:00",
          "2020-02-10T00:00:00",
          "2020-02-07T00:00:00",
          "2020-02-06T00:00:00",
          "2020-02-05T00:00:00",
          "2020-02-04T00:00:00",
          "2020-02-03T00:00:00",
          "2020-01-31T00:00:00",
          "2020-01-30T00:00:00",
          "2020-01-29T00:00:00",
          "2020-01-28T00:00:00",
          "2020-01-27T00:00:00",
          "2020-01-24T00:00:00",
          "2020-01-23T00:00:00",
          "2020-01-22T00:00:00",
          "2020-01-21T00:00:00",
          "2020-01-17T00:00:00",
          "2020-01-16T00:00:00",
          "2020-01-15T00:00:00",
          "2020-01-14T00:00:00",
          "2020-01-13T00:00:00",
          "2020-01-10T00:00:00",
          "2020-01-09T00:00:00",
          "2020-01-08T00:00:00",
          "2020-01-07T00:00:00",
          "2020-01-06T00:00:00",
          "2020-01-03T00:00:00",
          "2020-01-02T00:00:00",
          "2019-12-31T00:00:00",
          "2019-12-30T00:00:00",
          "2019-12-27T00:00:00",
          "2019-12-26T00:00:00",
          "2019-12-24T00:00:00",
          "2019-12-23T00:00:00",
          "2019-12-20T00:00:00",
          "2019-12-19T00:00:00",
          "2019-12-18T00:00:00",
          "2019-12-17T00:00:00",
          "2019-12-16T00:00:00",
          "2019-12-13T00:00:00",
          "2019-12-12T00:00:00",
          "2019-12-11T00:00:00",
          "2019-12-10T00:00:00",
          "2019-12-09T00:00:00",
          "2019-12-06T00:00:00",
          "2019-12-05T00:00:00",
          "2019-12-04T00:00:00",
          "2019-12-03T00:00:00",
          "2019-12-02T00:00:00",
          "2019-11-29T00:00:00",
          "2019-11-27T00:00:00",
          "2019-11-26T00:00:00",
          "2019-11-25T00:00:00",
          "2019-11-22T00:00:00",
          "2019-11-21T00:00:00",
          "2019-11-20T00:00:00",
          "2019-11-19T00:00:00",
          "2019-11-18T00:00:00",
          "2019-11-15T00:00:00",
          "2019-11-14T00:00:00",
          "2019-11-13T00:00:00",
          "2019-11-12T00:00:00",
          "2019-11-11T00:00:00",
          "2019-11-08T00:00:00",
          "2019-11-07T00:00:00",
          "2019-11-06T00:00:00"
         ],
         "xaxis": "x2",
         "y": [
          91.727,
          95.848,
          91.808,
          87.687,
          77.054,
          83.392,
          86.506,
          84.396,
          89.783,
          86.413,
          99.9,
          90.984,
          98.255,
          103.754,
          97.239,
          104.783,
          106.271,
          110.469,
          105.611,
          109.328,
          103.335,
          102.312,
          106.353,
          106.995,
          112.864,
          118.555,
          119.995,
          121.085,
          119.886,
          119.408,
          117.759,
          117.641,
          115.675,
          116.843,
          115.003,
          115.118,
          115.003,
          115.465,
          113.871,
          112.855,
          118.049,
          116.19,
          115.04,
          114.354,
          116.213,
          117.032,
          117.857,
          117.504,
          115.996,
          113.833,
          113.154,
          111.044,
          110.602,
          109.724,
          109.396,
          108.636,
          106.82,
          107.141,
          107.356,
          108.222,
          106.413,
          106.413,
          107.271,
          107.164,
          106.313,
          105.995,
          106.528,
          105.683,
          104.74,
          105.055,
          105.477,
          104.848,
          103.4,
          103.091,
          103.194,
          103.608,
          103.195,
          102.989,
          102.273,
          102.994,
          102.891,
          104.458,
          104.354,
          103.321,
          102.399,
          101.586,
          101.79,
          102.818,
          103.439,
          101.71,
          101.812,
          101.812,
          101.406,
          101.609,
          101.507,
          101.203,
          100.9,
          100
         ],
         "yaxis": "y2"
        },
        {
         "name": "Zoom Video Communications, Inc.",
         "type": "scatter",
         "x": [
          "2020-03-27T00:00:00",
          "2020-03-26T00:00:00",
          "2020-03-25T00:00:00",
          "2020-03-24T00:00:00",
          "2020-03-23T00:00:00",
          "2020-03-20T00:00:00",
          "2020-03-19T00:00:00",
          "2020-03-18T00:00:00",
          "2020-03-17T00:00:00",
          "2020-03-16T00:00:00",
          "2020-03-13T00:00:00",
          "2020-03-12T00:00:00",
          "2020-03-11T00:00:00",
          "2020-03-10T00:00:00",
          "2020-03-09T00:00:00",
          "2020-03-06T00:00:00",
          "2020-03-05T00:00:00",
          "2020-03-04T00:00:00",
          "2020-03-03T00:00:00",
          "2020-03-02T00:00:00",
          "2020-02-28T00:00:00",
          "2020-02-27T00:00:00",
          "2020-02-26T00:00:00",
          "2020-02-25T00:00:00",
          "2020-02-24T00:00:00",
          "2020-02-21T00:00:00",
          "2020-02-20T00:00:00",
          "2020-02-19T00:00:00",
          "2020-02-18T00:00:00",
          "2020-02-14T00:00:00",
          "2020-02-13T00:00:00",
          "2020-02-12T00:00:00",
          "2020-02-11T00:00:00",
          "2020-02-10T00:00:00",
          "2020-02-07T00:00:00",
          "2020-02-06T00:00:00",
          "2020-02-05T00:00:00",
          "2020-02-04T00:00:00",
          "2020-02-03T00:00:00",
          "2020-01-31T00:00:00",
          "2020-01-30T00:00:00",
          "2020-01-29T00:00:00",
          "2020-01-28T00:00:00",
          "2020-01-27T00:00:00",
          "2020-01-24T00:00:00",
          "2020-01-23T00:00:00",
          "2020-01-22T00:00:00",
          "2020-01-21T00:00:00",
          "2020-01-17T00:00:00",
          "2020-01-16T00:00:00",
          "2020-01-15T00:00:00",
          "2020-01-14T00:00:00",
          "2020-01-13T00:00:00",
          "2020-01-10T00:00:00",
          "2020-01-09T00:00:00",
          "2020-01-08T00:00:00",
          "2020-01-07T00:00:00",
          "2020-01-06T00:00:00",
          "2020-01-03T00:00:00",
          "2020-01-02T00:00:00",
          "2019-12-31T00:00:00",
          "2019-12-30T00:00:00",
          "2019-12-27T00:00:00",
          "2019-12-26T00:00:00",
          "2019-12-24T00:00:00",
          "2019-12-23T00:00:00",
          "2019-12-20T00:00:00",
          "2019-12-19T00:00:00",
          "2019-12-18T00:00:00",
          "2019-12-17T00:00:00",
          "2019-12-16T00:00:00",
          "2019-12-13T00:00:00",
          "2019-12-12T00:00:00",
          "2019-12-11T00:00:00",
          "2019-12-10T00:00:00",
          "2019-12-09T00:00:00",
          "2019-12-06T00:00:00",
          "2019-12-05T00:00:00",
          "2019-12-04T00:00:00",
          "2019-12-03T00:00:00",
          "2019-12-02T00:00:00",
          "2019-11-29T00:00:00",
          "2019-11-27T00:00:00",
          "2019-11-26T00:00:00",
          "2019-11-25T00:00:00",
          "2019-11-22T00:00:00",
          "2019-11-21T00:00:00",
          "2019-11-20T00:00:00",
          "2019-11-19T00:00:00",
          "2019-11-18T00:00:00",
          "2019-11-15T00:00:00",
          "2019-11-14T00:00:00",
          "2019-11-13T00:00:00",
          "2019-11-12T00:00:00",
          "2019-11-11T00:00:00",
          "2019-11-08T00:00:00",
          "2019-11-07T00:00:00",
          "2019-11-06T00:00:00",
          "2019-11-05T00:00:00",
          "2019-11-04T00:00:00"
         ],
         "xaxis": "x3",
         "y": [
          216.746,
          201.624,
          197.284,
          193.037,
          227.907,
          186.503,
          176.78,
          169.492,
          158.7,
          154.078,
          153.464,
          156.277,
          157.537,
          154.904,
          162.373,
          163.189,
          178.349,
          166.681,
          167.687,
          161.393,
          149.854,
          162.004,
          152.546,
          152.852,
          149.855,
          145.208,
          150.319,
          148.39,
          137.653,
          129.861,
          128.321,
          126.052,
          126.685,
          128.094,
          126.575,
          124.582,
          124.209,
          122.494,
          125.122,
          108.896,
          106.344,
          104.979,
          102.02,
          100.512,
          104.157,
          106.283,
          107.792,
          109.545,
          107.926,
          108.687,
          109.896,
          104.464,
          105.733,
          104.376,
          103.753,
          103.649,
          102.724,
          100.513,
          96.185,
          98.248,
          97.275,
          95.461,
          95.27,
          96.427,
          95.002,
          94.529,
          95.677,
          97.431,
          96.562,
          94.483,
          94.767,
          90.773,
          89.256,
          90.707,
          92.182,
          94.159,
          89.59,
          99.434,
          99.833,
          99.933,
          98.359,
          106.334,
          105.7,
          107.201,
          106.35,
          104.367,
          99.777,
          101.296,
          99.407,
          100.007,
          99.907,
          96.622,
          97.01,
          97.01,
          97.596,
          99.689,
          95.305,
          95.305,
          95.4,
          100
         ],
         "yaxis": "y3"
        },
        {
         "name": "Slack Technologies, Inc.",
         "type": "scatter",
         "x": [
          "2020-03-27T00:00:00",
          "2020-03-26T00:00:00",
          "2020-03-25T00:00:00",
          "2020-03-24T00:00:00",
          "2020-03-23T00:00:00",
          "2020-03-20T00:00:00",
          "2020-03-19T00:00:00",
          "2020-03-18T00:00:00",
          "2020-03-17T00:00:00",
          "2020-03-16T00:00:00",
          "2020-03-13T00:00:00",
          "2020-03-12T00:00:00",
          "2020-03-11T00:00:00",
          "2020-03-10T00:00:00",
          "2020-03-09T00:00:00",
          "2020-03-06T00:00:00",
          "2020-03-05T00:00:00",
          "2020-03-04T00:00:00",
          "2020-03-03T00:00:00",
          "2020-03-02T00:00:00",
          "2020-02-28T00:00:00",
          "2020-02-27T00:00:00",
          "2020-02-26T00:00:00",
          "2020-02-25T00:00:00",
          "2020-02-24T00:00:00",
          "2020-02-21T00:00:00",
          "2020-02-20T00:00:00",
          "2020-02-19T00:00:00",
          "2020-02-18T00:00:00",
          "2020-02-14T00:00:00",
          "2020-02-13T00:00:00",
          "2020-02-12T00:00:00",
          "2020-02-11T00:00:00",
          "2020-02-10T00:00:00",
          "2020-02-07T00:00:00",
          "2020-02-06T00:00:00",
          "2020-02-05T00:00:00",
          "2020-02-04T00:00:00",
          "2020-02-03T00:00:00",
          "2020-01-31T00:00:00",
          "2020-01-30T00:00:00",
          "2020-01-29T00:00:00",
          "2020-01-28T00:00:00",
          "2020-01-27T00:00:00",
          "2020-01-24T00:00:00",
          "2020-01-23T00:00:00",
          "2020-01-22T00:00:00",
          "2020-01-21T00:00:00",
          "2020-01-17T00:00:00",
          "2020-01-16T00:00:00",
          "2020-01-15T00:00:00",
          "2020-01-14T00:00:00",
          "2020-01-13T00:00:00",
          "2020-01-10T00:00:00",
          "2020-01-09T00:00:00",
          "2020-01-08T00:00:00",
          "2020-01-07T00:00:00",
          "2020-01-06T00:00:00",
          "2020-01-03T00:00:00",
          "2020-01-02T00:00:00",
          "2019-12-31T00:00:00",
          "2019-12-30T00:00:00",
          "2019-12-27T00:00:00",
          "2019-12-26T00:00:00",
          "2019-12-24T00:00:00",
          "2019-12-23T00:00:00",
          "2019-12-20T00:00:00",
          "2019-12-19T00:00:00",
          "2019-12-18T00:00:00",
          "2019-12-17T00:00:00",
          "2019-12-16T00:00:00",
          "2019-12-13T00:00:00",
          "2019-12-12T00:00:00",
          "2019-12-11T00:00:00",
          "2019-12-10T00:00:00",
          "2019-12-09T00:00:00",
          "2019-12-06T00:00:00",
          "2019-12-05T00:00:00",
          "2019-12-04T00:00:00",
          "2019-12-03T00:00:00",
          "2019-12-02T00:00:00",
          "2019-11-29T00:00:00",
          "2019-11-27T00:00:00",
          "2019-11-26T00:00:00",
          "2019-11-25T00:00:00",
          "2019-11-22T00:00:00",
          "2019-11-21T00:00:00",
          "2019-11-20T00:00:00",
          "2019-11-19T00:00:00",
          "2019-11-18T00:00:00",
          "2019-11-15T00:00:00",
          "2019-11-14T00:00:00",
          "2019-11-13T00:00:00",
          "2019-11-12T00:00:00",
          "2019-11-11T00:00:00",
          "2019-11-08T00:00:00",
          "2019-11-07T00:00:00",
          "2019-11-06T00:00:00",
          "2019-11-05T00:00:00",
          "2019-11-04T00:00:00"
         ],
         "xaxis": "x4",
         "y": [
          130.152,
          129.633,
          117.848,
          118.203,
          112.789,
          101.338,
          95.783,
          82.076,
          90.692,
          77.647,
          89.25,
          97.222,
          107.547,
          114.048,
          113.255,
          120.228,
          129.139,
          126.483,
          122.442,
          123.804,
          122.943,
          119.246,
          121.062,
          121.67,
          127.004,
          129.332,
          124.958,
          124.958,
          125.334,
          127.243,
          120.724,
          117.322,
          118.149,
          120.683,
          104.578,
          103.033,
          106.001,
          105.684,
          95.383,
          94.252,
          93.876,
          94.633,
          95.492,
          91.293,
          93.73,
          96.629,
          100.865,
          101.678,
          102.395,
          104.698,
          101.747,
          101.544,
          105.775,
          105.459,
          105.67,
          108.38,
          108.706,
          107.311,
          102.494,
          105.014,
          102.553,
          101.337,
          100.334,
          100.334,
          97.412,
          98.198,
          98.1,
          96.841,
          96.359,
          94.47,
          97.694,
          97.596,
          95.402,
          94.739,
          101.542,
          105.007,
          102.747,
          103.995,
          98.855,
          102.974,
          102.666,
          104.124,
          103.195,
          100.776,
          102.623,
          96.541,
          95.775,
          98.941,
          96.528,
          105.38,
          104.233,
          98.893,
          97.144,
          94.406,
          91.835,
          93.518,
          92.776,
          91.857,
          94.6,
          100
         ],
         "yaxis": "y4"
        }
       ],
       "layout": {
        "template": {
         "data": {
          "bar": [
           {
            "error_x": {
             "color": "#2a3f5f"
            },
            "error_y": {
             "color": "#2a3f5f"
            },
            "marker": {
             "line": {
              "color": "#E5ECF6",
              "width": 0.5
             }
            },
            "type": "bar"
           }
          ],
          "barpolar": [
           {
            "marker": {
             "line": {
              "color": "#E5ECF6",
              "width": 0.5
             }
            },
            "type": "barpolar"
           }
          ],
          "carpet": [
           {
            "aaxis": {
             "endlinecolor": "#2a3f5f",
             "gridcolor": "white",
             "linecolor": "white",
             "minorgridcolor": "white",
             "startlinecolor": "#2a3f5f"
            },
            "baxis": {
             "endlinecolor": "#2a3f5f",
             "gridcolor": "white",
             "linecolor": "white",
             "minorgridcolor": "white",
             "startlinecolor": "#2a3f5f"
            },
            "type": "carpet"
           }
          ],
          "choropleth": [
           {
            "colorbar": {
             "outlinewidth": 0,
             "ticks": ""
            },
            "type": "choropleth"
           }
          ],
          "contour": [
           {
            "colorbar": {
             "outlinewidth": 0,
             "ticks": ""
            },
            "colorscale": [
             [
              0,
              "#0d0887"
             ],
             [
              0.1111111111111111,
              "#46039f"
             ],
             [
              0.2222222222222222,
              "#7201a8"
             ],
             [
              0.3333333333333333,
              "#9c179e"
             ],
             [
              0.4444444444444444,
              "#bd3786"
             ],
             [
              0.5555555555555556,
              "#d8576b"
             ],
             [
              0.6666666666666666,
              "#ed7953"
             ],
             [
              0.7777777777777778,
              "#fb9f3a"
             ],
             [
              0.8888888888888888,
              "#fdca26"
             ],
             [
              1,
              "#f0f921"
             ]
            ],
            "type": "contour"
           }
          ],
          "contourcarpet": [
           {
            "colorbar": {
             "outlinewidth": 0,
             "ticks": ""
            },
            "type": "contourcarpet"
           }
          ],
          "heatmap": [
           {
            "colorbar": {
             "outlinewidth": 0,
             "ticks": ""
            },
            "colorscale": [
             [
              0,
              "#0d0887"
             ],
             [
              0.1111111111111111,
              "#46039f"
             ],
             [
              0.2222222222222222,
              "#7201a8"
             ],
             [
              0.3333333333333333,
              "#9c179e"
             ],
             [
              0.4444444444444444,
              "#bd3786"
             ],
             [
              0.5555555555555556,
              "#d8576b"
             ],
             [
              0.6666666666666666,
              "#ed7953"
             ],
             [
              0.7777777777777778,
              "#fb9f3a"
             ],
             [
              0.8888888888888888,
              "#fdca26"
             ],
             [
              1,
              "#f0f921"
             ]
            ],
            "type": "heatmap"
           }
          ],
          "heatmapgl": [
           {
            "colorbar": {
             "outlinewidth": 0,
             "ticks": ""
            },
            "colorscale": [
             [
              0,
              "#0d0887"
             ],
             [
              0.1111111111111111,
              "#46039f"
             ],
             [
              0.2222222222222222,
              "#7201a8"
             ],
             [
              0.3333333333333333,
              "#9c179e"
             ],
             [
              0.4444444444444444,
              "#bd3786"
             ],
             [
              0.5555555555555556,
              "#d8576b"
             ],
             [
              0.6666666666666666,
              "#ed7953"
             ],
             [
              0.7777777777777778,
              "#fb9f3a"
             ],
             [
              0.8888888888888888,
              "#fdca26"
             ],
             [
              1,
              "#f0f921"
             ]
            ],
            "type": "heatmapgl"
           }
          ],
          "histogram": [
           {
            "marker": {
             "colorbar": {
              "outlinewidth": 0,
              "ticks": ""
             }
            },
            "type": "histogram"
           }
          ],
          "histogram2d": [
           {
            "colorbar": {
             "outlinewidth": 0,
             "ticks": ""
            },
            "colorscale": [
             [
              0,
              "#0d0887"
             ],
             [
              0.1111111111111111,
              "#46039f"
             ],
             [
              0.2222222222222222,
              "#7201a8"
             ],
             [
              0.3333333333333333,
              "#9c179e"
             ],
             [
              0.4444444444444444,
              "#bd3786"
             ],
             [
              0.5555555555555556,
              "#d8576b"
             ],
             [
              0.6666666666666666,
              "#ed7953"
             ],
             [
              0.7777777777777778,
              "#fb9f3a"
             ],
             [
              0.8888888888888888,
              "#fdca26"
             ],
             [
              1,
              "#f0f921"
             ]
            ],
            "type": "histogram2d"
           }
          ],
          "histogram2dcontour": [
           {
            "colorbar": {
             "outlinewidth": 0,
             "ticks": ""
            },
            "colorscale": [
             [
              0,
              "#0d0887"
             ],
             [
              0.1111111111111111,
              "#46039f"
             ],
             [
              0.2222222222222222,
              "#7201a8"
             ],
             [
              0.3333333333333333,
              "#9c179e"
             ],
             [
              0.4444444444444444,
              "#bd3786"
             ],
             [
              0.5555555555555556,
              "#d8576b"
             ],
             [
              0.6666666666666666,
              "#ed7953"
             ],
             [
              0.7777777777777778,
              "#fb9f3a"
             ],
             [
              0.8888888888888888,
              "#fdca26"
             ],
             [
              1,
              "#f0f921"
             ]
            ],
            "type": "histogram2dcontour"
           }
          ],
          "mesh3d": [
           {
            "colorbar": {
             "outlinewidth": 0,
             "ticks": ""
            },
            "type": "mesh3d"
           }
          ],
          "parcoords": [
           {
            "line": {
             "colorbar": {
              "outlinewidth": 0,
              "ticks": ""
             }
            },
            "type": "parcoords"
           }
          ],
          "pie": [
           {
            "automargin": true,
            "type": "pie"
           }
          ],
          "scatter": [
           {
            "marker": {
             "colorbar": {
              "outlinewidth": 0,
              "ticks": ""
             }
            },
            "type": "scatter"
           }
          ],
          "scatter3d": [
           {
            "line": {
             "colorbar": {
              "outlinewidth": 0,
              "ticks": ""
             }
            },
            "marker": {
             "colorbar": {
              "outlinewidth": 0,
              "ticks": ""
             }
            },
            "type": "scatter3d"
           }
          ],
          "scattercarpet": [
           {
            "marker": {
             "colorbar": {
              "outlinewidth": 0,
              "ticks": ""
             }
            },
            "type": "scattercarpet"
           }
          ],
          "scattergeo": [
           {
            "marker": {
             "colorbar": {
              "outlinewidth": 0,
              "ticks": ""
             }
            },
            "type": "scattergeo"
           }
          ],
          "scattergl": [
           {
            "marker": {
             "colorbar": {
              "outlinewidth": 0,
              "ticks": ""
             }
            },
            "type": "scattergl"
           }
          ],
          "scattermapbox": [
           {
            "marker": {
             "colorbar": {
              "outlinewidth": 0,
              "ticks": ""
             }
            },
            "type": "scattermapbox"
           }
          ],
          "scatterpolar": [
           {
            "marker": {
             "colorbar": {
              "outlinewidth": 0,
              "ticks": ""
             }
            },
            "type": "scatterpolar"
           }
          ],
          "scatterpolargl": [
           {
            "marker": {
             "colorbar": {
              "outlinewidth": 0,
              "ticks": ""
             }
            },
            "type": "scatterpolargl"
           }
          ],
          "scatterternary": [
           {
            "marker": {
             "colorbar": {
              "outlinewidth": 0,
              "ticks": ""
             }
            },
            "type": "scatterternary"
           }
          ],
          "surface": [
           {
            "colorbar": {
             "outlinewidth": 0,
             "ticks": ""
            },
            "colorscale": [
             [
              0,
              "#0d0887"
             ],
             [
              0.1111111111111111,
              "#46039f"
             ],
             [
              0.2222222222222222,
              "#7201a8"
             ],
             [
              0.3333333333333333,
              "#9c179e"
             ],
             [
              0.4444444444444444,
              "#bd3786"
             ],
             [
              0.5555555555555556,
              "#d8576b"
             ],
             [
              0.6666666666666666,
              "#ed7953"
             ],
             [
              0.7777777777777778,
              "#fb9f3a"
             ],
             [
              0.8888888888888888,
              "#fdca26"
             ],
             [
              1,
              "#f0f921"
             ]
            ],
            "type": "surface"
           }
          ],
          "table": [
           {
            "cells": {
             "fill": {
              "color": "#EBF0F8"
             },
             "line": {
              "color": "white"
             }
            },
            "header": {
             "fill": {
              "color": "#C8D4E3"
             },
             "line": {
              "color": "white"
             }
            },
            "type": "table"
           }
          ]
         },
         "layout": {
          "annotationdefaults": {
           "arrowcolor": "#2a3f5f",
           "arrowhead": 0,
           "arrowwidth": 1
          },
          "coloraxis": {
           "colorbar": {
            "outlinewidth": 0,
            "ticks": ""
           }
          },
          "colorscale": {
           "diverging": [
            [
             0,
             "#8e0152"
            ],
            [
             0.1,
             "#c51b7d"
            ],
            [
             0.2,
             "#de77ae"
            ],
            [
             0.3,
             "#f1b6da"
            ],
            [
             0.4,
             "#fde0ef"
            ],
            [
             0.5,
             "#f7f7f7"
            ],
            [
             0.6,
             "#e6f5d0"
            ],
            [
             0.7,
             "#b8e186"
            ],
            [
             0.8,
             "#7fbc41"
            ],
            [
             0.9,
             "#4d9221"
            ],
            [
             1,
             "#276419"
            ]
           ],
           "sequential": [
            [
             0,
             "#0d0887"
            ],
            [
             0.1111111111111111,
             "#46039f"
            ],
            [
             0.2222222222222222,
             "#7201a8"
            ],
            [
             0.3333333333333333,
             "#9c179e"
            ],
            [
             0.4444444444444444,
             "#bd3786"
            ],
            [
             0.5555555555555556,
             "#d8576b"
            ],
            [
             0.6666666666666666,
             "#ed7953"
            ],
            [
             0.7777777777777778,
             "#fb9f3a"
            ],
            [
             0.8888888888888888,
             "#fdca26"
            ],
            [
             1,
             "#f0f921"
            ]
           ],
           "sequentialminus": [
            [
             0,
             "#0d0887"
            ],
            [
             0.1111111111111111,
             "#46039f"
            ],
            [
             0.2222222222222222,
             "#7201a8"
            ],
            [
             0.3333333333333333,
             "#9c179e"
            ],
            [
             0.4444444444444444,
             "#bd3786"
            ],
            [
             0.5555555555555556,
             "#d8576b"
            ],
            [
             0.6666666666666666,
             "#ed7953"
            ],
            [
             0.7777777777777778,
             "#fb9f3a"
            ],
            [
             0.8888888888888888,
             "#fdca26"
            ],
            [
             1,
             "#f0f921"
            ]
           ]
          },
          "colorway": [
           "#636efa",
           "#EF553B",
           "#00cc96",
           "#ab63fa",
           "#FFA15A",
           "#19d3f3",
           "#FF6692",
           "#B6E880",
           "#FF97FF",
           "#FECB52"
          ],
          "font": {
           "color": "#2a3f5f"
          },
          "geo": {
           "bgcolor": "white",
           "lakecolor": "white",
           "landcolor": "#E5ECF6",
           "showlakes": true,
           "showland": true,
           "subunitcolor": "white"
          },
          "hoverlabel": {
           "align": "left"
          },
          "hovermode": "closest",
          "mapbox": {
           "style": "light"
          },
          "paper_bgcolor": "white",
          "plot_bgcolor": "#E5ECF6",
          "polar": {
           "angularaxis": {
            "gridcolor": "white",
            "linecolor": "white",
            "ticks": ""
           },
           "bgcolor": "#E5ECF6",
           "radialaxis": {
            "gridcolor": "white",
            "linecolor": "white",
            "ticks": ""
           }
          },
          "scene": {
           "xaxis": {
            "backgroundcolor": "#E5ECF6",
            "gridcolor": "white",
            "gridwidth": 2,
            "linecolor": "white",
            "showbackground": true,
            "ticks": "",
            "zerolinecolor": "white"
           },
           "yaxis": {
            "backgroundcolor": "#E5ECF6",
            "gridcolor": "white",
            "gridwidth": 2,
            "linecolor": "white",
            "showbackground": true,
            "ticks": "",
            "zerolinecolor": "white"
           },
           "zaxis": {
            "backgroundcolor": "#E5ECF6",
            "gridcolor": "white",
            "gridwidth": 2,
            "linecolor": "white",
            "showbackground": true,
            "ticks": "",
            "zerolinecolor": "white"
           }
          },
          "shapedefaults": {
           "line": {
            "color": "#2a3f5f"
           }
          },
          "ternary": {
           "aaxis": {
            "gridcolor": "white",
            "linecolor": "white",
            "ticks": ""
           },
           "baxis": {
            "gridcolor": "white",
            "linecolor": "white",
            "ticks": ""
           },
           "bgcolor": "#E5ECF6",
           "caxis": {
            "gridcolor": "white",
            "linecolor": "white",
            "ticks": ""
           }
          },
          "title": {
           "x": 0.05
          },
          "xaxis": {
           "automargin": true,
           "gridcolor": "white",
           "linecolor": "white",
           "ticks": "",
           "title": {
            "standoff": 15
           },
           "zerolinecolor": "white",
           "zerolinewidth": 2
          },
          "yaxis": {
           "automargin": true,
           "gridcolor": "white",
           "linecolor": "white",
           "ticks": "",
           "title": {
            "standoff": 15
           },
           "zerolinecolor": "white",
           "zerolinewidth": 2
          }
         }
        },
        "title": {
         "text": "Normalized Stock Returns of Slack Technologies, Inc."
        },
        "xaxis": {
         "anchor": "y",
         "domain": [
          0,
          1
         ]
        },
        "xaxis2": {
         "anchor": "y2",
         "domain": [
          0,
          1
         ]
        },
        "xaxis3": {
         "anchor": "y3",
         "domain": [
          0,
          1
         ]
        },
        "xaxis4": {
         "anchor": "y4",
         "domain": [
          0,
          1
         ]
        },
        "yaxis": {
         "anchor": "x",
         "domain": [
          0.80625,
          1
         ]
        },
        "yaxis2": {
         "anchor": "x2",
         "domain": [
          0.5375,
          0.73125
         ]
        },
        "yaxis3": {
         "anchor": "x3",
         "domain": [
          0.26875,
          0.4625
         ]
        },
        "yaxis4": {
         "anchor": "x4",
         "domain": [
          0,
          0.19375
         ]
        }
       }
      }
     },
     "metadata": {},
     "output_type": "display_data"
    }
   ],
   "source": [
    "import plotly.graph_objects as go\n",
    "from plotly.subplots import make_subplots\n",
    "\n",
    "fig = make_subplots(rows=len(stock_names), cols=1)\n",
    "\n",
    "count = 1\n",
    "\n",
    "for x in stock_names:\n",
    "    fig.add_trace(\n",
    "        go.Scatter(x=stock_data[x]['Date'], y=stock_data[x]['Normalized Returns'], name=stock_names[x]),\n",
    "        row= count, col=1)\n",
    "        \n",
    "    count +=1\n",
    "\n",
    "fig.update_layout(title='Normalized Stock Returns of {}'.format(stock_names[x]))\n",
    "\n",
    "fig.show()"
   ]
  }
 ]
}